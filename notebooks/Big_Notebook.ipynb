{
 "cells": [
  {
   "cell_type": "code",
   "execution_count": null,
   "id": "1a8e83ab",
   "metadata": {},
   "outputs": [],
   "source": [
    "# import packages"
   ]
  },
  {
   "cell_type": "code",
   "execution_count": null,
   "id": "e69abe3d",
   "metadata": {},
   "outputs": [],
   "source": [
    "from pandas.io.json import json_normalize\n",
    "import json\n",
    "from pandasql import sqldf\n",
    "import pandas as pd\n",
    "import numpy as np\n",
    "import matplotlib.pyplot as plt\n",
    "import seaborn as sns\n",
    "from bs4 import BeautifulSoup\n",
    "import io\n",
    "import requests\n",
    "import json\n",
    "import base64\n",
    "import datetime\n",
    "from urllib.parse import urlencode"
   ]
  },
  {
   "cell_type": "code",
   "execution_count": null,
   "id": "9843a144",
   "metadata": {},
   "outputs": [],
   "source": [
    "# client id"
   ]
  },
  {
   "cell_type": "code",
   "execution_count": null,
   "id": "eacd5d1a",
   "metadata": {},
   "outputs": [],
   "source": [
    "client_id = '6e24789ec7874259a220f747fcd7e93e'\n",
    "client_secret = '9bd8ff1ad2f34ef6a87f00124be070b2'"
   ]
  },
  {
   "cell_type": "code",
   "execution_count": null,
   "id": "88368798",
   "metadata": {},
   "outputs": [],
   "source": [
    "class SpotifyAPI(object):\n",
    "    access_token = None\n",
    "    access_token_expires = datetime.datetime.now()\n",
    "    access_token_did_expire = True\n",
    "    client_id = None\n",
    "    client_secret = None\n",
    "    token_url = \"https://accounts.spotify.com/api/token\"\n",
    "\n",
    "\n",
    "\n",
    "    def __init__(self, client_id, client_secret, *args, **kwargs):\n",
    "        super().__init__(*args, **kwargs)\n",
    "        self.client_id = client_id\n",
    "        self.client_secret = client_secret\n",
    "\n",
    "    def getClientCreds(self):\n",
    "        '''Returns b64 encoded string'''\n",
    "        client_id = self.client_id\n",
    "        client_secret = self.client_secret\n",
    "\n",
    "        if client_id == None or client_secret == None:\n",
    "            raise Exception('Must set a client id and secret')\n",
    "\n",
    "        client_creds  = f\"{client_id}:{client_secret}\"\n",
    "        client_creds_b64 = base64.b64encode(client_creds.encode())\n",
    "        return client_creds_b64.decode()\n",
    "\n",
    "    def getTokenHeader(self):\n",
    "        client_creds_b64 = self.getClientCreds()\n",
    "        return {\n",
    "            'Authorization':f\"Basic {client_creds_b64}\"\n",
    "        }\n",
    "\n",
    "    def getTokenData(self):\n",
    "        return {\n",
    "            \"grant_type\":\"client_credentials\"\n",
    "        }\n",
    "\n",
    "    def perform_auth(self):\n",
    "        token_url = self.token_url\n",
    "        token_data = self.getTokenData()\n",
    "        token_header = self.getTokenHeader()\n",
    "\n",
    "        r = requests.post(token_url, data=token_data, headers=token_header)\n",
    "\n",
    "        if r.status_code  not in range(200,299):\n",
    "            raise Exception('Could not authenticate client.')\n",
    "            #return False\n",
    "\n",
    "        now = datetime.datetime.now()\n",
    "        token_response_data = r.json()\n",
    "        access_token = token_response_data['access_token']\n",
    "        expires_in = token_response_data['expires_in']\n",
    "        expires = now + datetime.timedelta(seconds=expires_in)\n",
    "        self.access_token = access_token\n",
    "        self.access_token_expires = expires\n",
    "        self.access_token_did_expire = expires < now\n",
    "\n",
    "\n",
    "        return True\n",
    "\n",
    "    def get_access_token(self):\n",
    "        token = self.access_token\n",
    "        expires = self.access_token_expires\n",
    "        now= datetime.datetime.now()\n",
    "        if expires < now:\n",
    "            self.perform_auth()\n",
    "            return self.get_access_token()\n",
    "        elif token == None:\n",
    "            self.perform_auth()\n",
    "            return self.get_access_token() \n",
    "        return token\n",
    "    \n",
    "    def get_resource_header(self):\n",
    "        access_token = self.get_access_token()\n",
    "        headers = {\n",
    "            \"Authorization\": f\"Bearer {access_token}\", \n",
    "        }\n",
    "        return headers\n",
    "    \n",
    "    def get_resource(self, lookup_id, resource_type='albums', version='v1'):\n",
    "        endpoint = f'https://api.spotify.com/{version}/{resource_type}/{lookup_id}'\n",
    "        headers = self.get_resource_header()\n",
    "        r = requests.get(endpoint, headers = headers)\n",
    "        if r.status_code not in range (200, 299):\n",
    "            return {}\n",
    "        return r.json()\n",
    "    \n",
    "    def get_album(self, _id ):\n",
    "        return self.get_resource(_id, resource_type='albums')\n",
    "    \n",
    "    def get_artist(self, _id ):\n",
    "        return self.get_resource(_id, resource_type='artists')\n",
    "    \n",
    "    def get_playlist(self, _id):\n",
    "        return self.get_resource(_id, resource_type='playlists')\n",
    "    \n",
    "    \n",
    "    def base_search(self, query_params): #type\n",
    "        access_token = self.get_access_token()\n",
    "        headers = self.get_resource_header()\n",
    "        endpoint = \"https://api.spotify.com/v1/search\"\n",
    "        lookup_URL = f\"{endpoint}?{query_params}\"\n",
    "        r = requests.get(lookup_URL, headers=headers)\n",
    "        if r.status_code not in range (200, 299):\n",
    "            return {}\n",
    "        return r.json()\n",
    "    \n",
    "    def search(self, query=None, operator=None, operator_query=None, search_type='artist'):\n",
    "        if query == None:\n",
    "            raise Exception('A query is required')\n",
    "        if isinstance(query, dict):\n",
    "            query = ' '.join([f'{k}:{v}' for k,v in query.items()])\n",
    "        if operator != None and operator_query != None:\n",
    "            if operator.lower() == 'or' or operator.lower() == 'not':\n",
    "                operator = operator.upper()\n",
    "                if isinstance(operator_query, str):\n",
    "                    query = f'{query} {operator} {operator_query}'\n",
    "        query_params = urlencode({'q': query, 'type': search_type.lower()})\n",
    "        return self.base_search(query_params)"
   ]
  },
  {
   "cell_type": "code",
   "execution_count": null,
   "id": "ec47b855",
   "metadata": {},
   "outputs": [],
   "source": [
    "spotify = SpotifyAPI(client_id, client_secret)"
   ]
  },
  {
   "cell_type": "markdown",
   "id": "2883b46f",
   "metadata": {},
   "source": [
    "# Top Weeks"
   ]
  },
  {
   "cell_type": "markdown",
   "id": "2f2583ef",
   "metadata": {},
   "source": [
    "# 1 radioactive"
   ]
  },
  {
   "cell_type": "code",
   "execution_count": null,
   "id": "4bd273a1",
   "metadata": {},
   "outputs": [],
   "source": [
    "radioactive = spotify.search({'track': 'Radioactive', 'artist': 'Imagine'}, search_type ='track')\n",
    "radioactive"
   ]
  },
  {
   "cell_type": "code",
   "execution_count": null,
   "id": "8db1592f",
   "metadata": {},
   "outputs": [],
   "source": [
    "test = pd.DataFrame.from_dict(radioactive,orient='columns')\n",
    "test"
   ]
  },
  {
   "cell_type": "code",
   "execution_count": null,
   "id": "3eee4a8d",
   "metadata": {},
   "outputs": [],
   "source": [
    "test= test.tracks.apply(pd.Series)\n",
    "test"
   ]
  },
  {
   "cell_type": "code",
   "execution_count": null,
   "id": "8d9ed853",
   "metadata": {},
   "outputs": [],
   "source": [
    "test2 = pd.DataFrame(test.iloc[1])\n",
    "test2"
   ]
  },
  {
   "cell_type": "code",
   "execution_count": null,
   "id": "009c0eab",
   "metadata": {},
   "outputs": [],
   "source": [
    "test3 = test2['items'].apply(pd.Series)\n",
    "test3"
   ]
  },
  {
   "cell_type": "markdown",
   "id": "36171c31",
   "metadata": {},
   "source": [
    "#  2 sail"
   ]
  },
  {
   "cell_type": "code",
   "execution_count": null,
   "id": "40e99ef5",
   "metadata": {},
   "outputs": [],
   "source": [
    "sail = spotify.search({'track': 'Sail', 'artist': 'AWOL'}, search_type ='track')\n",
    "sail"
   ]
  },
  {
   "cell_type": "code",
   "execution_count": null,
   "id": "c25ca498",
   "metadata": {},
   "outputs": [],
   "source": [
    "test = pd.DataFrame.from_dict(sail,orient='columns')\n",
    "test"
   ]
  },
  {
   "cell_type": "code",
   "execution_count": null,
   "id": "70cdc1b0",
   "metadata": {},
   "outputs": [],
   "source": [
    "test= test.tracks.apply(pd.Series)\n",
    "test"
   ]
  },
  {
   "cell_type": "code",
   "execution_count": null,
   "id": "33c777b3",
   "metadata": {},
   "outputs": [],
   "source": [
    "test2 = pd.DataFrame(test.iloc[1])\n",
    "test2"
   ]
  },
  {
   "cell_type": "code",
   "execution_count": null,
   "id": "acc1fba0",
   "metadata": {},
   "outputs": [],
   "source": [
    "test3 = test2['items'].apply(pd.Series)\n",
    "test3"
   ]
  },
  {
   "cell_type": "markdown",
   "id": "4a7902cf",
   "metadata": {},
   "source": [
    "# 3  I'm Yours"
   ]
  },
  {
   "cell_type": "code",
   "execution_count": null,
   "id": "8b693a4f",
   "metadata": {},
   "outputs": [],
   "source": [
    "Im_Yours = spotify.search({'track': 'Im Yours', 'artist': 'Jason'}, search_type ='track')\n",
    "Im_Yours"
   ]
  },
  {
   "cell_type": "code",
   "execution_count": null,
   "id": "076736c9",
   "metadata": {},
   "outputs": [],
   "source": [
    "test = pd.DataFrame.from_dict(Im_Yours,orient='columns')\n",
    "test"
   ]
  },
  {
   "cell_type": "code",
   "execution_count": null,
   "id": "c49f5a4a",
   "metadata": {},
   "outputs": [],
   "source": [
    "test= test.tracks.apply(pd.Series)\n",
    "test"
   ]
  },
  {
   "cell_type": "code",
   "execution_count": null,
   "id": "4ba6c67f",
   "metadata": {},
   "outputs": [],
   "source": [
    "test2 = pd.DataFrame(test.iloc[1])\n",
    "test2"
   ]
  },
  {
   "cell_type": "code",
   "execution_count": null,
   "id": "42a013d6",
   "metadata": {},
   "outputs": [],
   "source": [
    "test3 = test2['items'].apply(pd.Series)\n",
    "test3"
   ]
  },
  {
   "cell_type": "markdown",
   "id": "e284daf0",
   "metadata": {},
   "source": [
    "# 4 Blinding Lights"
   ]
  },
  {
   "cell_type": "code",
   "execution_count": null,
   "id": "b8d57cc5",
   "metadata": {},
   "outputs": [],
   "source": [
    "Blinding_Lights = spotify.search({'track': 'Blinding Lights', 'artist': 'The'}, search_type ='track')\n",
    "Blinding_Lights"
   ]
  },
  {
   "cell_type": "code",
   "execution_count": null,
   "id": "335850d3",
   "metadata": {},
   "outputs": [],
   "source": [
    "test = pd.DataFrame.from_dict(Blinding_Lights,orient='columns')\n",
    "test"
   ]
  },
  {
   "cell_type": "code",
   "execution_count": null,
   "id": "69ff262d",
   "metadata": {},
   "outputs": [],
   "source": [
    "test= test.tracks.apply(pd.Series)\n",
    "test"
   ]
  },
  {
   "cell_type": "code",
   "execution_count": null,
   "id": "6edae6df",
   "metadata": {},
   "outputs": [],
   "source": [
    "test2 = pd.DataFrame(test.iloc[1])\n",
    "test2"
   ]
  },
  {
   "cell_type": "code",
   "execution_count": null,
   "id": "f5a21e84",
   "metadata": {},
   "outputs": [],
   "source": [
    "test3 = test2['items'].apply(pd.Series)\n",
    "test3"
   ]
  },
  {
   "cell_type": "markdown",
   "id": "186b0d98",
   "metadata": {},
   "source": [
    "# 5 How Do I Live"
   ]
  },
  {
   "cell_type": "code",
   "execution_count": null,
   "id": "f87ea15d",
   "metadata": {},
   "outputs": [],
   "source": [
    "How_Do_I = spotify.search({'track': 'How Do I Live', 'artist': 'LeAnn'}, search_type ='track')\n",
    "How_Do_I"
   ]
  },
  {
   "cell_type": "code",
   "execution_count": null,
   "id": "e48bb79a",
   "metadata": {},
   "outputs": [],
   "source": [
    "test = pd.DataFrame.from_dict(How_Do_I,orient='columns')\n",
    "test"
   ]
  },
  {
   "cell_type": "code",
   "execution_count": null,
   "id": "6cf779d0",
   "metadata": {},
   "outputs": [],
   "source": [
    "test= test.tracks.apply(pd.Series)\n",
    "test"
   ]
  },
  {
   "cell_type": "code",
   "execution_count": null,
   "id": "729f8f7e",
   "metadata": {},
   "outputs": [],
   "source": [
    "test2 = pd.DataFrame(test.iloc[1])\n",
    "test2"
   ]
  },
  {
   "cell_type": "code",
   "execution_count": null,
   "id": "b1d64768",
   "metadata": {},
   "outputs": [],
   "source": [
    "test3 = test2['items'].apply(pd.Series)\n",
    "test3"
   ]
  },
  {
   "cell_type": "markdown",
   "id": "0c8ad12d",
   "metadata": {},
   "source": [
    "# Top Weeks @ #1"
   ]
  },
  {
   "cell_type": "markdown",
   "id": "140a120c",
   "metadata": {},
   "source": [
    "# 1 Old Town"
   ]
  },
  {
   "cell_type": "code",
   "execution_count": null,
   "id": "b5a5bbc6",
   "metadata": {},
   "outputs": [],
   "source": [
    "Old_Town = spotify.search({'track': 'Old Town Road', 'artist': 'Lil'}, search_type ='track')\n",
    "Old_Town"
   ]
  },
  {
   "cell_type": "code",
   "execution_count": null,
   "id": "db1e4c21",
   "metadata": {},
   "outputs": [],
   "source": [
    "test = pd.DataFrame.from_dict(Old_Town,orient='columns')\n",
    "test"
   ]
  },
  {
   "cell_type": "code",
   "execution_count": null,
   "id": "989a5cb2",
   "metadata": {},
   "outputs": [],
   "source": [
    "test= test.tracks.apply(pd.Series)\n",
    "test"
   ]
  },
  {
   "cell_type": "code",
   "execution_count": null,
   "id": "2a1621b4",
   "metadata": {},
   "outputs": [],
   "source": [
    "test2 = pd.DataFrame(test.iloc[1])\n",
    "test2"
   ]
  },
  {
   "cell_type": "code",
   "execution_count": null,
   "id": "6d8a8fc8",
   "metadata": {},
   "outputs": [],
   "source": [
    "test3 = test2['items'].apply(pd.Series)\n",
    "test3"
   ]
  },
  {
   "cell_type": "markdown",
   "id": "149dbce3",
   "metadata": {},
   "source": [
    "# 2 One Sweet Day"
   ]
  },
  {
   "cell_type": "code",
   "execution_count": null,
   "id": "6eb89104",
   "metadata": {},
   "outputs": [],
   "source": [
    "One_Sweet = spotify.search({'track': 'One Sweet Day', 'artist': 'Mariah'}, search_type ='track')\n",
    "One_Sweet"
   ]
  },
  {
   "cell_type": "code",
   "execution_count": null,
   "id": "bb01d15d",
   "metadata": {},
   "outputs": [],
   "source": [
    "test = pd.DataFrame.from_dict(One_Sweet,orient='columns')\n",
    "test"
   ]
  },
  {
   "cell_type": "code",
   "execution_count": null,
   "id": "3cfaca1f",
   "metadata": {},
   "outputs": [],
   "source": [
    "test= test.tracks.apply(pd.Series)\n",
    "test"
   ]
  },
  {
   "cell_type": "code",
   "execution_count": null,
   "id": "6a9f56b8",
   "metadata": {},
   "outputs": [],
   "source": [
    "test2 = pd.DataFrame(test.iloc[1])\n",
    "test2"
   ]
  },
  {
   "cell_type": "code",
   "execution_count": null,
   "id": "d94e32a1",
   "metadata": {},
   "outputs": [],
   "source": [
    "test3 = test2['items'].apply(pd.Series)\n",
    "test3"
   ]
  },
  {
   "cell_type": "markdown",
   "id": "20d8a7cf",
   "metadata": {},
   "source": [
    "# 3 Despacito"
   ]
  },
  {
   "cell_type": "code",
   "execution_count": null,
   "id": "70c9597d",
   "metadata": {},
   "outputs": [],
   "source": [
    "Despacito = spotify.search({'track': 'Despacito', 'artist': 'Luis'}, search_type ='track')\n",
    "Despacito"
   ]
  },
  {
   "cell_type": "code",
   "execution_count": null,
   "id": "04f6b41b",
   "metadata": {},
   "outputs": [],
   "source": [
    "test = pd.DataFrame.from_dict(Despacito,orient='columns')\n",
    "test"
   ]
  },
  {
   "cell_type": "code",
   "execution_count": null,
   "id": "d8369fd7",
   "metadata": {},
   "outputs": [],
   "source": [
    "test= test.tracks.apply(pd.Series)\n",
    "test"
   ]
  },
  {
   "cell_type": "code",
   "execution_count": null,
   "id": "a313d763",
   "metadata": {},
   "outputs": [],
   "source": [
    "test2 = pd.DataFrame(test.iloc[1])\n",
    "test2"
   ]
  },
  {
   "cell_type": "code",
   "execution_count": null,
   "id": "8f21a34b",
   "metadata": {},
   "outputs": [],
   "source": [
    "test3 = test2['items'].apply(pd.Series)\n",
    "test3"
   ]
  },
  {
   "cell_type": "markdown",
   "id": "badbb546",
   "metadata": {},
   "source": [
    "# 4 Candle in the Wind 1997"
   ]
  },
  {
   "cell_type": "code",
   "execution_count": null,
   "id": "e826598f",
   "metadata": {},
   "outputs": [],
   "source": [
    "Candle = spotify.search({'track': 'Candle In The Wind 1997', 'artist': 'Elton'}, search_type ='track')\n",
    "Candle"
   ]
  },
  {
   "cell_type": "code",
   "execution_count": null,
   "id": "742c47aa",
   "metadata": {},
   "outputs": [],
   "source": [
    "test = pd.DataFrame.from_dict(Candle,orient='columns')\n",
    "test"
   ]
  },
  {
   "cell_type": "code",
   "execution_count": null,
   "id": "e63685cc",
   "metadata": {},
   "outputs": [],
   "source": [
    "test= test.tracks.apply(pd.Series)\n",
    "test"
   ]
  },
  {
   "cell_type": "code",
   "execution_count": null,
   "id": "9c0d385e",
   "metadata": {},
   "outputs": [],
   "source": [
    "test2 = pd.DataFrame(test.iloc[1])\n",
    "test2"
   ]
  },
  {
   "cell_type": "code",
   "execution_count": null,
   "id": "e5e5feaa",
   "metadata": {},
   "outputs": [],
   "source": [
    "test3 = test2['items'].apply(pd.Series)\n",
    "test3"
   ]
  },
  {
   "cell_type": "markdown",
   "id": "f171e851",
   "metadata": {},
   "source": [
    "# 5 Macarena"
   ]
  },
  {
   "cell_type": "code",
   "execution_count": null,
   "id": "5b81913d",
   "metadata": {},
   "outputs": [],
   "source": [
    "Macarena_1 = spotify.search({'track': 'Macarena', 'artist': 'Los Del Rio'}, search_type ='track')\n",
    "Macarena_1"
   ]
  },
  {
   "cell_type": "code",
   "execution_count": null,
   "id": "632f1ed5",
   "metadata": {},
   "outputs": [],
   "source": [
    "test = pd.DataFrame.from_dict(Macarena_1,orient='columns')\n",
    "test"
   ]
  },
  {
   "cell_type": "code",
   "execution_count": null,
   "id": "80a3b9a5",
   "metadata": {},
   "outputs": [],
   "source": [
    "test= test.tracks.apply(pd.Series)\n",
    "test"
   ]
  },
  {
   "cell_type": "code",
   "execution_count": null,
   "id": "019cc23d",
   "metadata": {},
   "outputs": [],
   "source": [
    "test2 = pd.DataFrame(test.iloc[1])\n",
    "test2"
   ]
  },
  {
   "cell_type": "code",
   "execution_count": null,
   "id": "96f68abd",
   "metadata": {},
   "outputs": [],
   "source": [
    "test3 = test2['items'].apply(pd.Series)\n",
    "test3"
   ]
  },
  {
   "cell_type": "markdown",
   "id": "ee855bdc",
   "metadata": {},
   "source": [
    "# Top Streams"
   ]
  },
  {
   "cell_type": "markdown",
   "id": "a89534c1",
   "metadata": {},
   "source": [
    "# 1  Shape of You"
   ]
  },
  {
   "cell_type": "code",
   "execution_count": null,
   "id": "4a753851",
   "metadata": {},
   "outputs": [],
   "source": [
    "shape = spotify.search({'track': 'Shape of You', 'artist': 'Ed'}, search_type ='track')\n",
    "shape"
   ]
  },
  {
   "cell_type": "code",
   "execution_count": null,
   "id": "027f828f",
   "metadata": {},
   "outputs": [],
   "source": [
    "test = pd.DataFrame.from_dict(shape,orient='columns')\n",
    "test"
   ]
  },
  {
   "cell_type": "code",
   "execution_count": null,
   "id": "3ec59756",
   "metadata": {},
   "outputs": [],
   "source": [
    "test= test.tracks.apply(pd.Series)\n",
    "test"
   ]
  },
  {
   "cell_type": "code",
   "execution_count": null,
   "id": "c3638203",
   "metadata": {},
   "outputs": [],
   "source": [
    "test2 = pd.DataFrame(test.iloc[1])\n",
    "test2"
   ]
  },
  {
   "cell_type": "code",
   "execution_count": null,
   "id": "63a57008",
   "metadata": {},
   "outputs": [],
   "source": [
    "test3 = test2['items'].apply(pd.Series)\n",
    "test3"
   ]
  },
  {
   "cell_type": "markdown",
   "id": "a8edc98b",
   "metadata": {},
   "source": [
    "# 2 Blinding Lights"
   ]
  },
  {
   "cell_type": "code",
   "execution_count": null,
   "id": "5aa23e48",
   "metadata": {},
   "outputs": [],
   "source": [
    "Blinding_Lights = spotify.search({'track': 'Blinding Lights', 'artist': 'The'}, search_type ='track')\n",
    "Blinding_Lights"
   ]
  },
  {
   "cell_type": "code",
   "execution_count": null,
   "id": "cf28406d",
   "metadata": {},
   "outputs": [],
   "source": [
    "test = pd.DataFrame.from_dict(Blinding_Lights,orient='columns')\n",
    "test"
   ]
  },
  {
   "cell_type": "code",
   "execution_count": null,
   "id": "88e80fea",
   "metadata": {},
   "outputs": [],
   "source": [
    "test= test.tracks.apply(pd.Series)\n",
    "test"
   ]
  },
  {
   "cell_type": "code",
   "execution_count": null,
   "id": "f8a29892",
   "metadata": {},
   "outputs": [],
   "source": [
    "test2 = pd.DataFrame(test.iloc[1])\n",
    "test2"
   ]
  },
  {
   "cell_type": "code",
   "execution_count": null,
   "id": "39f180ae",
   "metadata": {},
   "outputs": [],
   "source": [
    "test3 = test2['items'].apply(pd.Series)\n",
    "test3"
   ]
  },
  {
   "cell_type": "markdown",
   "id": "801f6e88",
   "metadata": {},
   "source": [
    "# 3 Dance Monkey"
   ]
  },
  {
   "cell_type": "code",
   "execution_count": null,
   "id": "cd909a09",
   "metadata": {},
   "outputs": [],
   "source": [
    "dance = spotify.search({'track': 'Dance Monkey', 'artist': 'Tones'}, search_type ='track')\n",
    "dance"
   ]
  },
  {
   "cell_type": "code",
   "execution_count": null,
   "id": "ae0b1242",
   "metadata": {},
   "outputs": [],
   "source": [
    "test = pd.DataFrame.from_dict(dance,orient='columns')\n",
    "test"
   ]
  },
  {
   "cell_type": "code",
   "execution_count": null,
   "id": "76b30a1c",
   "metadata": {},
   "outputs": [],
   "source": [
    "test= test.tracks.apply(pd.Series)\n",
    "test"
   ]
  },
  {
   "cell_type": "code",
   "execution_count": null,
   "id": "2820e2c8",
   "metadata": {},
   "outputs": [],
   "source": [
    "test2 = pd.DataFrame(test.iloc[1])\n",
    "test2"
   ]
  },
  {
   "cell_type": "code",
   "execution_count": null,
   "id": "43af59db",
   "metadata": {},
   "outputs": [],
   "source": [
    "test3 = test2['items'].apply(pd.Series)\n",
    "test3"
   ]
  },
  {
   "cell_type": "markdown",
   "id": "1a4330a0",
   "metadata": {},
   "source": [
    "# 4 rockstar"
   ]
  },
  {
   "cell_type": "code",
   "execution_count": null,
   "id": "8714f745",
   "metadata": {},
   "outputs": [],
   "source": [
    "rockstar = spotify.search({'track': 'rockstar', 'artist': 'Post'}, search_type ='track')\n",
    "rockstar"
   ]
  },
  {
   "cell_type": "code",
   "execution_count": null,
   "id": "3cef6fc7",
   "metadata": {},
   "outputs": [],
   "source": [
    "test = pd.DataFrame.from_dict(rockstar,orient='columns')\n",
    "test"
   ]
  },
  {
   "cell_type": "code",
   "execution_count": null,
   "id": "15d65c52",
   "metadata": {},
   "outputs": [],
   "source": [
    "test= test.tracks.apply(pd.Series)\n",
    "test"
   ]
  },
  {
   "cell_type": "code",
   "execution_count": null,
   "id": "080285d7",
   "metadata": {},
   "outputs": [],
   "source": [
    "test2 = pd.DataFrame(test.iloc[1])\n",
    "test2"
   ]
  },
  {
   "cell_type": "code",
   "execution_count": null,
   "id": "36907f1f",
   "metadata": {},
   "outputs": [],
   "source": [
    "test3 = test2['items'].apply(pd.Series)\n",
    "test3"
   ]
  },
  {
   "cell_type": "markdown",
   "id": "02c2f991",
   "metadata": {},
   "source": [
    "# 5 Someone You Loved"
   ]
  },
  {
   "cell_type": "code",
   "execution_count": null,
   "id": "1e84f143",
   "metadata": {},
   "outputs": [],
   "source": [
    "someone = spotify.search({'track': 'Someone You Loved', 'artist': 'Lewis'}, search_type ='track')\n",
    "someone"
   ]
  },
  {
   "cell_type": "code",
   "execution_count": null,
   "id": "f2596d18",
   "metadata": {},
   "outputs": [],
   "source": [
    "test = pd.DataFrame.from_dict(someone,orient='columns')\n",
    "test"
   ]
  },
  {
   "cell_type": "code",
   "execution_count": null,
   "id": "022a3ad2",
   "metadata": {},
   "outputs": [],
   "source": [
    "test= test.tracks.apply(pd.Series)\n",
    "test"
   ]
  },
  {
   "cell_type": "code",
   "execution_count": null,
   "id": "e5dcb5ac",
   "metadata": {},
   "outputs": [],
   "source": [
    "test2 = pd.DataFrame(test.iloc[1])\n",
    "test2"
   ]
  },
  {
   "cell_type": "code",
   "execution_count": null,
   "id": "bca939aa",
   "metadata": {},
   "outputs": [],
   "source": [
    "test3 = test2['items'].apply(pd.Series)\n",
    "test3"
   ]
  },
  {
   "cell_type": "markdown",
   "id": "836322ac",
   "metadata": {},
   "source": [
    "# Top Weeks"
   ]
  },
  {
   "cell_type": "code",
   "execution_count": null,
   "id": "bde052ec",
   "metadata": {},
   "outputs": [],
   "source": [
    "Title =  ['Radioactive', 'Sail', \"I'm Yours\", 'Blinding Lights', 'How Do I Live']\n",
    "Popularity = [ 72, 74, 79, 90, 68]\n",
    "\n",
    "\n",
    "df = pd.DataFrame({'Popularity' : Popularity }, index = Title)\n",
    "\n",
    "ax = df.plot(kind='bar', figsize=(10,8), rot=0, title = 'Popularity Top Weeks on Chart', ylabel= 'Popularity')\n",
    "\n",
    "ax.tick_params(\n",
    "    axis=\"x\", labelsize=12,\n",
    "    labelcolor=\"black\")\n",
    "ax.tick_params(\n",
    "    axis=\"y\", labelsize=12,\n",
    "    labelcolor=\"black\")\n",
    "\n",
    "sns.set_theme(style='whitegrid', palette=('Paired'), font='sans-serif', font_scale=1, color_codes=True, rc=None)\n",
    "\n",
    "plt.show()"
   ]
  },
  {
   "cell_type": "markdown",
   "id": "eddb525e",
   "metadata": {},
   "source": [
    "# 1 Weeks"
   ]
  },
  {
   "cell_type": "code",
   "execution_count": null,
   "id": "e1a4ea98",
   "metadata": {},
   "outputs": [],
   "source": [
    "Title =  ['Old Town Road', 'One Sweet Day', 'Despacito', 'Candle in the Wind', 'Macarena']\n",
    "Popularity = [78, 68, 80, 57, 60]\n",
    "\n",
    "\n",
    "df = pd.DataFrame({'Popularity' : Popularity }, index = Title)\n",
    "\n",
    "ax = df.plot(kind='bar', figsize=(10,8), rot=0, title = 'Popularity Top Weeks at #1', ylabel= 'Popularity')\n",
    "\n",
    "ax.tick_params(\n",
    "    axis=\"x\", labelsize=12,\n",
    "    labelcolor=\"black\")\n",
    "ax.tick_params(\n",
    "    axis=\"y\", labelsize=12,\n",
    "    labelcolor=\"black\")\n",
    "\n",
    "sns.set_theme(style='whitegrid', palette=('Paired'), font='sans-serif', font_scale=1, color_codes=True, rc=None)\n",
    "\n",
    "plt.show()"
   ]
  },
  {
   "cell_type": "markdown",
   "id": "6c96bde2",
   "metadata": {},
   "source": [
    "# Combined Chart Weeks"
   ]
  },
  {
   "cell_type": "code",
   "execution_count": null,
   "id": "2af42d91",
   "metadata": {},
   "outputs": [],
   "source": [
    "group_labels =  ['Radioactive', 'Sail', \"I'm Yours\", 'Blinding Lights', 'How Do I Live']\n",
    "Popularity = [ 72, 74, 79, 90, 68]\n",
    "\n",
    "Weeks_on_Chart = [87, 79, 76, 76, 69]\n",
    "\n",
    "\n",
    "df = pd.DataFrame({'Popularity': Popularity, 'Weeks on Chart': Weeks_on_Chart}, index = group_labels)\n",
    "\n",
    "ax = df.plot(kind='bar', figsize=(10,8), rot=0, title = 'Average Headway, Dwell Time, Positive Adherence', ylabel= 'Mins & Adherence')\n",
    "\n",
    "ax.tick_params(\n",
    "    axis=\"x\", labelsize=12,\n",
    "    labelcolor=\"black\")\n",
    "ax.tick_params(\n",
    "    axis=\"y\", labelsize=12,\n",
    "    labelcolor=\"black\")\n",
    "\n",
    "sns.set_theme(style='whitegrid', palette=('Paired'), font='sans-serif', font_scale=1, color_codes=True, rc=None)\n",
    "\n",
    "plt.show()"
   ]
  },
  {
   "cell_type": "markdown",
   "id": "34bc2360",
   "metadata": {},
   "source": [
    "# Combined Chart #1"
   ]
  },
  {
   "cell_type": "code",
   "execution_count": null,
   "id": "8d9c6006",
   "metadata": {},
   "outputs": [],
   "source": [
    "group_labels =  ['Old Town Road', 'One Sweet Day', 'Despacito', 'Candle in the Wind', 'Macarena' ]\n",
    "\n",
    "Popularity_at_1= [78, 68, 80, 57, 60]\n",
    "\n",
    "Weeks_at_1 = [19, 16, 16, 14, 14]\n",
    "\n",
    "df = pd.DataFrame({'Popularity at 1': Popularity_at_1, 'Weeks at 1': Weeks_at_1}, index = group_labels)\n",
    "\n",
    "ax = df.plot(kind='bar', figsize=(10,8), rot=0, title = 'Popularity and Weeks at 1', ylabel= 'Score')\n",
    "\n",
    "ax.tick_params(\n",
    "    axis=\"x\", labelsize=12,\n",
    "    labelcolor=\"black\")\n",
    "ax.tick_params(\n",
    "    axis=\"y\", labelsize=12,\n",
    "    labelcolor=\"black\")\n",
    "\n",
    "sns.set_theme(style='whitegrid', palette=('Paired'), font='sans-serif', font_scale=1, color_codes=True, rc=None)\n",
    "\n",
    "plt.show()"
   ]
  },
  {
   "cell_type": "markdown",
   "id": "21860056",
   "metadata": {},
   "source": [
    "# Combined Chart"
   ]
  },
  {
   "cell_type": "code",
   "execution_count": null,
   "id": "47c74e5a",
   "metadata": {},
   "outputs": [],
   "source": [
    "group_labels =  ['Radioactive', 'Sail', \"I'm Yours\", 'Blinding Lights', 'How Do I Live', 'Old Town Road', 'One Sweet Day', 'Despacito', 'Candle in the Wind', 'Macarena' ]\n",
    "\n",
    "Popularity = [ 72, 74, 79, 90, 68, 78, 68, 80, 57, 60]\n",
    "\n",
    "Weeks_on_Chart = [87, 79, 76, 76, 69, 19, 16, 16, 14, 14]\n",
    "\n",
    "\n",
    "df = pd.DataFrame({'Popularity': Popularity, 'Weeks on Chart': Weeks_on_Chart}, index = group_labels)\n",
    "\n",
    "ax = df.plot(kind='bar', figsize=(18,8), rot=0, title = 'Popularity Weeks and #1', ylabel= 'Mins & Adherence')\n",
    "\n",
    "ax.tick_params(\n",
    "    axis=\"x\", labelsize=12,\n",
    "    labelcolor=\"black\")\n",
    "ax.tick_params(\n",
    "    axis=\"y\", labelsize=12,\n",
    "    labelcolor=\"black\")\n",
    "\n",
    "sns.set_theme(style='whitegrid', palette=('Paired'), font='sans-serif', font_scale=1, color_codes=True, rc=None)\n",
    "\n",
    "plt.show()\n"
   ]
  },
  {
   "cell_type": "markdown",
   "id": "51298315",
   "metadata": {},
   "source": [
    "# Combined Chart Just Weeks"
   ]
  },
  {
   "cell_type": "code",
   "execution_count": null,
   "id": "438834b7",
   "metadata": {},
   "outputs": [],
   "source": [
    "Title =  ['Radioactive', 'Sail', \"I'm Yours\", 'Blinding Lights', 'How Do I Live', 'Old Town Road', 'One Sweet Day', 'Despacito', 'Candle in the Wind', 'Macarena']\n",
    "Popularity = [ 72, 74, 79, 90, 68, 78, 68, 80, 57, 60]\n",
    "\n",
    "\n",
    "df = pd.DataFrame({'Popularity' : Popularity }, index = Title)\n",
    "\n",
    "ax = df.plot(kind='bar', figsize=(18,8), rot=0, title = 'Popularity and Weeks Combined', ylabel= 'Popularity')\n",
    "\n",
    "ax.tick_params(\n",
    "    axis=\"x\", labelsize=12,\n",
    "    labelcolor=\"black\")\n",
    "ax.tick_params(\n",
    "    axis=\"y\", labelsize=12,\n",
    "    labelcolor=\"black\")\n",
    "\n",
    "sns.set_theme(style='whitegrid', palette=('Paired'), font='sans-serif', font_scale=1, color_codes=True, rc=None)\n",
    "\n",
    "plt.show()"
   ]
  }
 ],
 "metadata": {
  "kernelspec": {
   "display_name": "Python 3 (ipykernel)",
   "language": "python",
   "name": "python3"
  },
  "language_info": {
   "codemirror_mode": {
    "name": "ipython",
    "version": 3
   },
   "file_extension": ".py",
   "mimetype": "text/x-python",
   "name": "python",
   "nbconvert_exporter": "python",
   "pygments_lexer": "ipython3",
   "version": "3.9.12"
  }
 },
 "nbformat": 4,
 "nbformat_minor": 5
}
