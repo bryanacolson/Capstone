{
 "cells": [
  {
   "cell_type": "code",
   "execution_count": null,
   "id": "c15393a9",
   "metadata": {},
   "outputs": [],
   "source": [
    "# import packages"
   ]
  },
  {
   "cell_type": "code",
   "execution_count": 1,
   "id": "32d53d6e",
   "metadata": {},
   "outputs": [],
   "source": [
    "from pandas.io.json import json_normalize\n",
    "import json\n",
    "from pandasql import sqldf\n",
    "import pandas as pd\n",
    "import numpy as np\n",
    "import matplotlib.pyplot as plt\n",
    "import seaborn as sns\n",
    "from bs4 import BeautifulSoup\n",
    "import io\n",
    "import requests\n",
    "import json\n",
    "import base64\n",
    "import datetime\n",
    "from urllib.parse import urlencode"
   ]
  },
  {
   "cell_type": "code",
   "execution_count": 2,
   "id": "a5350eda",
   "metadata": {},
   "outputs": [
    {
     "data": {
      "image/png": "[encoded data removed]",
      "text/plain": [
       "<Figure size 720x576 with 1 Axes>"
      ]
     },
     "metadata": {
      "needs_background": "light"
     },
     "output_type": "display_data"
    }
   ],
   "source": [
    "Title =  ['Radioactive', 'Sail', \"I'm Yours\", 'Blinding Lights', 'How Do I Live']\n",
    "Popularity = [ 72, 74, 79, 90, 68]\n",
    "\n",
    "\n",
    "df = pd.DataFrame({'Popularity' : Popularity }, index = Title)\n",
    "\n",
    "ax = df.plot(kind='bar', figsize=(10,8), rot=0, title = 'Popularity Top Weeks on Chart', ylabel= 'Popularity')\n",
    "\n",
    "ax.tick_params(\n",
    "    axis=\"x\", labelsize=12,\n",
    "    labelcolor=\"black\")\n",
    "ax.tick_params(\n",
    "    axis=\"y\", labelsize=12,\n",
    "    labelcolor=\"black\")\n",
    "\n",
    "sns.set_theme(style='whitegrid', palette=('Paired'), font='sans-serif', font_scale=1, color_codes=True, rc=None)\n",
    "\n",
    "plt.show()"
   ]
  },
  {
   "cell_type": "code",
   "execution_count": null,
   "id": "9615bc77",
   "metadata": {},
   "outputs": [],
   "source": [
    "Title =  ['Old Town Road', 'One Sweet Day', 'Despacito', 'Candle in the Wind', 'Macarena']\n",
    "Popularity = [78, 68, 80, 57, 60]\n",
    "\n",
    "\n",
    "df = pd.DataFrame({'Popularity' : Popularity }, index = Title)\n",
    "\n",
    "ax = df.plot(kind='bar', figsize=(10,8), rot=0, title = 'Popularity Top Weeks at #1', ylabel= 'Popularity')\n",
    "\n",
    "ax.tick_params(\n",
    "    axis=\"x\", labelsize=12,\n",
    "    labelcolor=\"black\")\n",
    "ax.tick_params(\n",
    "    axis=\"y\", labelsize=12,\n",
    "    labelcolor=\"black\")\n",
    "\n",
    "sns.set_theme(style='whitegrid', palette=('Paired'), font='sans-serif', font_scale=1, color_codes=True, rc=None)\n",
    "\n",
    "plt.show()"
   ]
  },
  {
   "cell_type": "code",
   "execution_count": null,
   "id": "ac67b6ca",
   "metadata": {},
   "outputs": [],
   "source": []
  }
 ],
 "metadata": {
  "kernelspec": {
   "display_name": "Python 3 (ipykernel)",
   "language": "python",
   "name": "python3"
  },
  "language_info": {
   "codemirror_mode": {
    "name": "ipython",
    "version": 3
   },
   "file_extension": ".py",
   "mimetype": "text/x-python",
   "name": "python",
   "nbconvert_exporter": "python",
   "pygments_lexer": "ipython3",
   "version": "3.9.12"
  }
 },
 "nbformat": 4,
 "nbformat_minor": 5
}
