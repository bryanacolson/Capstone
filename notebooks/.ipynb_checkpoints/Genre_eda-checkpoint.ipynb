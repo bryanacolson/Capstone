{
 "cells": [
  {
   "cell_type": "code",
   "execution_count": 1,
   "id": "035b003b",
   "metadata": {},
   "outputs": [],
   "source": [
    "from pandasql import sqldf\n",
    "import pandas as pd\n",
    "import numpy as np\n",
    "import matplotlib.pyplot as plt\n",
    "import seaborn as sns\n",
    "from bs4 import BeautifulSoup\n",
    "import io\n",
    "import requests\n",
    "from ast import literal_eval\n",
    "import glob"
   ]
  },
  {
   "cell_type": "code",
   "execution_count": 2,
   "id": "dc0d27a8",
   "metadata": {},
   "outputs": [],
   "source": [
    "project_csv = pd.concat([pd.read_csv(x)for x in glob.glob('../csvs/*.csv')], ignore_index = True)"
   ]
  },
  {
   "cell_type": "code",
   "execution_count": 3,
   "id": "a5b34570",
   "metadata": {},
   "outputs": [
    {
     "data": {
      "text/html": [
       "<div>\n",
       "<style scoped>\n",
       "    .dataframe tbody tr th:only-of-type {\n",
       "        vertical-align: middle;\n",
       "    }\n",
       "\n",
       "    .dataframe tbody tr th {\n",
       "        vertical-align: top;\n",
       "    }\n",
       "\n",
       "    .dataframe thead th {\n",
       "        text-align: right;\n",
       "    }\n",
       "</style>\n",
       "<table border=\"1\" class=\"dataframe\">\n",
       "  <thead>\n",
       "    <tr style=\"text-align: right;\">\n",
       "      <th></th>\n",
       "      <th>0</th>\n",
       "      <th>1</th>\n",
       "      <th>2</th>\n",
       "      <th>3</th>\n",
       "      <th>4</th>\n",
       "    </tr>\n",
       "  </thead>\n",
       "  <tbody>\n",
       "    <tr>\n",
       "      <th>0</th>\n",
       "      <td>Lindsay Lohan</td>\n",
       "      <td>49.0</td>\n",
       "      <td>Lindsay Lohan</td>\n",
       "      <td>spotify:artist:4vRSocKbGh7PsQrYRDVMEF</td>\n",
       "      <td>['dance pop', 'post-teen pop']</td>\n",
       "    </tr>\n",
       "    <tr>\n",
       "      <th>2</th>\n",
       "      <td>Incubus</td>\n",
       "      <td>69.0</td>\n",
       "      <td>Incubus</td>\n",
       "      <td>spotify:artist:3YcBF2ttyueytpXtEzn1Za</td>\n",
       "      <td>['alternative metal', 'alternative rock', 'fun...</td>\n",
       "    </tr>\n",
       "    <tr>\n",
       "      <th>3</th>\n",
       "      <td>Zac Efron</td>\n",
       "      <td>69.0</td>\n",
       "      <td>Zac Efron</td>\n",
       "      <td>spotify:artist:6U1dBXJhC8gXFjamvFTmHg</td>\n",
       "      <td>['hollywood', 'pop', 'post-teen pop', 'show tu...</td>\n",
       "    </tr>\n",
       "    <tr>\n",
       "      <th>5</th>\n",
       "      <td>Kris Allen</td>\n",
       "      <td>44.0</td>\n",
       "      <td>Kris Allen</td>\n",
       "      <td>spotify:artist:2zwHaEmXxX6DTv4i8ajNCM</td>\n",
       "      <td>['acoustic pop', 'idol', 'neo mellow', 'post-t...</td>\n",
       "    </tr>\n",
       "    <tr>\n",
       "      <th>6</th>\n",
       "      <td>The Swon Brothers</td>\n",
       "      <td>33.0</td>\n",
       "      <td>The Swon Brothers</td>\n",
       "      <td>spotify:artist:1nf0nRF0W4ybnJdda00pKY</td>\n",
       "      <td>['contemporary country', 'country pop', 'oklah...</td>\n",
       "    </tr>\n",
       "    <tr>\n",
       "      <th>...</th>\n",
       "      <td>...</td>\n",
       "      <td>...</td>\n",
       "      <td>...</td>\n",
       "      <td>...</td>\n",
       "      <td>...</td>\n",
       "    </tr>\n",
       "    <tr>\n",
       "      <th>10053</th>\n",
       "      <td>Judson Spence</td>\n",
       "      <td>4.0</td>\n",
       "      <td>Judson Spence</td>\n",
       "      <td>spotify:artist:2iDXfUayTfaawalL8HDDj6</td>\n",
       "      <td>[]</td>\n",
       "    </tr>\n",
       "    <tr>\n",
       "      <th>10055</th>\n",
       "      <td>Mongo Santamaria Orch.</td>\n",
       "      <td>46.0</td>\n",
       "      <td>Mongo Santamaria</td>\n",
       "      <td>spotify:artist:2oVwztjpHpJlAvlVVuqVa0</td>\n",
       "      <td>['afro-cuban percussion', 'boogaloo', 'cuban r...</td>\n",
       "    </tr>\n",
       "    <tr>\n",
       "      <th>10056</th>\n",
       "      <td>The Yellow Balloon</td>\n",
       "      <td>22.0</td>\n",
       "      <td>The Yellow Balloon</td>\n",
       "      <td>spotify:artist:2EogrfOq2qlvRnJDaQ5BF0</td>\n",
       "      <td>['bubblegum pop', 'freakbeat', 'sunshine pop']</td>\n",
       "    </tr>\n",
       "    <tr>\n",
       "      <th>10057</th>\n",
       "      <td>Ant Saunders</td>\n",
       "      <td>53.0</td>\n",
       "      <td>Ant Saunders</td>\n",
       "      <td>spotify:artist:4jpsw9CQS439N0B7SecMgf</td>\n",
       "      <td>['chill r&amp;b', 'pop']</td>\n",
       "    </tr>\n",
       "    <tr>\n",
       "      <th>10059</th>\n",
       "      <td>Thelma Carpenter</td>\n",
       "      <td>34.0</td>\n",
       "      <td>Thelma Carpenter</td>\n",
       "      <td>spotify:artist:5NBLIcKY8kA94L3s5wkPAk</td>\n",
       "      <td>[]</td>\n",
       "    </tr>\n",
       "  </tbody>\n",
       "</table>\n",
       "<p>5716 rows × 5 columns</p>\n",
       "</div>"
      ],
      "text/plain": [
       "                            0     1                   2  \\\n",
       "0               Lindsay Lohan  49.0       Lindsay Lohan   \n",
       "2                     Incubus  69.0             Incubus   \n",
       "3                   Zac Efron  69.0           Zac Efron   \n",
       "5                  Kris Allen  44.0          Kris Allen   \n",
       "6           The Swon Brothers  33.0   The Swon Brothers   \n",
       "...                       ...   ...                 ...   \n",
       "10053           Judson Spence   4.0       Judson Spence   \n",
       "10055  Mongo Santamaria Orch.  46.0    Mongo Santamaria   \n",
       "10056      The Yellow Balloon  22.0  The Yellow Balloon   \n",
       "10057            Ant Saunders  53.0        Ant Saunders   \n",
       "10059        Thelma Carpenter  34.0    Thelma Carpenter   \n",
       "\n",
       "                                           3  \\\n",
       "0      spotify:artist:4vRSocKbGh7PsQrYRDVMEF   \n",
       "2      spotify:artist:3YcBF2ttyueytpXtEzn1Za   \n",
       "3      spotify:artist:6U1dBXJhC8gXFjamvFTmHg   \n",
       "5      spotify:artist:2zwHaEmXxX6DTv4i8ajNCM   \n",
       "6      spotify:artist:1nf0nRF0W4ybnJdda00pKY   \n",
       "...                                      ...   \n",
       "10053  spotify:artist:2iDXfUayTfaawalL8HDDj6   \n",
       "10055  spotify:artist:2oVwztjpHpJlAvlVVuqVa0   \n",
       "10056  spotify:artist:2EogrfOq2qlvRnJDaQ5BF0   \n",
       "10057  spotify:artist:4jpsw9CQS439N0B7SecMgf   \n",
       "10059  spotify:artist:5NBLIcKY8kA94L3s5wkPAk   \n",
       "\n",
       "                                                       4  \n",
       "0                         ['dance pop', 'post-teen pop']  \n",
       "2      ['alternative metal', 'alternative rock', 'fun...  \n",
       "3      ['hollywood', 'pop', 'post-teen pop', 'show tu...  \n",
       "5      ['acoustic pop', 'idol', 'neo mellow', 'post-t...  \n",
       "6      ['contemporary country', 'country pop', 'oklah...  \n",
       "...                                                  ...  \n",
       "10053                                                 []  \n",
       "10055  ['afro-cuban percussion', 'boogaloo', 'cuban r...  \n",
       "10056     ['bubblegum pop', 'freakbeat', 'sunshine pop']  \n",
       "10057                               ['chill r&b', 'pop']  \n",
       "10059                                                 []  \n",
       "\n",
       "[5716 rows x 5 columns]"
      ]
     },
     "execution_count": 3,
     "metadata": {},
     "output_type": "execute_result"
    }
   ],
   "source": [
    "project_csv = project_csv.dropna()\n",
    "project_csv"
   ]
  },
  {
   "cell_type": "code",
   "execution_count": 4,
   "id": "0a428d16",
   "metadata": {},
   "outputs": [],
   "source": [
    "project_csv.columns = ['Artist', 'Popularity', 'Artist2', 'uri', 'Genre']"
   ]
  },
  {
   "cell_type": "code",
   "execution_count": 5,
   "id": "faaa1897",
   "metadata": {
    "scrolled": true
   },
   "outputs": [],
   "source": [
    "project_csv['Genre'] = project_csv['Genre'].apply(literal_eval)"
   ]
  },
  {
   "cell_type": "code",
   "execution_count": 6,
   "id": "e67d0866",
   "metadata": {},
   "outputs": [],
   "source": [
    "project_csv = project_csv.explode(column = \"Genre\")\n",
    "project_csv = project_csv.dropna()"
   ]
  },
  {
   "cell_type": "code",
   "execution_count": 7,
   "id": "479f8340",
   "metadata": {},
   "outputs": [],
   "source": [
    "popular_genres = project_csv['Genre'].value_counts().head(20).index.to_list()"
   ]
  },
  {
   "cell_type": "code",
   "execution_count": 9,
   "id": "8af91d5a",
   "metadata": {},
   "outputs": [
    {
     "data": {
      "image/png": "[encoded data removed]",
      "text/plain": [
       "<Figure size 720x432 with 1 Axes>"
      ]
     },
     "metadata": {
      "needs_background": "light"
     },
     "output_type": "display_data"
    }
   ],
   "source": [
    "genre_graph = project_csv.loc[project_csv['Genre'].isin(popular_genres)].plot(figsize=(10,6),\n",
    "                             x= 'Genre',\n",
    "                             y= 'Popularity',\n",
    "                             title = 'Genre Popularity',\n",
    "                             xlabel = 'Genre',\n",
    "                             ylabel = 'Popularity',\n",
    "                             kind = 'scatter',\n",
    "                             color = 'cadetblue',\n",
    "                             \n",
    "                             alpha = 0.8)\n",
    "for bars in genre_graph.containers:\n",
    "    genre_graph.bar_label(bars)\n",
    "plt.xticks(rotation = 90);"
   ]
  },
  {
   "cell_type": "code",
   "execution_count": null,
   "id": "0e1ed7e0",
   "metadata": {},
   "outputs": [],
   "source": []
  }
 ],
 "metadata": {
  "kernelspec": {
   "display_name": "Python 3 (ipykernel)",
   "language": "python",
   "name": "python3"
  },
  "language_info": {
   "codemirror_mode": {
    "name": "ipython",
    "version": 3
   },
   "file_extension": ".py",
   "mimetype": "text/x-python",
   "name": "python",
   "nbconvert_exporter": "python",
   "pygments_lexer": "ipython3",
   "version": "3.9.12"
  }
 },
 "nbformat": 4,
 "nbformat_minor": 5
}
