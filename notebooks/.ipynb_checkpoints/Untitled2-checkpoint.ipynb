{
 "cells": [
  {
   "cell_type": "code",
   "execution_count": null,
   "id": "1a8e83ab",
   "metadata": {},
   "outputs": [],
   "source": [
    "# import packages"
   ]
  },
  {
   "cell_type": "code",
   "execution_count": null,
   "id": "e69abe3d",
   "metadata": {},
   "outputs": [],
   "source": [
    "from pandas.io.json import json_normalize\n",
    "import json\n",
    "from pandasql import sqldf\n",
    "import pandas as pd\n",
    "import numpy as np\n",
    "import matplotlib.pyplot as plt\n",
    "import seaborn as sns\n",
    "from bs4 import BeautifulSoup\n",
    "import io\n",
    "import requests\n",
    "import json\n",
    "import base64\n",
    "import datetime\n",
    "from urllib.parse import urlencode"
   ]
  },
  {
   "cell_type": "code",
   "execution_count": null,
   "id": "9843a144",
   "metadata": {},
   "outputs": [],
   "source": [
    "# client id"
   ]
  },
  {
   "cell_type": "code",
   "execution_count": null,
   "id": "eacd5d1a",
   "metadata": {},
   "outputs": [],
   "source": [
    "client_id = '6e24789ec7874259a220f747fcd7e93e'\n",
    "client_secret = '9bd8ff1ad2f34ef6a87f00124be070b2'"
   ]
  },
  {
   "cell_type": "code",
   "execution_count": null,
   "id": "88368798",
   "metadata": {},
   "outputs": [],
   "source": [
    "class SpotifyAPI(object):\n",
    "    access_token = None\n",
    "    access_token_expires = datetime.datetime.now()\n",
    "    access_token_did_expire = True\n",
    "    client_id = None\n",
    "    client_secret = None\n",
    "    token_url = \"https://accounts.spotify.com/api/token\"\n",
    "\n",
    "\n",
    "\n",
    "    def __init__(self, client_id, client_secret, *args, **kwargs):\n",
    "        super().__init__(*args, **kwargs)\n",
    "        self.client_id = client_id\n",
    "        self.client_secret = client_secret\n",
    "\n",
    "    def getClientCreds(self):\n",
    "        '''Returns b64 encoded string'''\n",
    "        client_id = self.client_id\n",
    "        client_secret = self.client_secret\n",
    "\n",
    "        if client_id == None or client_secret == None:\n",
    "            raise Exception('Must set a client id and secret')\n",
    "\n",
    "        client_creds  = f\"{client_id}:{client_secret}\"\n",
    "        client_creds_b64 = base64.b64encode(client_creds.encode())\n",
    "        return client_creds_b64.decode()\n",
    "\n",
    "    def getTokenHeader(self):\n",
    "        client_creds_b64 = self.getClientCreds()\n",
    "        return {\n",
    "            'Authorization':f\"Basic {client_creds_b64}\"\n",
    "        }\n",
    "\n",
    "    def getTokenData(self):\n",
    "        return {\n",
    "            \"grant_type\":\"client_credentials\"\n",
    "        }\n",
    "\n",
    "    def perform_auth(self):\n",
    "        token_url = self.token_url\n",
    "        token_data = self.getTokenData()\n",
    "        token_header = self.getTokenHeader()\n",
    "\n",
    "        r = requests.post(token_url, data=token_data, headers=token_header)\n",
    "\n",
    "        if r.status_code  not in range(200,299):\n",
    "            raise Exception('Could not authenticate client.')\n",
    "            #return False\n",
    "\n",
    "        now = datetime.datetime.now()\n",
    "        token_response_data = r.json()\n",
    "        access_token = token_response_data['access_token']\n",
    "        expires_in = token_response_data['expires_in']\n",
    "        expires = now + datetime.timedelta(seconds=expires_in)\n",
    "        self.access_token = access_token\n",
    "        self.access_token_expires = expires\n",
    "        self.access_token_did_expire = expires < now\n",
    "\n",
    "\n",
    "        return True\n",
    "\n",
    "    def get_access_token(self):\n",
    "        token = self.access_token\n",
    "        expires = self.access_token_expires\n",
    "        now= datetime.datetime.now()\n",
    "        if expires < now:\n",
    "            self.perform_auth()\n",
    "            return self.get_access_token()\n",
    "        elif token == None:\n",
    "            self.perform_auth()\n",
    "            return self.get_access_token() \n",
    "        return token\n",
    "    \n",
    "    def get_resource_header(self):\n",
    "        access_token = self.get_access_token()\n",
    "        headers = {\n",
    "            \"Authorization\": f\"Bearer {access_token}\", \n",
    "        }\n",
    "        return headers\n",
    "    \n",
    "    def get_resource(self, lookup_id, resource_type='albums', version='v1'):\n",
    "        endpoint = f'https://api.spotify.com/{version}/{resource_type}/{lookup_id}'\n",
    "        headers = self.get_resource_header()\n",
    "        r = requests.get(endpoint, headers = headers)\n",
    "        if r.status_code not in range (200, 299):\n",
    "            return {}\n",
    "        return r.json()\n",
    "    \n",
    "    def get_album(self, _id ):\n",
    "        return self.get_resource(_id, resource_type='albums')\n",
    "    \n",
    "    def get_artist(self, _id ):\n",
    "        return self.get_resource(_id, resource_type='artists')\n",
    "    \n",
    "    def get_playlist(self, _id):\n",
    "        return self.get_resource(_id, resource_type='playlists')\n",
    "    \n",
    "    \n",
    "    def base_search(self, query_params): #type\n",
    "        access_token = self.get_access_token()\n",
    "        headers = self.get_resource_header()\n",
    "        endpoint = \"https://api.spotify.com/v1/search\"\n",
    "        lookup_URL = f\"{endpoint}?{query_params}\"\n",
    "        r = requests.get(lookup_URL, headers=headers)\n",
    "        if r.status_code not in range (200, 299):\n",
    "            return {}\n",
    "        return r.json()\n",
    "    \n",
    "    def search(self, query=None, operator=None, operator_query=None, search_type='artist'):\n",
    "        if query == None:\n",
    "            raise Exception('A query is required')\n",
    "        if isinstance(query, dict):\n",
    "            query = ' '.join([f'{k}:{v}' for k,v in query.items()])\n",
    "        if operator != None and operator_query != None:\n",
    "            if operator.lower() == 'or' or operator.lower() == 'not':\n",
    "                operator = operator.upper()\n",
    "                if isinstance(operator_query, str):\n",
    "                    query = f'{query} {operator} {operator_query}'\n",
    "        query_params = urlencode({'q': query, 'type': search_type.lower()})\n",
    "        return self.base_search(query_params)"
   ]
  },
  {
   "cell_type": "code",
   "execution_count": null,
   "id": "ec47b855",
   "metadata": {},
   "outputs": [],
   "source": [
    "spotify = SpotifyAPI(client_id, client_secret)"
   ]
  },
  {
   "cell_type": "markdown",
   "id": "2f2583ef",
   "metadata": {},
   "source": [
    "# radioactive"
   ]
  },
  {
   "cell_type": "code",
   "execution_count": null,
   "id": "4bd273a1",
   "metadata": {},
   "outputs": [],
   "source": [
    "radioactive = spotify.search({'track': 'Radioactive', 'artist': 'Imagine'}, search_type ='track')\n",
    "radioactive"
   ]
  },
  {
   "cell_type": "code",
   "execution_count": null,
   "id": "8db1592f",
   "metadata": {},
   "outputs": [],
   "source": [
    "test = pd.DataFrame.from_dict(radioactive,orient='columns')\n",
    "test"
   ]
  },
  {
   "cell_type": "code",
   "execution_count": null,
   "id": "3eee4a8d",
   "metadata": {},
   "outputs": [],
   "source": [
    "test= test.tracks.apply(pd.Series)\n",
    "test"
   ]
  },
  {
   "cell_type": "code",
   "execution_count": null,
   "id": "8d9ed853",
   "metadata": {},
   "outputs": [],
   "source": [
    "test2 = pd.DataFrame(test.iloc[1])\n",
    "test2"
   ]
  },
  {
   "cell_type": "code",
   "execution_count": null,
   "id": "009c0eab",
   "metadata": {},
   "outputs": [],
   "source": [
    "test3 = test2['items'].apply(pd.Series)\n",
    "test3"
   ]
  },
  {
   "cell_type": "markdown",
   "id": "36171c31",
   "metadata": {},
   "source": [
    "# sail"
   ]
  },
  {
   "cell_type": "code",
   "execution_count": null,
   "id": "40e99ef5",
   "metadata": {},
   "outputs": [],
   "source": [
    "sail = spotify.search({'track': 'Sail', 'artist': 'AWOL'}, search_type ='track')\n",
    "sail"
   ]
  },
  {
   "cell_type": "code",
   "execution_count": null,
   "id": "c25ca498",
   "metadata": {},
   "outputs": [],
   "source": [
    "test = pd.DataFrame.from_dict(sail,orient='columns')\n",
    "test"
   ]
  },
  {
   "cell_type": "code",
   "execution_count": null,
   "id": "70cdc1b0",
   "metadata": {},
   "outputs": [],
   "source": [
    "test= test.tracks.apply(pd.Series)\n",
    "test"
   ]
  },
  {
   "cell_type": "code",
   "execution_count": null,
   "id": "33c777b3",
   "metadata": {},
   "outputs": [],
   "source": [
    "test2 = pd.DataFrame(test.iloc[1])\n",
    "test2"
   ]
  },
  {
   "cell_type": "code",
   "execution_count": null,
   "id": "acc1fba0",
   "metadata": {},
   "outputs": [],
   "source": [
    "test3 = test2['items'].apply(pd.Series)\n",
    "test3"
   ]
  },
  {
   "cell_type": "code",
   "execution_count": null,
   "id": "ffc4b5e6",
   "metadata": {},
   "outputs": [],
   "source": [
    "test3.head(1)"
   ]
  }
 ],
 "metadata": {
  "kernelspec": {
   "display_name": "Python 3 (ipykernel)",
   "language": "python",
   "name": "python3"
  },
  "language_info": {
   "codemirror_mode": {
    "name": "ipython",
    "version": 3
   },
   "file_extension": ".py",
   "mimetype": "text/x-python",
   "name": "python",
   "nbconvert_exporter": "python",
   "pygments_lexer": "ipython3",
   "version": "3.9.12"
  }
 },
 "nbformat": 4,
 "nbformat_minor": 5
}
