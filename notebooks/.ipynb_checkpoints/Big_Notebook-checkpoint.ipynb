{
 "cells": [
  {
   "cell_type": "code",
   "execution_count": null,
   "id": "1a8e83ab",
   "metadata": {},
   "outputs": [],
   "source": [
    "# import packages"
   ]
  },
  {
   "cell_type": "code",
   "execution_count": null,
   "id": "e69abe3d",
   "metadata": {},
   "outputs": [],
   "source": [
    "from pandas.io.json import json_normalize\n",
    "import json\n",
    "from pandasql import sqldf\n",
    "import pandas as pd\n",
    "import numpy as np\n",
    "import matplotlib.pyplot as plt\n",
    "import seaborn as sns\n",
    "from bs4 import BeautifulSoup\n",
    "import io\n",
    "import requests\n",
    "import json\n",
    "import base64\n",
    "import datetime\n",
    "from urllib.parse import urlencode"
   ]
  },
  {
   "cell_type": "code",
   "execution_count": null,
   "id": "9843a144",
   "metadata": {},
   "outputs": [],
   "source": [
    "# client id"
   ]
  },
  {
   "cell_type": "code",
   "execution_count": null,
   "id": "eacd5d1a",
   "metadata": {},
   "outputs": [],
   "source": [
    "client_id = '6e24789ec7874259a220f747fcd7e93e'\n",
    "client_secret = '9bd8ff1ad2f34ef6a87f00124be070b2'"
   ]
  },
  {
   "cell_type": "code",
   "execution_count": null,
   "id": "88368798",
   "metadata": {},
   "outputs": [],
   "source": [
    "class SpotifyAPI(object):\n",
    "    access_token = None\n",
    "    access_token_expires = datetime.datetime.now()\n",
    "    access_token_did_expire = True\n",
    "    client_id = None\n",
    "    client_secret = None\n",
    "    token_url = \"https://accounts.spotify.com/api/token\"\n",
    "\n",
    "\n",
    "\n",
    "    def __init__(self, client_id, client_secret, *args, **kwargs):\n",
    "        super().__init__(*args, **kwargs)\n",
    "        self.client_id = client_id\n",
    "        self.client_secret = client_secret\n",
    "\n",
    "    def getClientCreds(self):\n",
    "        '''Returns b64 encoded string'''\n",
    "        client_id = self.client_id\n",
    "        client_secret = self.client_secret\n",
    "\n",
    "        if client_id == None or client_secret == None:\n",
    "            raise Exception('Must set a client id and secret')\n",
    "\n",
    "        client_creds  = f\"{client_id}:{client_secret}\"\n",
    "        client_creds_b64 = base64.b64encode(client_creds.encode())\n",
    "        return client_creds_b64.decode()\n",
    "\n",
    "    def getTokenHeader(self):\n",
    "        client_creds_b64 = self.getClientCreds()\n",
    "        return {\n",
    "            'Authorization':f\"Basic {client_creds_b64}\"\n",
    "        }\n",
    "\n",
    "    def getTokenData(self):\n",
    "        return {\n",
    "            \"grant_type\":\"client_credentials\"\n",
    "        }\n",
    "\n",
    "    def perform_auth(self):\n",
    "        token_url = self.token_url\n",
    "        token_data = self.getTokenData()\n",
    "        token_header = self.getTokenHeader()\n",
    "\n",
    "        r = requests.post(token_url, data=token_data, headers=token_header)\n",
    "\n",
    "        if r.status_code  not in range(200,299):\n",
    "            raise Exception('Could not authenticate client.')\n",
    "            #return False\n",
    "\n",
    "        now = datetime.datetime.now()\n",
    "        token_response_data = r.json()\n",
    "        access_token = token_response_data['access_token']\n",
    "        expires_in = token_response_data['expires_in']\n",
    "        expires = now + datetime.timedelta(seconds=expires_in)\n",
    "        self.access_token = access_token\n",
    "        self.access_token_expires = expires\n",
    "        self.access_token_did_expire = expires < now\n",
    "\n",
    "\n",
    "        return True\n",
    "\n",
    "    def get_access_token(self):\n",
    "        token = self.access_token\n",
    "        expires = self.access_token_expires\n",
    "        now= datetime.datetime.now()\n",
    "        if expires < now:\n",
    "            self.perform_auth()\n",
    "            return self.get_access_token()\n",
    "        elif token == None:\n",
    "            self.perform_auth()\n",
    "            return self.get_access_token() \n",
    "        return token\n",
    "    \n",
    "    def get_resource_header(self):\n",
    "        access_token = self.get_access_token()\n",
    "        headers = {\n",
    "            \"Authorization\": f\"Bearer {access_token}\", \n",
    "        }\n",
    "        return headers\n",
    "    \n",
    "    def get_resource(self, lookup_id, resource_type='albums', version='v1'):\n",
    "        endpoint = f'https://api.spotify.com/{version}/{resource_type}/{lookup_id}'\n",
    "        headers = self.get_resource_header()\n",
    "        r = requests.get(endpoint, headers = headers)\n",
    "        if r.status_code not in range (200, 299):\n",
    "            return {}\n",
    "        return r.json()\n",
    "    \n",
    "    def get_album(self, _id ):\n",
    "        return self.get_resource(_id, resource_type='albums')\n",
    "    \n",
    "    def get_artist(self, _id ):\n",
    "        return self.get_resource(_id, resource_type='artists')\n",
    "    \n",
    "    def get_playlist(self, _id):\n",
    "        return self.get_resource(_id, resource_type='playlists')\n",
    "    \n",
    "    \n",
    "    def base_search(self, query_params): #type\n",
    "        access_token = self.get_access_token()\n",
    "        headers = self.get_resource_header()\n",
    "        endpoint = \"https://api.spotify.com/v1/search\"\n",
    "        lookup_URL = f\"{endpoint}?{query_params}\"\n",
    "        r = requests.get(lookup_URL, headers=headers)\n",
    "        if r.status_code not in range (200, 299):\n",
    "            return {}\n",
    "        return r.json()\n",
    "    \n",
    "    def search(self, query=None, operator=None, operator_query=None, search_type='artist'):\n",
    "        if query == None:\n",
    "            raise Exception('A query is required')\n",
    "        if isinstance(query, dict):\n",
    "            query = ' '.join([f'{k}:{v}' for k,v in query.items()])\n",
    "        if operator != None and operator_query != None:\n",
    "            if operator.lower() == 'or' or operator.lower() == 'not':\n",
    "                operator = operator.upper()\n",
    "                if isinstance(operator_query, str):\n",
    "                    query = f'{query} {operator} {operator_query}'\n",
    "        query_params = urlencode({'q': query, 'type': search_type.lower()})\n",
    "        return self.base_search(query_params)"
   ]
  },
  {
   "cell_type": "code",
   "execution_count": null,
   "id": "ec47b855",
   "metadata": {},
   "outputs": [],
   "source": [
    "spotify = SpotifyAPI(client_id, client_secret)"
   ]
  },
  {
   "cell_type": "markdown",
   "id": "2f2583ef",
   "metadata": {},
   "source": [
    "# radioactive"
   ]
  },
  {
   "cell_type": "code",
   "execution_count": null,
   "id": "4bd273a1",
   "metadata": {},
   "outputs": [],
   "source": [
    "radioactive = spotify.search({'track': 'Radioactive', 'artist': 'Imagine'}, search_type ='track')\n",
    "radioactive"
   ]
  },
  {
   "cell_type": "code",
   "execution_count": null,
   "id": "8db1592f",
   "metadata": {},
   "outputs": [],
   "source": [
    "test = pd.DataFrame.from_dict(radioactive,orient='columns')\n",
    "test"
   ]
  },
  {
   "cell_type": "code",
   "execution_count": null,
   "id": "3eee4a8d",
   "metadata": {},
   "outputs": [],
   "source": [
    "test= test.tracks.apply(pd.Series)\n",
    "test"
   ]
  },
  {
   "cell_type": "code",
   "execution_count": null,
   "id": "8d9ed853",
   "metadata": {},
   "outputs": [],
   "source": [
    "test2 = pd.DataFrame(test.iloc[1])\n",
    "test2"
   ]
  },
  {
   "cell_type": "code",
   "execution_count": null,
   "id": "009c0eab",
   "metadata": {},
   "outputs": [],
   "source": [
    "test3 = test2['items'].apply(pd.Series)\n",
    "test3"
   ]
  },
  {
   "cell_type": "markdown",
   "id": "36171c31",
   "metadata": {},
   "source": [
    "# sail"
   ]
  },
  {
   "cell_type": "code",
   "execution_count": null,
   "id": "40e99ef5",
   "metadata": {},
   "outputs": [],
   "source": [
    "sail = spotify.search({'track': 'Sail', 'artist': 'AWOL'}, search_type ='track')\n",
    "sail"
   ]
  },
  {
   "cell_type": "code",
   "execution_count": null,
   "id": "c25ca498",
   "metadata": {},
   "outputs": [],
   "source": [
    "test = pd.DataFrame.from_dict(sail,orient='columns')\n",
    "test"
   ]
  },
  {
   "cell_type": "code",
   "execution_count": null,
   "id": "70cdc1b0",
   "metadata": {},
   "outputs": [],
   "source": [
    "test= test.tracks.apply(pd.Series)\n",
    "test"
   ]
  },
  {
   "cell_type": "code",
   "execution_count": null,
   "id": "33c777b3",
   "metadata": {},
   "outputs": [],
   "source": [
    "test2 = pd.DataFrame(test.iloc[1])\n",
    "test2"
   ]
  },
  {
   "cell_type": "code",
   "execution_count": null,
   "id": "acc1fba0",
   "metadata": {},
   "outputs": [],
   "source": [
    "test3 = test2['items'].apply(pd.Series)\n",
    "test3"
   ]
  },
  {
   "cell_type": "markdown",
   "id": "4a7902cf",
   "metadata": {},
   "source": [
    "# I'm Yours"
   ]
  },
  {
   "cell_type": "code",
   "execution_count": null,
   "id": "8b693a4f",
   "metadata": {},
   "outputs": [],
   "source": [
    "Im_Yours = spotify.search({'track': 'Im Yours', 'artist': 'Jason'}, search_type ='track')\n",
    "Im_Yours"
   ]
  },
  {
   "cell_type": "code",
   "execution_count": null,
   "id": "076736c9",
   "metadata": {},
   "outputs": [],
   "source": [
    "test = pd.DataFrame.from_dict(Im_Yours,orient='columns')\n",
    "test"
   ]
  },
  {
   "cell_type": "code",
   "execution_count": null,
   "id": "c49f5a4a",
   "metadata": {},
   "outputs": [],
   "source": [
    "test= test.tracks.apply(pd.Series)\n",
    "test"
   ]
  },
  {
   "cell_type": "code",
   "execution_count": null,
   "id": "4ba6c67f",
   "metadata": {},
   "outputs": [],
   "source": [
    "test2 = pd.DataFrame(test.iloc[1])\n",
    "test2"
   ]
  },
  {
   "cell_type": "code",
   "execution_count": null,
   "id": "42a013d6",
   "metadata": {},
   "outputs": [],
   "source": [
    "test3 = test2['items'].apply(pd.Series)\n",
    "test3"
   ]
  },
  {
   "cell_type": "markdown",
   "id": "e284daf0",
   "metadata": {},
   "source": [
    "# Blinding Lights"
   ]
  },
  {
   "cell_type": "code",
   "execution_count": null,
   "id": "b8d57cc5",
   "metadata": {},
   "outputs": [],
   "source": [
    "Blinding_Lights = spotify.search({'track': 'Blinding Lights', 'artist': 'The'}, search_type ='track')\n",
    "Blinding_Lights"
   ]
  },
  {
   "cell_type": "code",
   "execution_count": null,
   "id": "335850d3",
   "metadata": {},
   "outputs": [],
   "source": [
    "test = pd.DataFrame.from_dict(Blinding_Lights,orient='columns')\n",
    "test"
   ]
  },
  {
   "cell_type": "code",
   "execution_count": null,
   "id": "69ff262d",
   "metadata": {},
   "outputs": [],
   "source": [
    "test= test.tracks.apply(pd.Series)\n",
    "test"
   ]
  },
  {
   "cell_type": "code",
   "execution_count": null,
   "id": "6edae6df",
   "metadata": {},
   "outputs": [],
   "source": [
    "test2 = pd.DataFrame(test.iloc[1])\n",
    "test2"
   ]
  },
  {
   "cell_type": "code",
   "execution_count": null,
   "id": "f5a21e84",
   "metadata": {},
   "outputs": [],
   "source": [
    "test3 = test2['items'].apply(pd.Series)\n",
    "test3"
   ]
  },
  {
   "cell_type": "markdown",
   "id": "186b0d98",
   "metadata": {},
   "source": [
    "# How Do I Live"
   ]
  },
  {
   "cell_type": "code",
   "execution_count": null,
   "id": "f87ea15d",
   "metadata": {},
   "outputs": [],
   "source": [
    "How_Do_I = spotify.search({'track': 'How Do I Live', 'artist': 'LeAnn'}, search_type ='track')\n",
    "How_Do_I"
   ]
  },
  {
   "cell_type": "code",
   "execution_count": null,
   "id": "e48bb79a",
   "metadata": {},
   "outputs": [],
   "source": [
    "test = pd.DataFrame.from_dict(How_Do_I,orient='columns')\n",
    "test"
   ]
  },
  {
   "cell_type": "code",
   "execution_count": null,
   "id": "6cf779d0",
   "metadata": {},
   "outputs": [],
   "source": [
    "test= test.tracks.apply(pd.Series)\n",
    "test"
   ]
  },
  {
   "cell_type": "code",
   "execution_count": null,
   "id": "729f8f7e",
   "metadata": {},
   "outputs": [],
   "source": [
    "test2 = pd.DataFrame(test.iloc[1])\n",
    "test2"
   ]
  },
  {
   "cell_type": "code",
   "execution_count": null,
   "id": "b1d64768",
   "metadata": {},
   "outputs": [],
   "source": [
    "test3 = test2['items'].apply(pd.Series)\n",
    "test3"
   ]
  },
  {
   "cell_type": "markdown",
   "id": "140a120c",
   "metadata": {},
   "source": [
    "# Old Town"
   ]
  },
  {
   "cell_type": "code",
   "execution_count": null,
   "id": "b5a5bbc6",
   "metadata": {},
   "outputs": [],
   "source": [
    "Old_Town = spotify.search({'track': 'Old Town Road', 'artist': 'Lil'}, search_type ='track')\n",
    "Old_Town"
   ]
  },
  {
   "cell_type": "code",
   "execution_count": null,
   "id": "db1e4c21",
   "metadata": {},
   "outputs": [],
   "source": [
    "test = pd.DataFrame.from_dict(Old_Town,orient='columns')\n",
    "test"
   ]
  },
  {
   "cell_type": "code",
   "execution_count": null,
   "id": "989a5cb2",
   "metadata": {},
   "outputs": [],
   "source": [
    "test= test.tracks.apply(pd.Series)\n",
    "test"
   ]
  },
  {
   "cell_type": "code",
   "execution_count": null,
   "id": "2a1621b4",
   "metadata": {},
   "outputs": [],
   "source": [
    "test2 = pd.DataFrame(test.iloc[1])\n",
    "test2"
   ]
  },
  {
   "cell_type": "code",
   "execution_count": null,
   "id": "6d8a8fc8",
   "metadata": {},
   "outputs": [],
   "source": [
    "test3 = test2['items'].apply(pd.Series)\n",
    "test3"
   ]
  },
  {
   "cell_type": "markdown",
   "id": "149dbce3",
   "metadata": {},
   "source": [
    "# One Sweet Day"
   ]
  },
  {
   "cell_type": "code",
   "execution_count": null,
   "id": "6eb89104",
   "metadata": {},
   "outputs": [],
   "source": [
    "One_Sweet = spotify.search({'track': 'One Sweet Day', 'artist': 'Mariah'}, search_type ='track')\n",
    "One_Sweet"
   ]
  },
  {
   "cell_type": "code",
   "execution_count": null,
   "id": "bb01d15d",
   "metadata": {},
   "outputs": [],
   "source": [
    "test = pd.DataFrame.from_dict(One_Sweet,orient='columns')\n",
    "test"
   ]
  },
  {
   "cell_type": "code",
   "execution_count": null,
   "id": "3cfaca1f",
   "metadata": {},
   "outputs": [],
   "source": [
    "test= test.tracks.apply(pd.Series)\n",
    "test"
   ]
  },
  {
   "cell_type": "code",
   "execution_count": null,
   "id": "6a9f56b8",
   "metadata": {},
   "outputs": [],
   "source": [
    "test2 = pd.DataFrame(test.iloc[1])\n",
    "test2"
   ]
  },
  {
   "cell_type": "code",
   "execution_count": null,
   "id": "d94e32a1",
   "metadata": {},
   "outputs": [],
   "source": [
    "test3 = test2['items'].apply(pd.Series)\n",
    "test3"
   ]
  },
  {
   "cell_type": "markdown",
   "id": "20d8a7cf",
   "metadata": {},
   "source": [
    "# Despacito"
   ]
  },
  {
   "cell_type": "code",
   "execution_count": null,
   "id": "70c9597d",
   "metadata": {},
   "outputs": [],
   "source": [
    "Despacito = spotify.search({'track': 'Despacito', 'artist': 'Luis'}, search_type ='track')\n",
    "Despacito"
   ]
  },
  {
   "cell_type": "code",
   "execution_count": null,
   "id": "04f6b41b",
   "metadata": {},
   "outputs": [],
   "source": [
    "test = pd.DataFrame.from_dict(Despacito,orient='columns')\n",
    "test"
   ]
  },
  {
   "cell_type": "code",
   "execution_count": null,
   "id": "d8369fd7",
   "metadata": {},
   "outputs": [],
   "source": [
    "test= test.tracks.apply(pd.Series)\n",
    "test"
   ]
  },
  {
   "cell_type": "code",
   "execution_count": null,
   "id": "a313d763",
   "metadata": {},
   "outputs": [],
   "source": [
    "test2 = pd.DataFrame(test.iloc[1])\n",
    "test2"
   ]
  },
  {
   "cell_type": "code",
   "execution_count": null,
   "id": "8f21a34b",
   "metadata": {},
   "outputs": [],
   "source": [
    "test3 = test2['items'].apply(pd.Series)\n",
    "test3"
   ]
  },
  {
   "cell_type": "markdown",
   "id": "badbb546",
   "metadata": {},
   "source": [
    "# Candle in the Wind 1997"
   ]
  },
  {
   "cell_type": "code",
   "execution_count": null,
   "id": "e826598f",
   "metadata": {},
   "outputs": [],
   "source": [
    "Candle = spotify.search({'track': 'Candle In The Wind 1997', 'artist': 'Elton'}, search_type ='track')\n",
    "Candle"
   ]
  },
  {
   "cell_type": "code",
   "execution_count": null,
   "id": "742c47aa",
   "metadata": {},
   "outputs": [],
   "source": [
    "test = pd.DataFrame.from_dict(Candle,orient='columns')\n",
    "test"
   ]
  },
  {
   "cell_type": "code",
   "execution_count": null,
   "id": "e63685cc",
   "metadata": {},
   "outputs": [],
   "source": [
    "test= test.tracks.apply(pd.Series)\n",
    "test"
   ]
  },
  {
   "cell_type": "code",
   "execution_count": null,
   "id": "9c0d385e",
   "metadata": {},
   "outputs": [],
   "source": [
    "test2 = pd.DataFrame(test.iloc[1])\n",
    "test2"
   ]
  },
  {
   "cell_type": "code",
   "execution_count": null,
   "id": "e5e5feaa",
   "metadata": {},
   "outputs": [],
   "source": [
    "test3 = test2['items'].apply(pd.Series)\n",
    "test3"
   ]
  },
  {
   "cell_type": "markdown",
   "id": "f171e851",
   "metadata": {},
   "source": [
    "# Macarena"
   ]
  },
  {
   "cell_type": "code",
   "execution_count": null,
   "id": "5b81913d",
   "metadata": {},
   "outputs": [],
   "source": [
    "Macarena_1 = spotify.search({'track': 'Macarena', 'artist': 'Los Del Rio'}, search_type ='track')\n",
    "Macarena_1"
   ]
  },
  {
   "cell_type": "code",
   "execution_count": null,
   "id": "632f1ed5",
   "metadata": {},
   "outputs": [],
   "source": [
    "test = pd.DataFrame.from_dict(Macarena_1,orient='columns')\n",
    "test"
   ]
  },
  {
   "cell_type": "code",
   "execution_count": null,
   "id": "80a3b9a5",
   "metadata": {},
   "outputs": [],
   "source": [
    "test= test.tracks.apply(pd.Series)\n",
    "test"
   ]
  },
  {
   "cell_type": "code",
   "execution_count": null,
   "id": "019cc23d",
   "metadata": {},
   "outputs": [],
   "source": [
    "test2 = pd.DataFrame(test.iloc[1])\n",
    "test2"
   ]
  },
  {
   "cell_type": "code",
   "execution_count": null,
   "id": "96f68abd",
   "metadata": {},
   "outputs": [],
   "source": [
    "test3 = test2['items'].apply(pd.Series)\n",
    "test3"
   ]
  },
  {
   "cell_type": "code",
   "execution_count": null,
   "id": "f696b43a",
   "metadata": {},
   "outputs": [],
   "source": [
    "group_labels =  []\n",
    "AVG_ACTUAL_HDWY = [ 18.69, 21.95, 32.12, 14.4, 16.76, 16.64,  11.24, 11.81]\n",
    "AVG_DWELL_IN_MINS = [4.73, 8.15, 9.6, 7.5, 6.92, 6.41, 6.92, 6.55]\n",
    "AVG_ADHERENCE = [0.77, 0.65,  0.84, 1.11, 0.69, 0.7, .69, 0.62]\n",
    "\n",
    "df = pd.DataFrame({'Avg Actual Headway': AVG_ACTUAL_HDWY, 'Avg Dwell in Mins': AVG_DWELL_IN_MINS, 'Avg Adherence':AVG_ADHERENCE}, index = group_labels)\n",
    "\n",
    "ax = df.plot(kind='bar', figsize=(10,8), rot=0, title = 'Average Headway, Dwell Time, Positive Adherence', ylabel= 'Mins & Adherence')\n",
    "\n",
    "ax.tick_params(\n",
    "    axis=\"x\", labelsize=12,\n",
    "    labelcolor=\"black\")\n",
    "ax.tick_params(\n",
    "    axis=\"y\", labelsize=12,\n",
    "    labelcolor=\"black\")\n",
    "\n",
    "sns.set_theme(style='whitegrid', palette=('Paired'), font='sans-serif', font_scale=1, color_codes=True, rc=None)\n",
    "\n",
    "plt.show()"
   ]
  }
 ],
 "metadata": {
  "kernelspec": {
   "display_name": "Python 3 (ipykernel)",
   "language": "python",
   "name": "python3"
  },
  "language_info": {
   "codemirror_mode": {
    "name": "ipython",
    "version": 3
   },
   "file_extension": ".py",
   "mimetype": "text/x-python",
   "name": "python",
   "nbconvert_exporter": "python",
   "pygments_lexer": "ipython3",
   "version": "3.9.12"
  }
 },
 "nbformat": 4,
 "nbformat_minor": 5
}
