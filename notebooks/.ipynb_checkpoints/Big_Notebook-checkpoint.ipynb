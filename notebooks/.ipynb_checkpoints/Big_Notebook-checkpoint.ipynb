{
 "cells": [
  {
   "cell_type": "code",
   "execution_count": null,
   "id": "1a8e83ab",
   "metadata": {},
   "outputs": [],
   "source": [
    "# import packages"
   ]
  },
  {
   "cell_type": "code",
   "execution_count": null,
   "id": "e69abe3d",
   "metadata": {},
   "outputs": [],
   "source": [
    "from pandas.io.json import json_normalize\n",
    "import json\n",
    "from pandasql import sqldf\n",
    "import pandas as pd\n",
    "import numpy as np\n",
    "import matplotlib.pyplot as plt\n",
    "import seaborn as sns\n",
    "from bs4 import BeautifulSoup\n",
    "import io\n",
    "import requests\n",
    "import json\n",
    "import base64\n",
    "from requests import get, post\n",
    "import datetime\n",
    "from urllib.parse import urlencode\n",
    "import os"
   ]
  },
  {
   "cell_type": "code",
   "execution_count": null,
   "id": "9843a144",
   "metadata": {},
   "outputs": [],
   "source": [
    "# client id"
   ]
  },
  {
   "cell_type": "code",
   "execution_count": null,
   "id": "eacd5d1a",
   "metadata": {},
   "outputs": [],
   "source": [
    "client_id = '6e24789ec7874259a220f747fcd7e93e'\n",
    "client_secret = '9bd8ff1ad2f34ef6a87f00124be070b2'"
   ]
  },
  {
   "cell_type": "code",
   "execution_count": null,
   "id": "88368798",
   "metadata": {},
   "outputs": [],
   "source": [
    "class SpotifyAPI(object):\n",
    "    access_token = None\n",
    "    access_token_expires = datetime.datetime.now()\n",
    "    access_token_did_expire = True\n",
    "    client_id = None\n",
    "    client_secret = None\n",
    "    token_url = \"https://accounts.spotify.com/api/token\"\n",
    "\n",
    "\n",
    "\n",
    "    def __init__(self, client_id, client_secret, *args, **kwargs):\n",
    "        super().__init__(*args, **kwargs)\n",
    "        self.client_id = client_id\n",
    "        self.client_secret = client_secret\n",
    "\n",
    "    def getClientCreds(self):\n",
    "        '''Returns b64 encoded string'''\n",
    "        client_id = self.client_id\n",
    "        client_secret = self.client_secret\n",
    "\n",
    "        if client_id == None or client_secret == None:\n",
    "            raise Exception('Must set a client id and secret')\n",
    "\n",
    "        client_creds  = f\"{client_id}:{client_secret}\"\n",
    "        client_creds_b64 = base64.b64encode(client_creds.encode())\n",
    "        return client_creds_b64.decode()\n",
    "\n",
    "    def getTokenHeader(self):\n",
    "        client_creds_b64 = self.getClientCreds()\n",
    "        return {\n",
    "            'Authorization':f\"Basic {client_creds_b64}\"\n",
    "        }\n",
    "\n",
    "    def getTokenData(self):\n",
    "        return {\n",
    "            \"grant_type\":\"client_credentials\"\n",
    "        }\n",
    "\n",
    "    def perform_auth(self):\n",
    "        token_url = self.token_url\n",
    "        token_data = self.getTokenData()\n",
    "        token_header = self.getTokenHeader()\n",
    "\n",
    "        r = requests.post(token_url, data=token_data, headers=token_header)\n",
    "\n",
    "        if r.status_code  not in range(200,299):\n",
    "            raise Exception('Could not authenticate client.')\n",
    "            #return False\n",
    "\n",
    "        now = datetime.datetime.now()\n",
    "        token_response_data = r.json()\n",
    "        access_token = token_response_data['access_token']\n",
    "        expires_in = token_response_data['expires_in']\n",
    "        expires = now + datetime.timedelta(seconds=expires_in)\n",
    "        self.access_token = access_token\n",
    "        self.access_token_expires = expires\n",
    "        self.access_token_did_expire = expires < now\n",
    "\n",
    "\n",
    "        return True\n",
    "\n",
    "    def get_access_token(self):\n",
    "        token = self.access_token\n",
    "        expires = self.access_token_expires\n",
    "        now= datetime.datetime.now()\n",
    "        if expires < now:\n",
    "            self.perform_auth()\n",
    "            return self.get_access_token()\n",
    "        elif token == None:\n",
    "            self.perform_auth()\n",
    "            return self.get_access_token() \n",
    "        return token\n",
    "    \n",
    "    def get_resource_header(self):\n",
    "        access_token = self.get_access_token()\n",
    "        headers = {\n",
    "            \"Authorization\": f\"Bearer {access_token}\", \n",
    "        }\n",
    "        return headers\n",
    "    \n",
    "    def get_resource(self, lookup_id, resource_type='albums', version='v1'):\n",
    "        endpoint = f'https://api.spotify.com/{version}/{resource_type}/{lookup_id}'\n",
    "        headers = self.get_resource_header()\n",
    "        r = requests.get(endpoint, headers = headers)\n",
    "        if r.status_code not in range (200, 299):\n",
    "            return {}\n",
    "        return r.json()\n",
    "    \n",
    "    def get_album(self, _id ):\n",
    "        return self.get_resource(_id, resource_type='albums')\n",
    "    \n",
    "    def get_artist(self, _id ):\n",
    "        return self.get_resource(_id, resource_type='artists')\n",
    "    \n",
    "    def get_playlist(self, _id):\n",
    "        return self.get_resource(_id, resource_type='playlists')\n",
    "    \n",
    "    def get_genre(self, _id):\n",
    "        return self.get_resource(_id, resource_type='genres')\n",
    "    \n",
    "    \n",
    "    def base_search(self, query_params): #type\n",
    "        access_token = self.get_access_token()\n",
    "        headers = self.get_resource_header()\n",
    "        endpoint = \"https://api.spotify.com/v1/search\"\n",
    "        lookup_URL = f\"{endpoint}?{query_params}\"\n",
    "        r = requests.get(lookup_URL, headers=headers)\n",
    "        if r.status_code not in range (200, 299):\n",
    "            return {}\n",
    "        return r.json()\n",
    "    \n",
    "    def search(self, query=None, operator=None, operator_query=None, search_type='artist'):\n",
    "        if query == None:\n",
    "            raise Exception('A query is required')\n",
    "        if isinstance(query, dict):\n",
    "            query = ' '.join([f'{k}:{v}' for k,v in query.items()])\n",
    "        if operator != None and operator_query != None:\n",
    "            if operator.lower() == 'or' or operator.lower() == 'not':\n",
    "                operator = operator.upper()\n",
    "                if isinstance(operator_query, str):\n",
    "                    query = f'{query} {operator} {operator_query}'\n",
    "        query_params = urlencode({'q': query, 'type': search_type.lower()})\n",
    "        return self.base_search(query_params)"
   ]
  },
  {
   "cell_type": "code",
   "execution_count": null,
   "id": "e48558b8",
   "metadata": {},
   "outputs": [],
   "source": [
    "spotify = SpotifyAPI(client_id, client_secret)"
   ]
  },
  {
   "cell_type": "code",
   "execution_count": null,
   "id": "9509c4cd",
   "metadata": {},
   "outputs": [],
   "source": [
    "# Top Weeks Streams"
   ]
  },
  {
   "cell_type": "markdown",
   "id": "aac7b9c1",
   "metadata": {},
   "source": [
    "# Top Weeks #1 SQL"
   ]
  },
  {
   "cell_type": "code",
   "execution_count": null,
   "id": "d1d2b58f",
   "metadata": {},
   "outputs": [],
   "source": [
    "#project csv"
   ]
  },
  {
   "cell_type": "code",
   "execution_count": null,
   "id": "dc1179cf",
   "metadata": {
    "scrolled": true
   },
   "outputs": [],
   "source": [
    "project_csv = pd.read_csv('../data/Hot-Stuff.csv')\n",
    "print(project_csv)"
   ]
  },
  {
   "cell_type": "code",
   "execution_count": null,
   "id": "821e02b5",
   "metadata": {},
   "outputs": [],
   "source": []
  },
  {
   "cell_type": "code",
   "execution_count": null,
   "id": "0f4d7bf5",
   "metadata": {},
   "outputs": [],
   "source": [
    "# Top Weeks BPM"
   ]
  },
  {
   "cell_type": "code",
   "execution_count": null,
   "id": "eae7d40d",
   "metadata": {
    "scrolled": true
   },
   "outputs": [],
   "source": [
    "top_weeks_csv = pd.read_csv('../data/top_weeks_BPM_2.csv')\n",
    "print(top_weeks_csv)"
   ]
  },
  {
   "cell_type": "code",
   "execution_count": null,
   "id": "05080056",
   "metadata": {
    "scrolled": true
   },
   "outputs": [],
   "source": [
    "top_weeks_csv_df = top_weeks_csv[['name.1', 'BPM']]\n",
    "top_weeks_csv_df"
   ]
  },
  {
   "cell_type": "code",
   "execution_count": null,
   "id": "4fab5cae",
   "metadata": {},
   "outputs": [],
   "source": [
    "top_weeks_BPM_graph = top_weeks_csv_df.plot(figsize=(10,6),\n",
    "                             x= 'name.1',\n",
    "                             y= 'BPM',\n",
    "                             title = 'Top Weeks BPM',\n",
    "                             xlabel = 'Song',\n",
    "                             ylabel = 'BPM',\n",
    "                             kind = 'bar',\n",
    "                             color = 'cadetblue',\n",
    "                             edgecolor = 'black',\n",
    "                             alpha = 0.8)\n",
    "for bars in top_weeks_BPM_graph.containers:\n",
    "    top_weeks_BPM_graph.bar_label(bars)\n",
    "plt.show()"
   ]
  },
  {
   "cell_type": "code",
   "execution_count": null,
   "id": "d666cfaf",
   "metadata": {},
   "outputs": [],
   "source": [
    "# Top weeks at 1 BPM"
   ]
  },
  {
   "cell_type": "code",
   "execution_count": null,
   "id": "d581f0b8",
   "metadata": {},
   "outputs": [],
   "source": [
    "top_1_weeks_csv = pd.read_csv('../data/top_1_weeks_bpm.csv')\n",
    "print(top_1_weeks_csv)"
   ]
  },
  {
   "cell_type": "code",
   "execution_count": null,
   "id": "5260577a",
   "metadata": {},
   "outputs": [],
   "source": [
    "top_weeks_1_csv_df = top_1_weeks_csv[['name.1', 'BPM']]\n",
    "top_weeks_1_csv_df"
   ]
  },
  {
   "cell_type": "code",
   "execution_count": null,
   "id": "9f97996a",
   "metadata": {},
   "outputs": [],
   "source": [
    "top_1_weeks_BPM_graph = top_weeks_1_csv_df.plot(figsize=(10,6),\n",
    "                             x= 'name.1',\n",
    "                             y= 'BPM',\n",
    "                             title = 'Number 1 Weeks BPM',\n",
    "                             xlabel = 'Song',\n",
    "                             ylabel = 'BPM',\n",
    "                             kind = 'bar',\n",
    "                             color = 'cadetblue',\n",
    "                             edgecolor = 'black',\n",
    "                             alpha = 0.8)\n",
    "for bars in top_1_weeks_BPM_graph.containers:\n",
    "    top_1_weeks_BPM_graph.bar_label(bars)\n",
    "plt.show()"
   ]
  },
  {
   "cell_type": "code",
   "execution_count": null,
   "id": "6792e578",
   "metadata": {},
   "outputs": [],
   "source": [
    "#project_csv_df"
   ]
  },
  {
   "cell_type": "code",
   "execution_count": null,
   "id": "f8fc89a1",
   "metadata": {
    "scrolled": true
   },
   "outputs": [],
   "source": [
    "project_csv_df = project_csv[['Song', 'Performer', 'Weeks on Chart', 'Week Position', 'WeekID']]\n",
    "project_csv_df"
   ]
  },
  {
   "cell_type": "code",
   "execution_count": null,
   "id": "351a94ef",
   "metadata": {},
   "outputs": [],
   "source": [
    "unique_tracks = project_csv_df.drop_duplicates()\n",
    "unique_tracks"
   ]
  },
  {
   "cell_type": "code",
   "execution_count": null,
   "id": "f3ee40a6",
   "metadata": {},
   "outputs": [],
   "source": [
    "project_csv_df.tail()"
   ]
  },
  {
   "cell_type": "code",
   "execution_count": null,
   "id": "0253384e",
   "metadata": {},
   "outputs": [],
   "source": [
    "songs = project_csv_df['Song'].to_list()[-5:]\n"
   ]
  },
  {
   "cell_type": "code",
   "execution_count": null,
   "id": "8a46a28b",
   "metadata": {},
   "outputs": [],
   "source": []
  },
  {
   "cell_type": "code",
   "execution_count": null,
   "id": "e89aa2e4",
   "metadata": {},
   "outputs": [],
   "source": [
    "# rename"
   ]
  },
  {
   "cell_type": "code",
   "execution_count": null,
   "id": "8bea93cf",
   "metadata": {},
   "outputs": [],
   "source": [
    "project_csv_df.rename(columns = {'Week Position' : 'WeekPosition', 'Weeks on Chart' : 'WeeksonChart'}, inplace=True)\n",
    "project_csv_df"
   ]
  },
  {
   "cell_type": "code",
   "execution_count": null,
   "id": "e0e7cc92",
   "metadata": {
    "scrolled": false
   },
   "outputs": [],
   "source": [
    "position_project=project_csv_df.sort_values(by=['WeekPosition', 'WeeksonChart'], ascending=[True, False])\n",
    "position_project"
   ]
  },
  {
   "cell_type": "code",
   "execution_count": null,
   "id": "c64a4f96",
   "metadata": {},
   "outputs": [],
   "source": []
  },
  {
   "cell_type": "code",
   "execution_count": null,
   "id": "bab227f4",
   "metadata": {},
   "outputs": [],
   "source": [
    "# Position SQL"
   ]
  },
  {
   "cell_type": "code",
   "execution_count": null,
   "id": "bca5fe10",
   "metadata": {},
   "outputs": [],
   "source": [
    "position = 'SELECT Song, Performer, WeeksonChart, WeekPosition FROM position_project WHERE WeekPosition = 1'\n",
    "sqldf(position, globals())\n",
    "position_df = sqldf(position, globals())\n",
    "position_df"
   ]
  },
  {
   "cell_type": "code",
   "execution_count": null,
   "id": "718f64ff",
   "metadata": {},
   "outputs": [],
   "source": [
    "#position_project.drop_values()"
   ]
  },
  {
   "cell_type": "code",
   "execution_count": null,
   "id": "fabb8948",
   "metadata": {},
   "outputs": [],
   "source": [
    "position_drop= position_df.drop(position_project.columns[[2, 3]], axis=1)\n",
    "position_drop"
   ]
  },
  {
   "cell_type": "code",
   "execution_count": null,
   "id": "70379fee",
   "metadata": {},
   "outputs": [],
   "source": [
    "# drop"
   ]
  },
  {
   "cell_type": "code",
   "execution_count": null,
   "id": "6bea6bd4",
   "metadata": {},
   "outputs": [],
   "source": [
    "position_1 =position_drop[['Song', 'Performer']].value_counts()\n",
    "position_1"
   ]
  },
  {
   "cell_type": "code",
   "execution_count": null,
   "id": "6ebec52e",
   "metadata": {},
   "outputs": [],
   "source": [
    "# head(5)"
   ]
  },
  {
   "cell_type": "code",
   "execution_count": null,
   "id": "9880a103",
   "metadata": {},
   "outputs": [],
   "source": [
    "position_top_5= position_1.head(5)\n",
    "position_top_5"
   ]
  },
  {
   "cell_type": "code",
   "execution_count": null,
   "id": "5f48033a",
   "metadata": {},
   "outputs": [],
   "source": [
    "position_df_5 = pd.DataFrame(position_top_5)\n",
    "position_df_5"
   ]
  },
  {
   "cell_type": "code",
   "execution_count": null,
   "id": "7514273f",
   "metadata": {
    "scrolled": true
   },
   "outputs": [],
   "source": [
    "position_graph = position_top_5.plot(figsize=(10,6),\n",
    "                             x= 'Song',\n",
    "                             y= 'WeeksonChart',\n",
    "                             title = 'Top Weeks at #1 on Chart',\n",
    "                             xlabel = 'Song',\n",
    "                             ylabel = 'Weeks On Chart',\n",
    "                             kind = 'bar',\n",
    "                             color = 'cadetblue',\n",
    "                             edgecolor = 'black',\n",
    "                             alpha = 0.8)\n",
    "for bars in position_graph.containers:\n",
    "    position_graph.bar_label(bars)\n",
    "plt.show()"
   ]
  },
  {
   "cell_type": "markdown",
   "id": "2dadf792",
   "metadata": {},
   "source": [
    "# Top 1 Year Chart"
   ]
  },
  {
   "cell_type": "code",
   "execution_count": null,
   "id": "c5ff5a50",
   "metadata": {
    "scrolled": true
   },
   "outputs": [],
   "source": [
    "top_1_years = pd.read_csv('../data/top_1_weeks_year_3.csv')\n",
    "print(top_1_years)"
   ]
  },
  {
   "cell_type": "code",
   "execution_count": null,
   "id": "cd80b76f",
   "metadata": {
    "scrolled": true
   },
   "outputs": [],
   "source": [
    "top_1_year_csv_df = top_1_years[['name.1', 'release_year']]\n",
    "top_1_year_csv_df"
   ]
  },
  {
   "cell_type": "code",
   "execution_count": null,
   "id": "3d0b0f4f",
   "metadata": {
    "scrolled": false
   },
   "outputs": [],
   "source": [
    "top_weeks_1_graph = top_1_year_csv_df.plot(figsize=(10,6),\n",
    "                             x= 'name.1',\n",
    "                             y= 'release_year',\n",
    "                             title = 'Number 1 Weeks Release Year',\n",
    "                             xlabel = 'Song',\n",
    "                             ylabel = 'Release Year',\n",
    "                             kind = 'line',\n",
    "                             color = 'cadetblue',\n",
    "                             \n",
    "                             alpha = 0.8)\n",
    "for bars in top_weeks_1_graph.containers:\n",
    "    top_weeks_1_graph.bar_label(bars)\n",
    "plt.show()"
   ]
  },
  {
   "cell_type": "code",
   "execution_count": null,
   "id": "981ad232",
   "metadata": {},
   "outputs": [],
   "source": [
    "# top weeks years"
   ]
  },
  {
   "cell_type": "code",
   "execution_count": null,
   "id": "1a43525b",
   "metadata": {
    "scrolled": true
   },
   "outputs": [],
   "source": [
    "top_years = pd.read_csv('../data/top_weeks_year_2.csv')\n",
    "print(top_years)"
   ]
  },
  {
   "cell_type": "code",
   "execution_count": null,
   "id": "3b4f20c2",
   "metadata": {
    "scrolled": true
   },
   "outputs": [],
   "source": [
    "top_year_csv_df = top_years[['name.1', 'release_year']]\n",
    "top_year_csv_df"
   ]
  },
  {
   "cell_type": "code",
   "execution_count": null,
   "id": "bf91b5fb",
   "metadata": {},
   "outputs": [],
   "source": [
    "top_weeks_graph = top_year_csv_df.plot(figsize=(10,6),\n",
    "                             x= 'name.1',\n",
    "                             y= 'release_year',\n",
    "                             title = 'Top Weeks Release Year',\n",
    "                             xlabel = 'Song',\n",
    "                             ylabel = 'Release Year',\n",
    "                             kind = 'line',\n",
    "                             color = 'cadetblue',\n",
    "                             \n",
    "                             alpha = 0.8)\n",
    "for bars in top_weeks_graph.containers:\n",
    "    top_weeks_graph.bar_label(bars)\n",
    "plt.show()"
   ]
  },
  {
   "cell_type": "markdown",
   "id": "c4eee0e7",
   "metadata": {},
   "source": [
    "# Weeks on Chart SQL"
   ]
  },
  {
   "cell_type": "code",
   "execution_count": null,
   "id": "b42f8972",
   "metadata": {},
   "outputs": [],
   "source": [
    "#sort_values Weeks on Chart"
   ]
  },
  {
   "cell_type": "code",
   "execution_count": null,
   "id": "701587f0",
   "metadata": {
    "scrolled": true
   },
   "outputs": [],
   "source": [
    "sorted_project=project_csv_df.sort_values(by='WeeksonChart', ascending=False)\n",
    "sorted_project"
   ]
  },
  {
   "cell_type": "code",
   "execution_count": null,
   "id": "ff08f206",
   "metadata": {},
   "outputs": [],
   "source": []
  },
  {
   "cell_type": "code",
   "execution_count": null,
   "id": "94143326",
   "metadata": {},
   "outputs": [],
   "source": [
    "#sort_drop"
   ]
  },
  {
   "cell_type": "code",
   "execution_count": null,
   "id": "ae4c0056",
   "metadata": {},
   "outputs": [],
   "source": [
    "sort_drop= sorted_project.drop(sorted_project.columns[[ 2, 3, 4]], axis=1)\n",
    "sort_drop"
   ]
  },
  {
   "cell_type": "code",
   "execution_count": null,
   "id": "f40f45f9",
   "metadata": {},
   "outputs": [],
   "source": [
    "unique_tracks = sort_drop.drop_duplicates()\n",
    "unique_tracks"
   ]
  },
  {
   "cell_type": "code",
   "execution_count": null,
   "id": "3f6509f3",
   "metadata": {},
   "outputs": [],
   "source": [
    "# Weeks on Chart count"
   ]
  },
  {
   "cell_type": "code",
   "execution_count": null,
   "id": "536e74a6",
   "metadata": {},
   "outputs": [],
   "source": [
    "weeks_drop= sort_drop[['Song', 'Performer']].value_counts()\n",
    "weeks_drop"
   ]
  },
  {
   "cell_type": "code",
   "execution_count": null,
   "id": "86eca54e",
   "metadata": {},
   "outputs": [],
   "source": [
    "weeks_top_5 = weeks_drop.head(5)"
   ]
  },
  {
   "cell_type": "code",
   "execution_count": null,
   "id": "e5fb3d93",
   "metadata": {},
   "outputs": [],
   "source": [
    "weeks_df_5 = pd.DataFrame(weeks_top_5)\n",
    "weeks_df_5"
   ]
  },
  {
   "cell_type": "code",
   "execution_count": null,
   "id": "3632c143",
   "metadata": {},
   "outputs": [],
   "source": [
    "weeks_graph = weeks_top_5.plot(figsize=(10,6),\n",
    "                             x= 'Song',\n",
    "                             y= 'WeeksonChart',\n",
    "                             title = 'Top Weeks on Chart',\n",
    "                             xlabel = 'Song',\n",
    "                             ylabel = 'Weeks On Chart',\n",
    "                             kind = 'bar',\n",
    "                             color = 'cadetblue',\n",
    "                             edgecolor = 'black',\n",
    "                             alpha = 0.8)\n",
    "for bars in weeks_graph.containers:\n",
    "    weeks_graph.bar_label(bars)\n",
    "plt.show()"
   ]
  },
  {
   "cell_type": "markdown",
   "id": "233e1fbb",
   "metadata": {},
   "source": [
    "# top weeks 100"
   ]
  },
  {
   "cell_type": "code",
   "execution_count": null,
   "id": "d8188aef",
   "metadata": {},
   "outputs": [],
   "source": [
    "sorted_project_100=project_csv_df.sort_values(by='WeeksonChart', ascending=False)\n",
    "sorted_project_100"
   ]
  },
  {
   "cell_type": "code",
   "execution_count": null,
   "id": "ebf40be6",
   "metadata": {},
   "outputs": [],
   "source": [
    "sort_drop_100= sorted_project.drop(sorted_project.columns[[2, 3, 4]], axis=1)\n",
    "sort_drop_100"
   ]
  },
  {
   "cell_type": "code",
   "execution_count": null,
   "id": "acfc471a",
   "metadata": {},
   "outputs": [],
   "source": [
    "weeks_drop_100= sort_drop[['Song', 'Performer']].value_counts()\n",
    "weeks_drop_100"
   ]
  },
  {
   "cell_type": "code",
   "execution_count": null,
   "id": "7903d215",
   "metadata": {},
   "outputs": [],
   "source": [
    "weeks_top_100 = weeks_drop.head(100)"
   ]
  },
  {
   "cell_type": "code",
   "execution_count": null,
   "id": "836c908b",
   "metadata": {},
   "outputs": [],
   "source": [
    "weeks_df_100 = pd.DataFrame(weeks_top_100)\n",
    "weeks_df_100"
   ]
  },
  {
   "cell_type": "code",
   "execution_count": null,
   "id": "42b31ee2",
   "metadata": {},
   "outputs": [],
   "source": [
    "weeks_df_100_csv = weeks_df_100.to_csv('weeks_df_100.csv')"
   ]
  },
  {
   "cell_type": "code",
   "execution_count": null,
   "id": "721ecaf5",
   "metadata": {},
   "outputs": [],
   "source": [
    "top_weeks_100 = pd.read_csv('../data/weeks_df_100_genre.csv')\n",
    "print(top_weeks_100)"
   ]
  },
  {
   "cell_type": "code",
   "execution_count": null,
   "id": "b8e910bd",
   "metadata": {
    "scrolled": true
   },
   "outputs": [],
   "source": [
    "weeks_df_100_2 = pd.DataFrame(top_weeks_100)\n",
    "weeks_df_100_2"
   ]
  },
  {
   "cell_type": "code",
   "execution_count": null,
   "id": "46bfe928",
   "metadata": {
    "scrolled": true
   },
   "outputs": [],
   "source": [
    "weeks_df_100_2_2 = weeks_df_100_2.groupby('genre').Song.nunique().reset_index()\n",
    "weeks_df_100_2_2.sort_values(\"Song\", axis = 0, ascending = False, inplace = True)\n",
    "weeks_df_100_2_2"
   ]
  },
  {
   "cell_type": "code",
   "execution_count": null,
   "id": "1d1f6f1c",
   "metadata": {},
   "outputs": [],
   "source": [
    "weeks_graph = weeks_df_100_2_2.plot(figsize=(10,6),\n",
    "                             x= 'genre',\n",
    "                             y= 'Song',\n",
    "                             title = 'Top Weeks on Genre',\n",
    "                             xlabel = 'Genre',\n",
    "                             ylabel = 'Number of Songs',\n",
    "                             kind = 'bar',\n",
    "                             color = 'cadetblue',\n",
    "                             edgecolor = 'black',\n",
    "                             alpha = 0.8)\n",
    "plt.show()"
   ]
  },
  {
   "cell_type": "code",
   "execution_count": null,
   "id": "f00130d7",
   "metadata": {},
   "outputs": [],
   "source": [
    "weeks_df_100_3 = weeks_df_100_2.groupby(['Song', 'genre']).size()\n",
    "weeks_df_100_3"
   ]
  },
  {
   "cell_type": "code",
   "execution_count": null,
   "id": "c749f7b7",
   "metadata": {},
   "outputs": [],
   "source": [
    "weeks_df_100_4 = pd.DataFrame(weeks_df_100_3)\n",
    "weeks_df_100_4"
   ]
  },
  {
   "cell_type": "code",
   "execution_count": null,
   "id": "bd57a836",
   "metadata": {
    "scrolled": true
   },
   "outputs": [],
   "source": [
    "position_100 = weeks_df_100_2.groupby(['genre', 'Song']).nunique()\n",
    "position_100"
   ]
  },
  {
   "cell_type": "code",
   "execution_count": null,
   "id": "746aa858",
   "metadata": {
    "scrolled": true
   },
   "outputs": [],
   "source": [
    "position_100_df = pd.DataFrame(position_100)\n",
    "position_100_df"
   ]
  },
  {
   "cell_type": "code",
   "execution_count": null,
   "id": "20ba73ac",
   "metadata": {
    "scrolled": true
   },
   "outputs": [],
   "source": [
    "position_100_df_clean = position_100_df.astype(float)\n",
    "position_100_df_clean"
   ]
  },
  {
   "cell_type": "code",
   "execution_count": null,
   "id": "c94ec446",
   "metadata": {},
   "outputs": [],
   "source": [
    "weeks_graph_100 = weeks_top_100.plot(figsize=(25,15),\n",
    "                             x= 'Song',\n",
    "                             y= 'WeeksonChart',\n",
    "                             title = 'Top 100 Weeks on Chart',\n",
    "                             xlabel = 'Song',\n",
    "                             ylabel = 'Weeks On Chart',\n",
    "                             kind = 'bar',\n",
    "                             color = 'cadetblue',\n",
    "                             edgecolor = 'black',\n",
    "                             alpha = 0.8)\n",
    "for bars in weeks_graph_100.containers:\n",
    "    weeks_graph_100.bar_label(bars)\n",
    "plt.show()"
   ]
  },
  {
   "cell_type": "markdown",
   "id": "05b6ce95",
   "metadata": {},
   "source": [
    "# Top 100 Weeks at 1"
   ]
  },
  {
   "cell_type": "code",
   "execution_count": null,
   "id": "1f85f30c",
   "metadata": {},
   "outputs": [],
   "source": [
    "position_project_100=project_csv_df.sort_values(by=['WeekPosition', 'WeeksonChart'], ascending=[True, False])\n",
    "position_project_100"
   ]
  },
  {
   "cell_type": "code",
   "execution_count": null,
   "id": "7dbd1f5c",
   "metadata": {},
   "outputs": [],
   "source": [
    "position_100 = 'SELECT Song, Performer, WeeksonChart, WeekPosition FROM position_project WHERE WeekPosition = 1'\n",
    "sqldf(position_100, globals())\n",
    "position_df_100 = sqldf(position_100, globals())\n",
    "position_df_100"
   ]
  },
  {
   "cell_type": "code",
   "execution_count": null,
   "id": "f7cddfb0",
   "metadata": {},
   "outputs": [],
   "source": [
    "position_100 =position_df_100[['Song', 'Performer']].value_counts()\n",
    "position_100"
   ]
  },
  {
   "cell_type": "code",
   "execution_count": null,
   "id": "af50df0a",
   "metadata": {},
   "outputs": [],
   "source": [
    "position_top_5_100= position_100.head(100)\n",
    "position_top_5_100"
   ]
  },
  {
   "cell_type": "code",
   "execution_count": null,
   "id": "75545b1a",
   "metadata": {
    "scrolled": true
   },
   "outputs": [],
   "source": [
    "position_df_5_100 = pd.DataFrame(position_top_5_100)\n",
    "position_df_5_100"
   ]
  },
  {
   "cell_type": "code",
   "execution_count": null,
   "id": "ad8e3426",
   "metadata": {
    "scrolled": true
   },
   "outputs": [],
   "source": [
    "position_df_head_100 = position_df_5_100.head(100)\n",
    "position_df_head_100"
   ]
  },
  {
   "cell_type": "code",
   "execution_count": null,
   "id": "76d17b6f",
   "metadata": {},
   "outputs": [],
   "source": [
    "position_graph_100 = position_top_5_100.plot(figsize=(25,15),\n",
    "                             x= 'Song',\n",
    "                             y= 'WeeksonChart',\n",
    "                             title = 'Top Weeks 100 at #1 on Chart',\n",
    "                             xlabel = 'Song',\n",
    "                             ylabel = 'Weeks On Chart',\n",
    "                             kind = 'bar',\n",
    "                             color = 'cadetblue',\n",
    "                             edgecolor = 'black',\n",
    "                             alpha = 0.8)\n",
    "for bars in position_graph_100.containers:\n",
    "    position_graph_100.bar_label(bars)\n",
    "plt.show()"
   ]
  },
  {
   "cell_type": "markdown",
   "id": "4638b3d2",
   "metadata": {},
   "source": [
    "# Top Weeks Earnings"
   ]
  },
  {
   "cell_type": "code",
   "execution_count": null,
   "id": "be3428ad",
   "metadata": {
    "scrolled": true
   },
   "outputs": [],
   "source": [
    "top_weeks_stream_100 = pd.read_csv('../data/top_weeks_stream_100.csv')\n",
    "print(top_weeks_stream_100)"
   ]
  },
  {
   "cell_type": "code",
   "execution_count": null,
   "id": "e2000944",
   "metadata": {},
   "outputs": [],
   "source": [
    "top_weeks_stream_100_df = top_weeks_stream_100[['name.1', 'earned']]\n",
    "top_weeks_stream_100_df"
   ]
  },
  {
   "cell_type": "code",
   "execution_count": null,
   "id": "682dcc75",
   "metadata": {},
   "outputs": [],
   "source": [
    "top_weeks_earned_csv = top_weeks_stream_100_df.to_csv('top_weeks_earned.csv')"
   ]
  },
  {
   "cell_type": "markdown",
   "id": "e4f8c6c1",
   "metadata": {},
   "source": [
    "# Top 1 Weeks Earned"
   ]
  },
  {
   "cell_type": "code",
   "execution_count": null,
   "id": "d0179178",
   "metadata": {
    "scrolled": true
   },
   "outputs": [],
   "source": [
    "top_weeks_1_100_stream = pd.read_csv('../data/top_1_weeks_stream_100.csv')\n",
    "print(top_weeks_1_100_stream)"
   ]
  },
  {
   "cell_type": "code",
   "execution_count": null,
   "id": "5e03439b",
   "metadata": {
    "scrolled": true
   },
   "outputs": [],
   "source": [
    "top_1_weeks_stream_df = top_weeks_1_100_stream[['name.1', 'earned']]\n",
    "top_1_weeks_stream_df"
   ]
  },
  {
   "cell_type": "code",
   "execution_count": null,
   "id": "3706fb31",
   "metadata": {},
   "outputs": [],
   "source": [
    "top_weeks_1_earned_csv = top_1_weeks_stream_df.to_csv('top_1_weeks_earned.csv')"
   ]
  },
  {
   "cell_type": "code",
   "execution_count": null,
   "id": "561d3e99",
   "metadata": {},
   "outputs": [],
   "source": [
    "#Top Weeks Genre"
   ]
  },
  {
   "cell_type": "code",
   "execution_count": null,
   "id": "9102a0f8",
   "metadata": {},
   "outputs": [],
   "source": [
    "top_weeks_genre = pd.read_csv('../data/top_weeks_stream_genre.csv')\n",
    "print(top_weeks_genre)"
   ]
  },
  {
   "cell_type": "code",
   "execution_count": null,
   "id": "7d55dfce",
   "metadata": {},
   "outputs": [],
   "source": [
    "top_weeks_genre_df = top_weeks_genre[['name.1', 'genre']]\n",
    "top_weeks_genre_df"
   ]
  },
  {
   "cell_type": "code",
   "execution_count": null,
   "id": "db00dab0",
   "metadata": {},
   "outputs": [],
   "source": [
    "#Top 1 Weeks Genre"
   ]
  },
  {
   "cell_type": "code",
   "execution_count": null,
   "id": "26ca30dc",
   "metadata": {},
   "outputs": [],
   "source": [
    "top_1_weeks_genre = pd.read_csv('../data/top_1_Weeks_genre.csv')\n",
    "print(top_1_weeks_genre)"
   ]
  },
  {
   "cell_type": "code",
   "execution_count": null,
   "id": "fd538f9a",
   "metadata": {
    "scrolled": false
   },
   "outputs": [],
   "source": [
    "top_1_weeks_genre_df = top_1_weeks_genre[['name.1', 'genre']]\n",
    "top_1_weeks_genre_df"
   ]
  },
  {
   "cell_type": "markdown",
   "id": "7d789cc0",
   "metadata": {},
   "source": [
    "# Genre Search"
   ]
  },
  {
   "cell_type": "code",
   "execution_count": null,
   "id": "9ece4be5",
   "metadata": {},
   "outputs": [],
   "source": [
    "unique_artists = unique_tracks['Performer'].drop_duplicates()"
   ]
  },
  {
   "cell_type": "code",
   "execution_count": null,
   "id": "e89c8c80",
   "metadata": {},
   "outputs": [],
   "source": [
    "def get_genre_info (artist): \n",
    "\n",
    "    response = spotify.search(query ={'artist' : artist}, search_type='artist')\n",
    "    \n",
    "    if response['artists']['total'] == 0: \n",
    "        return None\n",
    "    \n",
    "    match = response['artists']['items'][0]\n",
    "    \n",
    "    \n",
    "    genres = match['genres']\n",
    "    popularity = match['popularity']\n",
    "    \n",
    "    title = match['name']\n",
    "    \n",
    "    uri = match['uri']\n",
    "    \n",
    "    return (artist,  popularity,  title,  uri, genres)"
   ]
  },
  {
   "cell_type": "code",
   "execution_count": null,
   "id": "dd2adb65",
   "metadata": {},
   "outputs": [],
   "source": []
  },
  {
   "cell_type": "code",
   "execution_count": null,
   "id": "e7b73a9b",
   "metadata": {},
   "outputs": [],
   "source": [
    "unique_artists = unique_tracks['Performer'].drop_duplicates()"
   ]
  },
  {
   "cell_type": "markdown",
   "id": "e4d75486",
   "metadata": {},
   "source": [
    "# Track Search"
   ]
  },
  {
   "cell_type": "code",
   "execution_count": null,
   "id": "932f1687",
   "metadata": {},
   "outputs": [],
   "source": [
    "def get_info (track, artist): \n",
    "\n",
    "    response = spotify.search(query = {'track': track, 'artist' : artist}, search_type ='track')\n",
    "    \n",
    "    if response['tracks']['total'] == 0: \n",
    "        return None\n",
    "    \n",
    "    match = response['tracks']['items'][0]\n",
    "    \n",
    "    \n",
    "    explicit = match['explicit']\n",
    "    popularity = match['popularity']\n",
    "    name = match['artists'][0]['name']\n",
    "    title = match['name']\n",
    "    duration = match['duration_ms']\n",
    "    uri = match['uri']\n",
    "    \n",
    "    return (explicit, popularity, name, title, duration, uri)"
   ]
  },
  {
   "cell_type": "code",
   "execution_count": null,
   "id": "f9ad4f04",
   "metadata": {
    "scrolled": true
   },
   "outputs": [],
   "source": [
    "#for i in range(21,30):\n",
    "    \n",
    "    #result = []\n",
    "    #songs = unique_tracks['Song'].to_list()[1000 * i : 1000*(i +1)]\n",
    "    #artists = unique_tracks['Performer'].to_list()[1000 * i : 1000*(i +1)]\n",
    "\n",
    "\n",
    "    #for song, artist in zip(songs, artists):\n",
    "        #result.append(get_info (song, artist))\n",
    "    #loop1000 = pd.DataFrame(result)\n",
    "    #loop1000.to_csv(f'../csvs_6/csv_2{i}.csv', index = False)\n",
    "    #print(f'done with {i}')"
   ]
  },
  {
   "cell_type": "code",
   "execution_count": null,
   "id": "661d356c",
   "metadata": {},
   "outputs": [],
   "source": [
    "for i in range(20,29):\n",
    "    \n",
    "    result = []\n",
    "    songs = unique_tracks['Song'].to_list()[1000 * i:]\n",
    "    artists = unique_tracks['Performer'].to_list()[1000 * i :]\n",
    "\n",
    "\n",
    "    for song, artist in zip(songs, artists):\n",
    "        result.append(get_info (song, artist))\n",
    "    loop1000 = pd.DataFrame(result)\n",
    "    loop1000.to_csv(f'../csvs_2/csv_2{i}.csv', index = False)\n",
    "    print(f'done with {i}')"
   ]
  },
  {
   "cell_type": "code",
   "execution_count": null,
   "id": "c5244dec",
   "metadata": {},
   "outputs": [],
   "source": [
    "for song, artist in zip(songs, artists):\n",
    "        result.append(get_info (song, artist))\n",
    "    loop1000 = pd.DataFrame(result)\n",
    "    loop1000.to_csv(f'../csvs_2/csv_2{i}.csv', index = False)\n",
    "    print(f'done with {i}')"
   ]
  },
  {
   "cell_type": "code",
   "execution_count": null,
   "id": "82225918",
   "metadata": {},
   "outputs": [],
   "source": [
    "for artist in songss:\n",
    "        result.append(get_info (song))\n",
    "    loop1000 = pd.DataFrame(result)\n",
    "    loop1000.to_csv(f'../csvs_2/csv_{i}.csv', index = False)\n",
    "    print(f'done with {i}')"
   ]
  },
  {
   "cell_type": "code",
   "execution_count": null,
   "id": "31b0c002",
   "metadata": {},
   "outputs": [],
   "source": [
    "unique_tracks = project_csv_df[['Song', 'Performer']].drop_duplicates()\n",
    "unique_tracks"
   ]
  },
  {
   "cell_type": "code",
   "execution_count": null,
   "id": "58bfa51d",
   "metadata": {},
   "outputs": [],
   "source": [
    "unique_tracks.head(10)"
   ]
  },
  {
   "cell_type": "code",
   "execution_count": null,
   "id": "d5333727",
   "metadata": {
    "scrolled": true
   },
   "outputs": [],
   "source": []
  },
  {
   "cell_type": "code",
   "execution_count": null,
   "id": "e88634f6",
   "metadata": {},
   "outputs": [],
   "source": [
    "track = \"Don't Just stand there\"\n",
    "artist = 'Patty duke'\n",
    "#get_info(track, artist)\n",
    "spotify.search({'track': track, 'artist': artist}, search_type ='track')"
   ]
  },
  {
   "cell_type": "markdown",
   "id": "ac6a9577",
   "metadata": {},
   "source": [
    "# 100"
   ]
  },
  {
   "cell_type": "markdown",
   "id": "b212fe7f",
   "metadata": {},
   "source": [
    "#  1 Radioactive"
   ]
  },
  {
   "cell_type": "code",
   "execution_count": null,
   "id": "9618842d",
   "metadata": {
    "scrolled": true
   },
   "outputs": [],
   "source": [
    "radioactive = spotify.search({'track': 'Radioactive', 'artist': 'Imagine'}, search_type ='track')\n",
    "radioactive"
   ]
  },
  {
   "cell_type": "code",
   "execution_count": null,
   "id": "e8982e46",
   "metadata": {
    "scrolled": true
   },
   "outputs": [],
   "source": [
    "radioactive['tracks']['items'][0]"
   ]
  },
  {
   "cell_type": "code",
   "execution_count": null,
   "id": "a148a51d",
   "metadata": {
    "scrolled": true
   },
   "outputs": [],
   "source": [
    "test = pd.DataFrame.from_dict(radioactive,orient='columns')\n",
    "test1 = test.tracks.apply(pd.Series)\n",
    "test2 = pd.DataFrame(test1.iloc[1])\n",
    "test_1 = test2['items'].apply(pd.Series)\n",
    "test_1 = test_1.head(1)\n",
    "test_1"
   ]
  },
  {
   "cell_type": "markdown",
   "id": "fccfc370",
   "metadata": {},
   "source": [
    "# 2 Sail"
   ]
  },
  {
   "cell_type": "code",
   "execution_count": null,
   "id": "605a175e",
   "metadata": {},
   "outputs": [],
   "source": [
    "sail = spotify.search({'track': 'Sail', 'artist': 'AWOL'}, search_type ='track')\n",
    "sail"
   ]
  },
  {
   "cell_type": "code",
   "execution_count": null,
   "id": "e3b21881",
   "metadata": {},
   "outputs": [],
   "source": [
    "sail['tracks']['items'][0]"
   ]
  },
  {
   "cell_type": "code",
   "execution_count": null,
   "id": "b192abcb",
   "metadata": {},
   "outputs": [],
   "source": [
    "test = pd.DataFrame.from_dict(sail,orient='columns')\n",
    "test1 = test.tracks.apply(pd.Series)\n",
    "test2 = pd.DataFrame(test1.iloc[1])\n",
    "test_2 = test2['items'].apply(pd.Series)\n",
    "test_2 = test_2.head(1)\n",
    "test_2"
   ]
  },
  {
   "cell_type": "markdown",
   "id": "32ff7c36",
   "metadata": {},
   "source": [
    "# 3 I'm Yours"
   ]
  },
  {
   "cell_type": "code",
   "execution_count": null,
   "id": "7d10bb66",
   "metadata": {},
   "outputs": [],
   "source": [
    "Im_Yours = spotify.search({'track': \"Im Yours\", 'artist': 'Jason'}, search_type ='track')"
   ]
  },
  {
   "cell_type": "code",
   "execution_count": null,
   "id": "14d4350b",
   "metadata": {
    "scrolled": true
   },
   "outputs": [],
   "source": [
    "Im_Yours['tracks']['items'][0]"
   ]
  },
  {
   "cell_type": "code",
   "execution_count": null,
   "id": "6e108536",
   "metadata": {},
   "outputs": [],
   "source": [
    "test = pd.DataFrame.from_dict(Im_Yours,orient='columns')\n",
    "test1 = test.tracks.apply(pd.Series)\n",
    "test2 = pd.DataFrame(test1.iloc[1])\n",
    "test_3 = test2['items'].apply(pd.Series)\n",
    "test_3 = test_3.head(1)"
   ]
  },
  {
   "cell_type": "markdown",
   "id": "b8b7c66d",
   "metadata": {},
   "source": [
    "# 4 Blinding Lights"
   ]
  },
  {
   "cell_type": "code",
   "execution_count": null,
   "id": "347d5b98",
   "metadata": {},
   "outputs": [],
   "source": [
    "Blinding = spotify.search({'track': \"Blinding Lights\", 'artist': 'Weeknd'}, search_type ='track')"
   ]
  },
  {
   "cell_type": "code",
   "execution_count": null,
   "id": "74a03687",
   "metadata": {
    "scrolled": true
   },
   "outputs": [],
   "source": [
    "Blinding['tracks']['items'][0]"
   ]
  },
  {
   "cell_type": "code",
   "execution_count": null,
   "id": "bdc48616",
   "metadata": {},
   "outputs": [],
   "source": [
    "test = pd.DataFrame.from_dict(Blinding,orient='columns')\n",
    "test1 = test.tracks.apply(pd.Series)\n",
    "test2 = pd.DataFrame(test1.iloc[1])\n",
    "test_4 = test2['items'].apply(pd.Series)\n",
    "test_4 = test_4.head(1)"
   ]
  },
  {
   "cell_type": "markdown",
   "id": "c3bdeee6",
   "metadata": {},
   "source": [
    "# 5 How do I Live"
   ]
  },
  {
   "cell_type": "code",
   "execution_count": null,
   "id": "6bfe8189",
   "metadata": {},
   "outputs": [],
   "source": [
    "How_Do_I = spotify.search({'track': \"How Do I Live\", 'artist': 'LeAnn'}, search_type ='track')"
   ]
  },
  {
   "cell_type": "code",
   "execution_count": null,
   "id": "2b087aad",
   "metadata": {
    "scrolled": true
   },
   "outputs": [],
   "source": [
    "How_Do_I['tracks']['items'][0]"
   ]
  },
  {
   "cell_type": "code",
   "execution_count": null,
   "id": "77a80133",
   "metadata": {},
   "outputs": [],
   "source": [
    "test = pd.DataFrame.from_dict(How_Do_I,orient='columns')\n",
    "test1 = test.tracks.apply(pd.Series)\n",
    "test2 = pd.DataFrame(test1.iloc[1])\n",
    "test5 = test2['items'].apply(pd.Series)\n",
    "test5 = test5.head(1)"
   ]
  },
  {
   "cell_type": "markdown",
   "id": "2ab69a12",
   "metadata": {},
   "source": [
    "# 6 Party Rock Anthem"
   ]
  },
  {
   "cell_type": "code",
   "execution_count": null,
   "id": "155d8b74",
   "metadata": {},
   "outputs": [],
   "source": [
    "Party_Rock = spotify.search({'track': \"Party Rock Anthem\", 'artist': 'LMFAO'}, search_type ='track')"
   ]
  },
  {
   "cell_type": "code",
   "execution_count": null,
   "id": "8cf9e22b",
   "metadata": {
    "scrolled": true
   },
   "outputs": [],
   "source": [
    "Party_Rock['tracks']['items'][0]"
   ]
  },
  {
   "cell_type": "code",
   "execution_count": null,
   "id": "6e786870",
   "metadata": {},
   "outputs": [],
   "source": [
    "test = pd.DataFrame.from_dict(Party_Rock,orient='columns')\n",
    "test1 = test.tracks.apply(pd.Series)\n",
    "test2 = pd.DataFrame(test1.iloc[1])\n",
    "test6 = test2['items'].apply(pd.Series)\n",
    "test6 = test6.head(1)"
   ]
  },
  {
   "cell_type": "markdown",
   "id": "c56cdcbd",
   "metadata": {},
   "source": [
    "# 7 Counting Stars"
   ]
  },
  {
   "cell_type": "code",
   "execution_count": null,
   "id": "688cffb8",
   "metadata": {},
   "outputs": [],
   "source": [
    "Counting_stars = spotify.search({'track': \"Counting Stars\", 'artist': 'One'}, search_type ='track')"
   ]
  },
  {
   "cell_type": "code",
   "execution_count": null,
   "id": "c5210d37",
   "metadata": {
    "scrolled": true
   },
   "outputs": [],
   "source": [
    "Counting_stars['tracks']['items'][0]"
   ]
  },
  {
   "cell_type": "code",
   "execution_count": null,
   "id": "6173eebc",
   "metadata": {},
   "outputs": [],
   "source": [
    "test = pd.DataFrame.from_dict(Counting_stars,orient='columns')\n",
    "test1 = test.tracks.apply(pd.Series)\n",
    "test2 = pd.DataFrame(test1.iloc[1])\n",
    "test7 = test2['items'].apply(pd.Series)\n",
    "test7 = test7.head(1)"
   ]
  },
  {
   "cell_type": "markdown",
   "id": "6b25b733",
   "metadata": {},
   "source": [
    "# 8 Foolish Games"
   ]
  },
  {
   "cell_type": "code",
   "execution_count": null,
   "id": "4c70bc45",
   "metadata": {},
   "outputs": [],
   "source": [
    "foolish_games = spotify.search({'track': \"Foolish Games\", 'artist': 'Jewel'}, search_type ='track')"
   ]
  },
  {
   "cell_type": "code",
   "execution_count": null,
   "id": "56ba313a",
   "metadata": {},
   "outputs": [],
   "source": [
    "foolish_games['tracks']['items'][0]"
   ]
  },
  {
   "cell_type": "code",
   "execution_count": null,
   "id": "9d49b2cd",
   "metadata": {},
   "outputs": [],
   "source": [
    "test = pd.DataFrame.from_dict(foolish_games,orient='columns')\n",
    "test1 = test.tracks.apply(pd.Series)\n",
    "test2 = pd.DataFrame(test1.iloc[1])\n",
    "test8 = test2['items'].apply(pd.Series)\n",
    "test8 = test8.head(1)"
   ]
  },
  {
   "cell_type": "markdown",
   "id": "cbf48b97",
   "metadata": {},
   "source": [
    "# 9 Rolling in the Deep"
   ]
  },
  {
   "cell_type": "code",
   "execution_count": null,
   "id": "118e32b8",
   "metadata": {},
   "outputs": [],
   "source": [
    "Rolling_in_the_deep = spotify.search({'track': \"Rolling in the deep\", 'artist': 'Adele'}, search_type ='track')"
   ]
  },
  {
   "cell_type": "code",
   "execution_count": null,
   "id": "89f002ad",
   "metadata": {
    "scrolled": true
   },
   "outputs": [],
   "source": [
    "Rolling_in_the_deep['tracks']['items'][0]"
   ]
  },
  {
   "cell_type": "code",
   "execution_count": null,
   "id": "2e0a126f",
   "metadata": {},
   "outputs": [],
   "source": [
    "test = pd.DataFrame.from_dict(Rolling_in_the_deep,orient='columns')\n",
    "test1 = test.tracks.apply(pd.Series)\n",
    "test2 = pd.DataFrame(test1.iloc[1])\n",
    "test9 = test2['items'].apply(pd.Series)\n",
    "test9 = test9.head(1)"
   ]
  },
  {
   "cell_type": "markdown",
   "id": "8b7fd6c1",
   "metadata": {},
   "source": [
    "# 10 Before he Cheats"
   ]
  },
  {
   "cell_type": "code",
   "execution_count": null,
   "id": "c1f36d6f",
   "metadata": {},
   "outputs": [],
   "source": [
    "Before_he_cheats = spotify.search({'track': \"Before He Cheats\", 'artist': 'Carrie'}, search_type ='track')"
   ]
  },
  {
   "cell_type": "code",
   "execution_count": null,
   "id": "b33c32d3",
   "metadata": {},
   "outputs": [],
   "source": [
    "Before_he_cheats['tracks']['items'][0]"
   ]
  },
  {
   "cell_type": "code",
   "execution_count": null,
   "id": "c5cb95c4",
   "metadata": {},
   "outputs": [],
   "source": [
    "test = pd.DataFrame.from_dict(Before_he_cheats,orient='columns')\n",
    "test1 = test.tracks.apply(pd.Series)\n",
    "test2 = pd.DataFrame(test1.iloc[1])\n",
    "test10 = test2['items'].apply(pd.Series)\n",
    "test10 = test10.head(1)"
   ]
  },
  {
   "cell_type": "markdown",
   "id": "1181d6b4",
   "metadata": {},
   "source": [
    "# 11 I hope"
   ]
  },
  {
   "cell_type": "code",
   "execution_count": null,
   "id": "af989a54",
   "metadata": {},
   "outputs": [],
   "source": [
    "I_hope = spotify.search({'track': \"I hope\", 'artist': 'Gabby'}, search_type ='track')"
   ]
  },
  {
   "cell_type": "code",
   "execution_count": null,
   "id": "f22837a2",
   "metadata": {
    "scrolled": true
   },
   "outputs": [],
   "source": [
    "I_hope['tracks']['items'][0]"
   ]
  },
  {
   "cell_type": "code",
   "execution_count": null,
   "id": "cfb158f0",
   "metadata": {},
   "outputs": [],
   "source": [
    "test = pd.DataFrame.from_dict(I_hope,orient='columns')\n",
    "test1 = test.tracks.apply(pd.Series)\n",
    "test2 = pd.DataFrame(test1.iloc[1])\n",
    "test11 = test2['items'].apply(pd.Series)\n",
    "test11 = test11.head(1)"
   ]
  },
  {
   "cell_type": "markdown",
   "id": "8f3ef474",
   "metadata": {},
   "source": [
    "# 12 Ho Hey"
   ]
  },
  {
   "cell_type": "code",
   "execution_count": null,
   "id": "de959b48",
   "metadata": {},
   "outputs": [],
   "source": [
    "ho_hey = spotify.search({'track': \"Ho Hey\", 'artist': 'Lumineers'}, search_type ='track')"
   ]
  },
  {
   "cell_type": "code",
   "execution_count": null,
   "id": "0c42c960",
   "metadata": {
    "scrolled": true
   },
   "outputs": [],
   "source": [
    "ho_hey['tracks']['items'][0]"
   ]
  },
  {
   "cell_type": "code",
   "execution_count": null,
   "id": "83b5652b",
   "metadata": {},
   "outputs": [],
   "source": [
    "test = pd.DataFrame.from_dict(ho_hey,orient='columns')\n",
    "test1 = test.tracks.apply(pd.Series)\n",
    "test2 = pd.DataFrame(test1.iloc[1])\n",
    "test12 = test2['items'].apply(pd.Series)\n",
    "test12 = test12.head(1)"
   ]
  },
  {
   "cell_type": "markdown",
   "id": "270d8a62",
   "metadata": {},
   "source": [
    "# 13 You and Me"
   ]
  },
  {
   "cell_type": "code",
   "execution_count": null,
   "id": "78114a7e",
   "metadata": {},
   "outputs": [],
   "source": [
    "you_and_me = spotify.search({'track': \"you and me\", 'artist': 'lifehouse'}, search_type ='track')"
   ]
  },
  {
   "cell_type": "code",
   "execution_count": null,
   "id": "6ba2b7b1",
   "metadata": {},
   "outputs": [],
   "source": [
    "you_and_me['tracks']['items'][0]"
   ]
  },
  {
   "cell_type": "code",
   "execution_count": null,
   "id": "dd7568e5",
   "metadata": {},
   "outputs": [],
   "source": [
    "test = pd.DataFrame.from_dict(you_and_me,orient='columns')\n",
    "test1 = test.tracks.apply(pd.Series)\n",
    "test2 = pd.DataFrame(test1.iloc[1])\n",
    "test13 = test2['items'].apply(pd.Series)\n",
    "test13 = test13.head(1)"
   ]
  },
  {
   "cell_type": "markdown",
   "id": "18496e3a",
   "metadata": {},
   "source": [
    "# 14 Circles"
   ]
  },
  {
   "cell_type": "code",
   "execution_count": null,
   "id": "fd713871",
   "metadata": {},
   "outputs": [],
   "source": [
    "circles = spotify.search({'track': \"circles\", 'artist': 'post'}, search_type ='track')"
   ]
  },
  {
   "cell_type": "code",
   "execution_count": null,
   "id": "cb50fb78",
   "metadata": {},
   "outputs": [],
   "source": [
    "circles['tracks']['items'][0]"
   ]
  },
  {
   "cell_type": "code",
   "execution_count": null,
   "id": "b79e47d5",
   "metadata": {},
   "outputs": [],
   "source": [
    "test = pd.DataFrame.from_dict(circles,orient='columns')\n",
    "test1 = test.tracks.apply(pd.Series)\n",
    "test2 = pd.DataFrame(test1.iloc[1])\n",
    "test14 = test2['items'].apply(pd.Series)\n",
    "test14 = test14.head(1)"
   ]
  },
  {
   "cell_type": "markdown",
   "id": "dd354758",
   "metadata": {},
   "source": [
    "# 15  Demons"
   ]
  },
  {
   "cell_type": "code",
   "execution_count": null,
   "id": "b41e4d3d",
   "metadata": {},
   "outputs": [],
   "source": [
    "Demons = spotify.search({'track': \"demons\", 'artist': 'imagine'}, search_type ='track')"
   ]
  },
  {
   "cell_type": "code",
   "execution_count": null,
   "id": "7aadcc5c",
   "metadata": {
    "scrolled": true
   },
   "outputs": [],
   "source": [
    "Demons['tracks']['items'][0]"
   ]
  },
  {
   "cell_type": "code",
   "execution_count": null,
   "id": "9c4f9f0f",
   "metadata": {},
   "outputs": [],
   "source": [
    "test = pd.DataFrame.from_dict(Demons,orient='columns')\n",
    "test1 = test.tracks.apply(pd.Series)\n",
    "test2 = pd.DataFrame(test1.iloc[1])\n",
    "test15 = test2['items'].apply(pd.Series)\n",
    "test15 = test15.head(1)"
   ]
  },
  {
   "cell_type": "markdown",
   "id": "31ee2899",
   "metadata": {},
   "source": [
    "# 16 Macarena"
   ]
  },
  {
   "cell_type": "code",
   "execution_count": null,
   "id": "a6f3542d",
   "metadata": {},
   "outputs": [],
   "source": [
    "macarena = spotify.search({'track': \"macarena\", 'artist': 'los'}, search_type ='track')"
   ]
  },
  {
   "cell_type": "code",
   "execution_count": null,
   "id": "38c75762",
   "metadata": {
    "scrolled": true
   },
   "outputs": [],
   "source": [
    "macarena['tracks']['items'][0]"
   ]
  },
  {
   "cell_type": "code",
   "execution_count": null,
   "id": "6211fad7",
   "metadata": {},
   "outputs": [],
   "source": [
    "test = pd.DataFrame.from_dict(macarena,orient='columns')\n",
    "test1 = test.tracks.apply(pd.Series)\n",
    "test2 = pd.DataFrame(test1.iloc[1])\n",
    "test16 = test2['items'].apply(pd.Series)\n",
    "test16 = test16.head(1)"
   ]
  },
  {
   "cell_type": "markdown",
   "id": "03eaf0b4",
   "metadata": {},
   "source": [
    "# 17 Need you now"
   ]
  },
  {
   "cell_type": "code",
   "execution_count": null,
   "id": "4443721b",
   "metadata": {},
   "outputs": [],
   "source": [
    "Need_you_now = spotify.search({'track': \"Need you now\", 'artist': 'Lady'}, search_type ='track')"
   ]
  },
  {
   "cell_type": "code",
   "execution_count": null,
   "id": "4dd9aee9",
   "metadata": {},
   "outputs": [],
   "source": [
    "Need_you_now['tracks']['items'][0]"
   ]
  },
  {
   "cell_type": "code",
   "execution_count": null,
   "id": "67089150",
   "metadata": {},
   "outputs": [],
   "source": [
    "test = pd.DataFrame.from_dict(Need_you_now,orient='columns')\n",
    "test1 = test.tracks.apply(pd.Series)\n",
    "test2 = pd.DataFrame(test1.iloc[1])\n",
    "test17 = test2['items'].apply(pd.Series)\n",
    "test17 = test17.head(1)"
   ]
  },
  {
   "cell_type": "markdown",
   "id": "77c83a23",
   "metadata": {},
   "source": [
    "# 18 Somebody That I Used to know"
   ]
  },
  {
   "cell_type": "code",
   "execution_count": null,
   "id": "66dcf773",
   "metadata": {},
   "outputs": [],
   "source": [
    "Somebody_that = spotify.search({'track': \"somebody that i used to know\", 'artist': 'gotye'}, search_type ='track')"
   ]
  },
  {
   "cell_type": "code",
   "execution_count": null,
   "id": "1095ee10",
   "metadata": {
    "scrolled": true
   },
   "outputs": [],
   "source": [
    "Somebody_that['tracks']['items'][0]"
   ]
  },
  {
   "cell_type": "code",
   "execution_count": null,
   "id": "9b4b3fc3",
   "metadata": {},
   "outputs": [],
   "source": [
    "test = pd.DataFrame.from_dict(Somebody_that,orient='columns')\n",
    "test1 = test.tracks.apply(pd.Series)\n",
    "test2 = pd.DataFrame(test1.iloc[1])\n",
    "test18 = test2['items'].apply(pd.Series)\n",
    "test18 = test18.head(1)"
   ]
  },
  {
   "cell_type": "markdown",
   "id": "1ccff936",
   "metadata": {},
   "source": [
    "# 19 All of me"
   ]
  },
  {
   "cell_type": "code",
   "execution_count": null,
   "id": "f328a156",
   "metadata": {},
   "outputs": [],
   "source": [
    "All_of_me = spotify.search({'track': \"all of me\", 'artist': 'john'}, search_type ='track')"
   ]
  },
  {
   "cell_type": "code",
   "execution_count": null,
   "id": "193a521e",
   "metadata": {},
   "outputs": [],
   "source": [
    "All_of_me['tracks']['items'][0]"
   ]
  },
  {
   "cell_type": "code",
   "execution_count": null,
   "id": "464dc817",
   "metadata": {},
   "outputs": [],
   "source": [
    "test = pd.DataFrame.from_dict(All_of_me,orient='columns')\n",
    "test1 = test.tracks.apply(pd.Series)\n",
    "test2 = pd.DataFrame(test1.iloc[1])\n",
    "test19 = test2['items'].apply(pd.Series)\n",
    "test19 = test19.head(1)"
   ]
  },
  {
   "cell_type": "markdown",
   "id": "7335f7bc",
   "metadata": {},
   "source": [
    "# 20 Shape of you"
   ]
  },
  {
   "cell_type": "code",
   "execution_count": null,
   "id": "c842e7bc",
   "metadata": {},
   "outputs": [],
   "source": [
    "shape_of_you = spotify.search({'track': \"shape of you\", 'artist': 'Ed'}, search_type ='track')"
   ]
  },
  {
   "cell_type": "code",
   "execution_count": null,
   "id": "8d8f06a6",
   "metadata": {},
   "outputs": [],
   "source": [
    "shape_of_you['tracks']['items'][0]"
   ]
  },
  {
   "cell_type": "code",
   "execution_count": null,
   "id": "8bdf9ed8",
   "metadata": {},
   "outputs": [],
   "source": [
    "test = pd.DataFrame.from_dict(shape_of_you,orient='columns')\n",
    "test1 = test.tracks.apply(pd.Series)\n",
    "test2 = pd.DataFrame(test1.iloc[1])\n",
    "test20 = test2['items'].apply(pd.Series)\n",
    "test20 = test20.head(1)"
   ]
  },
  {
   "cell_type": "markdown",
   "id": "ab6fe34c",
   "metadata": {},
   "source": [
    "# 21 Smooth"
   ]
  },
  {
   "cell_type": "code",
   "execution_count": null,
   "id": "21f09378",
   "metadata": {},
   "outputs": [],
   "source": [
    "smooth = spotify.search({'track': \"smooth\", 'artist': 'santana'}, search_type ='track')"
   ]
  },
  {
   "cell_type": "code",
   "execution_count": null,
   "id": "41b59c26",
   "metadata": {},
   "outputs": [],
   "source": [
    "smooth['tracks']['items'][0]"
   ]
  },
  {
   "cell_type": "code",
   "execution_count": null,
   "id": "75672262",
   "metadata": {},
   "outputs": [],
   "source": [
    "test = pd.DataFrame.from_dict(smooth,orient='columns')\n",
    "test1 = test.tracks.apply(pd.Series)\n",
    "test2 = pd.DataFrame(test1.iloc[1])\n",
    "test21 = test2['items'].apply(pd.Series)\n",
    "test21 = test21.head(1)"
   ]
  },
  {
   "cell_type": "markdown",
   "id": "8f4e47ff",
   "metadata": {},
   "source": [
    "# 22 Thinking out loud"
   ]
  },
  {
   "cell_type": "code",
   "execution_count": null,
   "id": "cc7c281b",
   "metadata": {},
   "outputs": [],
   "source": [
    "thinking_out_loud = spotify.search({'track': \"thinking out loud\", 'artist': 'Ed sheeran'}, search_type ='track')"
   ]
  },
  {
   "cell_type": "code",
   "execution_count": null,
   "id": "bfc16446",
   "metadata": {
    "scrolled": true
   },
   "outputs": [],
   "source": [
    "thinking_out_loud['tracks']['items'][0]"
   ]
  },
  {
   "cell_type": "code",
   "execution_count": null,
   "id": "49e56d7f",
   "metadata": {},
   "outputs": [],
   "source": [
    "test = pd.DataFrame.from_dict(thinking_out_loud,orient='columns')\n",
    "test1 = test.tracks.apply(pd.Series)\n",
    "test2 = pd.DataFrame(test1.iloc[1])\n",
    "test22 = test2['items'].apply(pd.Series)\n",
    "test22 = test22.head(1)"
   ]
  },
  {
   "cell_type": "markdown",
   "id": "3035dba1",
   "metadata": {},
   "source": [
    "# 23 How to save a life"
   ]
  },
  {
   "cell_type": "code",
   "execution_count": null,
   "id": "b96fa8b6",
   "metadata": {},
   "outputs": [],
   "source": [
    "how_to_save_a_life = spotify.search({'track': \"how to save a life\", 'artist': 'the fray'}, search_type ='track')"
   ]
  },
  {
   "cell_type": "code",
   "execution_count": null,
   "id": "f76b0d11",
   "metadata": {},
   "outputs": [],
   "source": [
    "how_to_save_a_life['tracks']['items'][0]"
   ]
  },
  {
   "cell_type": "code",
   "execution_count": null,
   "id": "fc8659b1",
   "metadata": {},
   "outputs": [],
   "source": [
    "test = pd.DataFrame.from_dict(how_to_save_a_life,orient='columns')\n",
    "test1 = test.tracks.apply(pd.Series)\n",
    "test2 = pd.DataFrame(test1.iloc[1])\n",
    "test23 = test2['items'].apply(pd.Series)\n",
    "test23 = test23.head(1)"
   ]
  },
  {
   "cell_type": "markdown",
   "id": "70e03f4c",
   "metadata": {},
   "source": [
    "# 24 higher"
   ]
  },
  {
   "cell_type": "code",
   "execution_count": null,
   "id": "858e12c6",
   "metadata": {},
   "outputs": [],
   "source": [
    "higher = spotify.search({'track': \"higher\", 'artist': 'creed'}, search_type ='track')"
   ]
  },
  {
   "cell_type": "code",
   "execution_count": null,
   "id": "308d08d5",
   "metadata": {},
   "outputs": [],
   "source": [
    "higher['tracks']['items'][0]"
   ]
  },
  {
   "cell_type": "code",
   "execution_count": null,
   "id": "325de770",
   "metadata": {},
   "outputs": [],
   "source": [
    "test = pd.DataFrame.from_dict(higher,orient='columns')\n",
    "test1 = test.tracks.apply(pd.Series)\n",
    "test2 = pd.DataFrame(test1.iloc[1])\n",
    "test24 = test2['items'].apply(pd.Series)\n",
    "test24 = test24.head(1)"
   ]
  },
  {
   "cell_type": "markdown",
   "id": "81e05d60",
   "metadata": {},
   "source": [
    "# 25 Dark horse"
   ]
  },
  {
   "cell_type": "code",
   "execution_count": null,
   "id": "a6cdabba",
   "metadata": {},
   "outputs": [],
   "source": [
    "dark_horse = spotify.search({'track': \"dark horse\", 'artist': 'katy'}, search_type ='track')"
   ]
  },
  {
   "cell_type": "code",
   "execution_count": null,
   "id": "6f80d41a",
   "metadata": {},
   "outputs": [],
   "source": [
    "dark_horse['tracks']['items'][0]"
   ]
  },
  {
   "cell_type": "code",
   "execution_count": null,
   "id": "f8f850ef",
   "metadata": {},
   "outputs": [],
   "source": [
    "test = pd.DataFrame.from_dict(dark_horse,orient='columns')\n",
    "test1 = test.tracks.apply(pd.Series)\n",
    "test2 = pd.DataFrame(test1.iloc[1])\n",
    "test25 = test2['items'].apply(pd.Series)\n",
    "test25 = test25.head(1)"
   ]
  },
  {
   "cell_type": "markdown",
   "id": "969154a0",
   "metadata": {},
   "source": [
    "# 26 Use sombody"
   ]
  },
  {
   "cell_type": "code",
   "execution_count": null,
   "id": "9c3e2555",
   "metadata": {},
   "outputs": [],
   "source": [
    "use_sombody = spotify.search({'track': \"use somebody\", 'artist': 'Kings'}, search_type ='track')"
   ]
  },
  {
   "cell_type": "code",
   "execution_count": null,
   "id": "51ef7556",
   "metadata": {},
   "outputs": [],
   "source": [
    "use_sombody['tracks']['items'][0]"
   ]
  },
  {
   "cell_type": "code",
   "execution_count": null,
   "id": "d2374a45",
   "metadata": {},
   "outputs": [],
   "source": [
    "test = pd.DataFrame.from_dict(use_sombody,orient='columns')\n",
    "test1 = test.tracks.apply(pd.Series)\n",
    "test2 = pd.DataFrame(test1.iloc[1])\n",
    "test26 = test2['items'].apply(pd.Series)\n",
    "test26 = test26.head(1)"
   ]
  },
  {
   "cell_type": "markdown",
   "id": "d11de1f4",
   "metadata": {},
   "source": [
    "# 27 Lights"
   ]
  },
  {
   "cell_type": "code",
   "execution_count": null,
   "id": "51dc3ce4",
   "metadata": {},
   "outputs": [],
   "source": [
    "lights = spotify.search({'track': \"lights\", 'artist': 'Ellie'}, search_type ='track')"
   ]
  },
  {
   "cell_type": "code",
   "execution_count": null,
   "id": "6179b82b",
   "metadata": {
    "scrolled": true
   },
   "outputs": [],
   "source": [
    "lights['tracks']['items'][0]"
   ]
  },
  {
   "cell_type": "code",
   "execution_count": null,
   "id": "dbf85bcf",
   "metadata": {},
   "outputs": [],
   "source": [
    "test = pd.DataFrame.from_dict(lights,orient='columns')\n",
    "test1 = test.tracks.apply(pd.Series)\n",
    "test2 = pd.DataFrame(test1.iloc[1])\n",
    "test27 = test2['items'].apply(pd.Series)\n",
    "test27 = test27.head(1)"
   ]
  },
  {
   "cell_type": "markdown",
   "id": "20f8140d",
   "metadata": {},
   "source": [
    "#  28 Unchained Melody"
   ]
  },
  {
   "cell_type": "code",
   "execution_count": null,
   "id": "33a3925b",
   "metadata": {},
   "outputs": [],
   "source": [
    "unchained_melody = spotify.search({'track': \"unchained melody\", 'artist': 'the righteous'}, search_type ='track')"
   ]
  },
  {
   "cell_type": "code",
   "execution_count": null,
   "id": "ee0237eb",
   "metadata": {},
   "outputs": [],
   "source": [
    "unchained_melody['tracks']['items'][0]"
   ]
  },
  {
   "cell_type": "code",
   "execution_count": null,
   "id": "2052468d",
   "metadata": {},
   "outputs": [],
   "source": [
    "test = pd.DataFrame.from_dict(unchained_melody,orient='columns')\n",
    "test1 = test.tracks.apply(pd.Series)\n",
    "test2 = pd.DataFrame(test1.iloc[1])\n",
    "test28 = test2['items'].apply(pd.Series)\n",
    "test28 = test28.head(1)"
   ]
  },
  {
   "cell_type": "markdown",
   "id": "0982a45b",
   "metadata": {},
   "source": [
    "# 29 Uptown Funk"
   ]
  },
  {
   "cell_type": "code",
   "execution_count": null,
   "id": "82ab0690",
   "metadata": {},
   "outputs": [],
   "source": [
    "uptown_funk = spotify.search({'track': \"uptown funk\", 'artist': 'mark'}, search_type ='track')"
   ]
  },
  {
   "cell_type": "code",
   "execution_count": null,
   "id": "2e12b84a",
   "metadata": {},
   "outputs": [],
   "source": [
    "uptown_funk['tracks']['items'][0]"
   ]
  },
  {
   "cell_type": "code",
   "execution_count": null,
   "id": "4f666b96",
   "metadata": {},
   "outputs": [],
   "source": [
    "test = pd.DataFrame.from_dict(uptown_funk,orient='columns')\n",
    "test1 = test.tracks.apply(pd.Series)\n",
    "test2 = pd.DataFrame(test1.iloc[1])\n",
    "test29 = test2['items'].apply(pd.Series)\n",
    "test29 = test29.head(1)"
   ]
  },
  {
   "cell_type": "markdown",
   "id": "4000e039",
   "metadata": {},
   "source": [
    "# 30 The Way You love me"
   ]
  },
  {
   "cell_type": "code",
   "execution_count": null,
   "id": "a5975c17",
   "metadata": {},
   "outputs": [],
   "source": [
    "the_way_you_love_me = spotify.search({'track': \"the way you love me\", 'artist': 'faith hill'}, search_type ='track')"
   ]
  },
  {
   "cell_type": "code",
   "execution_count": null,
   "id": "6c16f26e",
   "metadata": {},
   "outputs": [],
   "source": [
    "the_way_you_love_me['tracks']['items'][0]"
   ]
  },
  {
   "cell_type": "code",
   "execution_count": null,
   "id": "69e4ced3",
   "metadata": {},
   "outputs": [],
   "source": [
    "test = pd.DataFrame.from_dict(the_way_you_love_me,orient='columns')\n",
    "test1 = test.tracks.apply(pd.Series)\n",
    "test2 = pd.DataFrame(test1.iloc[1])\n",
    "test30 = test2['items'].apply(pd.Series)\n",
    "test30 = test30.head(1)"
   ]
  },
  {
   "cell_type": "markdown",
   "id": "f1cb6bbc",
   "metadata": {},
   "source": [
    "# 31 I don't want to wait"
   ]
  },
  {
   "cell_type": "code",
   "execution_count": null,
   "id": "cf27d6c3",
   "metadata": {},
   "outputs": [],
   "source": [
    "I_dont_want_to_wait = spotify.search({'track': \"I don't want to wait\", 'artist': 'Paula'}, search_type ='track')"
   ]
  },
  {
   "cell_type": "code",
   "execution_count": null,
   "id": "7820253a",
   "metadata": {},
   "outputs": [],
   "source": [
    "I_dont_want_to_wait['tracks']['items'][0]"
   ]
  },
  {
   "cell_type": "code",
   "execution_count": null,
   "id": "2436992e",
   "metadata": {},
   "outputs": [],
   "source": [
    "test = pd.DataFrame.from_dict(I_dont_want_to_wait,orient='columns')\n",
    "test1 = test.tracks.apply(pd.Series)\n",
    "test2 = pd.DataFrame(test1.iloc[1])\n",
    "test31 = test2['items'].apply(pd.Series)\n",
    "test31 = test31.head(1)"
   ]
  },
  {
   "cell_type": "markdown",
   "id": "da2f20ae",
   "metadata": {},
   "source": [
    "# 32  Some Nights"
   ]
  },
  {
   "cell_type": "code",
   "execution_count": null,
   "id": "43f6e2b3",
   "metadata": {},
   "outputs": [],
   "source": [
    "Some_nights = spotify.search({'track': \"some nights\", 'artist': 'fun.'}, search_type ='track')"
   ]
  },
  {
   "cell_type": "code",
   "execution_count": null,
   "id": "a7dda7b8",
   "metadata": {},
   "outputs": [],
   "source": [
    "Some_nights['tracks']['items'][0]"
   ]
  },
  {
   "cell_type": "code",
   "execution_count": null,
   "id": "221c5732",
   "metadata": {},
   "outputs": [],
   "source": [
    "test = pd.DataFrame.from_dict(Some_nights,orient='columns')\n",
    "test1 = test.tracks.apply(pd.Series)\n",
    "test2 = pd.DataFrame(test1.iloc[1])\n",
    "test32 = test2['items'].apply(pd.Series)\n",
    "test32 = test32.head(1)"
   ]
  },
  {
   "cell_type": "markdown",
   "id": "f78b4fa9",
   "metadata": {},
   "source": [
    "# 33  i gotta feeling"
   ]
  },
  {
   "cell_type": "code",
   "execution_count": null,
   "id": "527afc8a",
   "metadata": {},
   "outputs": [],
   "source": [
    "i_gotta_feeling = spotify.search({'track': \"i gotta feeling\", 'artist': 'black'}, search_type ='track')"
   ]
  },
  {
   "cell_type": "code",
   "execution_count": null,
   "id": "38c9f80e",
   "metadata": {},
   "outputs": [],
   "source": [
    "i_gotta_feeling['tracks']['items'][0]"
   ]
  },
  {
   "cell_type": "code",
   "execution_count": null,
   "id": "c3fd49a7",
   "metadata": {},
   "outputs": [],
   "source": [
    "test = pd.DataFrame.from_dict(i_gotta_feeling,orient='columns')\n",
    "test1 = test.tracks.apply(pd.Series)\n",
    "test2 = pd.DataFrame(test1.iloc[1])\n",
    "test33 = test2['items'].apply(pd.Series)\n",
    "test33 = test33.head(1)"
   ]
  },
  {
   "cell_type": "markdown",
   "id": "fec10dd3",
   "metadata": {},
   "source": [
    "# 34 Perfect"
   ]
  },
  {
   "cell_type": "code",
   "execution_count": null,
   "id": "b82aaaa1",
   "metadata": {},
   "outputs": [],
   "source": [
    "perfect = spotify.search({'track': \"perfect\", 'artist': 'ed'}, search_type ='track')"
   ]
  },
  {
   "cell_type": "code",
   "execution_count": null,
   "id": "c3726a87",
   "metadata": {},
   "outputs": [],
   "source": [
    "perfect['tracks']['items'][0]"
   ]
  },
  {
   "cell_type": "code",
   "execution_count": null,
   "id": "85468954",
   "metadata": {},
   "outputs": [],
   "source": [
    "test = pd.DataFrame.from_dict(perfect,orient='columns')\n",
    "test1 = test.tracks.apply(pd.Series)\n",
    "test2 = pd.DataFrame(test1.iloc[1])\n",
    "test34 = test2['items'].apply(pd.Series)\n",
    "test34 = test34.head(1)"
   ]
  },
  {
   "cell_type": "markdown",
   "id": "9f1a99cb",
   "metadata": {},
   "source": [
    "# 35 Missing"
   ]
  },
  {
   "cell_type": "code",
   "execution_count": null,
   "id": "e6d5a930",
   "metadata": {},
   "outputs": [],
   "source": [
    "missing = spotify.search({'track': \"missing\", 'artist': 'everything'}, search_type ='track')"
   ]
  },
  {
   "cell_type": "code",
   "execution_count": null,
   "id": "ca88fa89",
   "metadata": {},
   "outputs": [],
   "source": [
    "missing['tracks']['items'][0]"
   ]
  },
  {
   "cell_type": "code",
   "execution_count": null,
   "id": "4db227f5",
   "metadata": {},
   "outputs": [],
   "source": [
    "test = pd.DataFrame.from_dict(missing,orient='columns')\n",
    "test1 = test.tracks.apply(pd.Series)\n",
    "test2 = pd.DataFrame(test1.iloc[1])\n",
    "test35 = test2['items'].apply(pd.Series)\n",
    "test35 = test35.head(1)"
   ]
  },
  {
   "cell_type": "markdown",
   "id": "a1109757",
   "metadata": {},
   "source": [
    "# 36 Amazed"
   ]
  },
  {
   "cell_type": "code",
   "execution_count": null,
   "id": "1e3e5641",
   "metadata": {},
   "outputs": [],
   "source": [
    "amazed = spotify.search({'track': \"amazed\", 'artist': 'lonestar'}, search_type ='track')"
   ]
  },
  {
   "cell_type": "code",
   "execution_count": null,
   "id": "09ed76d7",
   "metadata": {},
   "outputs": [],
   "source": [
    "amazed['tracks']['items'][0]"
   ]
  },
  {
   "cell_type": "code",
   "execution_count": null,
   "id": "d14a5f48",
   "metadata": {},
   "outputs": [],
   "source": [
    "test = pd.DataFrame.from_dict(amazed,orient='columns')\n",
    "test1 = test.tracks.apply(pd.Series)\n",
    "test2 = pd.DataFrame(test1.iloc[1])\n",
    "test36 = test2['items'].apply(pd.Series)\n",
    "test36 = test36.head(1)"
   ]
  },
  {
   "cell_type": "markdown",
   "id": "aa362c9c",
   "metadata": {},
   "source": [
    "# 37 Barely breathing"
   ]
  },
  {
   "cell_type": "code",
   "execution_count": null,
   "id": "e5530a43",
   "metadata": {},
   "outputs": [],
   "source": [
    "barely_breathing = spotify.search({'track': \"barely breathing\", 'artist': 'duncan'}, search_type ='track')"
   ]
  },
  {
   "cell_type": "code",
   "execution_count": null,
   "id": "34c2faf8",
   "metadata": {},
   "outputs": [],
   "source": [
    "barely_breathing['tracks']['items'][0]"
   ]
  },
  {
   "cell_type": "code",
   "execution_count": null,
   "id": "5380129d",
   "metadata": {},
   "outputs": [],
   "source": [
    "test = pd.DataFrame.from_dict(barely_breathing,orient='columns')\n",
    "test1 = test.tracks.apply(pd.Series)\n",
    "test2 = pd.DataFrame(test1.iloc[1])\n",
    "test37 = test2['items'].apply(pd.Series)\n",
    "test37 = test37.head(1)"
   ]
  },
  {
   "cell_type": "markdown",
   "id": "e9c85802",
   "metadata": {},
   "source": [
    "# 38 Cruise"
   ]
  },
  {
   "cell_type": "code",
   "execution_count": null,
   "id": "aeadb12c",
   "metadata": {},
   "outputs": [],
   "source": [
    "cruise = spotify.search({'track': \"cruise\", 'artist': 'florida'}, search_type ='track')"
   ]
  },
  {
   "cell_type": "code",
   "execution_count": null,
   "id": "43a90185",
   "metadata": {
    "scrolled": true
   },
   "outputs": [],
   "source": [
    "cruise['tracks']['items'][0]"
   ]
  },
  {
   "cell_type": "code",
   "execution_count": null,
   "id": "c817743b",
   "metadata": {},
   "outputs": [],
   "source": [
    "test = pd.DataFrame.from_dict(cruise,orient='columns')\n",
    "test1 = test.tracks.apply(pd.Series)\n",
    "test2 = pd.DataFrame(test1.iloc[1])\n",
    "test38 = test2['items'].apply(pd.Series)\n",
    "test38 = test38.head(1)"
   ]
  },
  {
   "cell_type": "markdown",
   "id": "27d3d5bf",
   "metadata": {},
   "source": [
    "# 39 Wake Me Up"
   ]
  },
  {
   "cell_type": "code",
   "execution_count": null,
   "id": "32c0781a",
   "metadata": {},
   "outputs": [],
   "source": [
    "wake_me_up = spotify.search({'track': \"wake me up!\", 'artist': 'avicii'}, search_type ='track')"
   ]
  },
  {
   "cell_type": "code",
   "execution_count": null,
   "id": "faf0e2ff",
   "metadata": {},
   "outputs": [],
   "source": [
    "wake_me_up['tracks']['items'][0]"
   ]
  },
  {
   "cell_type": "code",
   "execution_count": null,
   "id": "a703bc21",
   "metadata": {},
   "outputs": [],
   "source": [
    "test = pd.DataFrame.from_dict(wake_me_up,orient='columns')\n",
    "test1 = test.tracks.apply(pd.Series)\n",
    "test2 = pd.DataFrame(test1.iloc[1])\n",
    "test39 = test2['items'].apply(pd.Series)\n",
    "test39 = test39.head(1)"
   ]
  },
  {
   "cell_type": "markdown",
   "id": "e394d6c2",
   "metadata": {},
   "source": [
    "# 40 Stay with Me"
   ]
  },
  {
   "cell_type": "code",
   "execution_count": null,
   "id": "c673d990",
   "metadata": {},
   "outputs": [],
   "source": [
    "stay_with_me = spotify.search({'track': \"stay with me\", 'artist': 'sam smith'}, search_type ='track')"
   ]
  },
  {
   "cell_type": "code",
   "execution_count": null,
   "id": "8694f4f4",
   "metadata": {},
   "outputs": [],
   "source": [
    "stay_with_me['tracks']['items'][0]"
   ]
  },
  {
   "cell_type": "code",
   "execution_count": null,
   "id": "039ba2bd",
   "metadata": {},
   "outputs": [],
   "source": [
    "test = pd.DataFrame.from_dict(stay_with_me,orient='columns')\n",
    "test1 = test.tracks.apply(pd.Series)\n",
    "test2 = pd.DataFrame(test1.iloc[1])\n",
    "test40 = test2['items'].apply(pd.Series)\n",
    "test40 = test40.head(1)"
   ]
  },
  {
   "cell_type": "markdown",
   "id": "6ed4ffa0",
   "metadata": {},
   "source": [
    "# 41 Hey Soul Sister"
   ]
  },
  {
   "cell_type": "code",
   "execution_count": null,
   "id": "2e39b998",
   "metadata": {},
   "outputs": [],
   "source": [
    "hey_soul_sister = spotify.search({'track': \"Hey Soul Sister\", 'artist': 'train'}, search_type ='track')"
   ]
  },
  {
   "cell_type": "code",
   "execution_count": null,
   "id": "a5bed437",
   "metadata": {},
   "outputs": [],
   "source": [
    "hey_soul_sister['tracks']['items'][0]"
   ]
  },
  {
   "cell_type": "code",
   "execution_count": null,
   "id": "65086c9e",
   "metadata": {},
   "outputs": [],
   "source": [
    "test = pd.DataFrame.from_dict(hey_soul_sister,orient='columns')\n",
    "test1 = test.tracks.apply(pd.Series)\n",
    "test2 = pd.DataFrame(test1.iloc[1])\n",
    "test41 = test2['items'].apply(pd.Series)\n",
    "test41 = test41.head(1)"
   ]
  },
  {
   "cell_type": "markdown",
   "id": "49e7b873",
   "metadata": {},
   "source": [
    "# 42 Unwell"
   ]
  },
  {
   "cell_type": "code",
   "execution_count": null,
   "id": "0df16c64",
   "metadata": {},
   "outputs": [],
   "source": [
    "unwell = spotify.search({'track': \"Unwell\", 'artist': 'matchbox'}, search_type ='track')"
   ]
  },
  {
   "cell_type": "code",
   "execution_count": null,
   "id": "d485709d",
   "metadata": {},
   "outputs": [],
   "source": [
    "unwell['tracks']['items'][0]"
   ]
  },
  {
   "cell_type": "code",
   "execution_count": null,
   "id": "41ca86be",
   "metadata": {},
   "outputs": [],
   "source": [
    "test = pd.DataFrame.from_dict(unwell,orient='columns')\n",
    "test1 = test.tracks.apply(pd.Series)\n",
    "test2 = pd.DataFrame(test1.iloc[1])\n",
    "test42 = test2['items'].apply(pd.Series)\n",
    "test42 = test42.head(1)"
   ]
  },
  {
   "cell_type": "markdown",
   "id": "56131070",
   "metadata": {},
   "source": [
    "# 43 Hanging by a moment"
   ]
  },
  {
   "cell_type": "code",
   "execution_count": null,
   "id": "698be752",
   "metadata": {},
   "outputs": [],
   "source": [
    "hanging_by_a_moment = spotify.search({'track': \"Hanging by a moment\", 'artist': 'lifehouse'}, search_type ='track')"
   ]
  },
  {
   "cell_type": "code",
   "execution_count": null,
   "id": "ffd17df4",
   "metadata": {
    "scrolled": true
   },
   "outputs": [],
   "source": [
    "hanging_by_a_moment['tracks']['items'][0]"
   ]
  },
  {
   "cell_type": "code",
   "execution_count": null,
   "id": "5906f8c7",
   "metadata": {},
   "outputs": [],
   "source": [
    "test = pd.DataFrame.from_dict(hanging_by_a_moment,orient='columns')\n",
    "test1 = test.tracks.apply(pd.Series)\n",
    "test2 = pd.DataFrame(test1.iloc[1])\n",
    "test43 = test2['items'].apply(pd.Series)\n",
    "test43 = test43.head(1)"
   ]
  },
  {
   "cell_type": "markdown",
   "id": "aa118402",
   "metadata": {},
   "source": [
    "# 44 Someone you loved"
   ]
  },
  {
   "cell_type": "code",
   "execution_count": null,
   "id": "be577a6d",
   "metadata": {},
   "outputs": [],
   "source": [
    "someone_you_loved = spotify.search({'track': \"Someone you loved\", 'artist': 'lewis'}, search_type ='track')"
   ]
  },
  {
   "cell_type": "code",
   "execution_count": null,
   "id": "03d1d031",
   "metadata": {},
   "outputs": [],
   "source": [
    "someone_you_loved['tracks']['items'][0]"
   ]
  },
  {
   "cell_type": "code",
   "execution_count": null,
   "id": "8d4d1c35",
   "metadata": {},
   "outputs": [],
   "source": [
    "test = pd.DataFrame.from_dict(someone_you_loved,orient='columns')\n",
    "test1 = test.tracks.apply(pd.Series)\n",
    "test2 = pd.DataFrame(test1.iloc[1])\n",
    "test44 = test2['items'].apply(pd.Series)\n",
    "test44 = test44.head(1)"
   ]
  },
  {
   "cell_type": "markdown",
   "id": "8580eef7",
   "metadata": {},
   "source": [
    "# 45 Sunflower"
   ]
  },
  {
   "cell_type": "code",
   "execution_count": null,
   "id": "9875e7f6",
   "metadata": {},
   "outputs": [],
   "source": [
    "sunflower = spotify.search({'track': \"sunflower\", 'artist': 'post'}, search_type ='track')"
   ]
  },
  {
   "cell_type": "code",
   "execution_count": null,
   "id": "22c6a6fd",
   "metadata": {},
   "outputs": [],
   "source": [
    "sunflower['tracks']['items'][0]"
   ]
  },
  {
   "cell_type": "code",
   "execution_count": null,
   "id": "9d2fcf47",
   "metadata": {},
   "outputs": [],
   "source": [
    "test = pd.DataFrame.from_dict(sunflower,orient='columns')\n",
    "test1 = test.tracks.apply(pd.Series)\n",
    "test2 = pd.DataFrame(test1.iloc[1])\n",
    "test45 = test2['items'].apply(pd.Series)\n",
    "test45 = test45.head(1)"
   ]
  },
  {
   "cell_type": "markdown",
   "id": "4bb76dad",
   "metadata": {},
   "source": [
    "# 46 Pompeii"
   ]
  },
  {
   "cell_type": "code",
   "execution_count": null,
   "id": "411878d3",
   "metadata": {},
   "outputs": [],
   "source": [
    "pompeii = spotify.search({'track': \"pompeii\", 'artist': 'bastille'}, search_type ='track')"
   ]
  },
  {
   "cell_type": "code",
   "execution_count": null,
   "id": "03245b44",
   "metadata": {
    "scrolled": true
   },
   "outputs": [],
   "source": [
    "pompeii['tracks']['items'][0]"
   ]
  },
  {
   "cell_type": "code",
   "execution_count": null,
   "id": "d8a76c10",
   "metadata": {},
   "outputs": [],
   "source": [
    "test = pd.DataFrame.from_dict(pompeii,orient='columns')\n",
    "test1 = test.tracks.apply(pd.Series)\n",
    "test2 = pd.DataFrame(test1.iloc[1])\n",
    "test46 = test2['items'].apply(pd.Series)\n",
    "test46 = test46.head(1)"
   ]
  },
  {
   "cell_type": "markdown",
   "id": "79d2b7ad",
   "metadata": {},
   "source": [
    "# 47 breathe"
   ]
  },
  {
   "cell_type": "code",
   "execution_count": null,
   "id": "4b47c60e",
   "metadata": {},
   "outputs": [],
   "source": [
    "breathe = spotify.search({'track': \"breathe\", 'artist': 'faith'}, search_type ='track')"
   ]
  },
  {
   "cell_type": "code",
   "execution_count": null,
   "id": "5451fe42",
   "metadata": {},
   "outputs": [],
   "source": [
    "breathe['tracks']['items'][0]"
   ]
  },
  {
   "cell_type": "code",
   "execution_count": null,
   "id": "00ed47a0",
   "metadata": {},
   "outputs": [],
   "source": [
    "test = pd.DataFrame.from_dict(breathe,orient='columns')\n",
    "test1 = test.tracks.apply(pd.Series)\n",
    "test2 = pd.DataFrame(test1.iloc[1])\n",
    "test47 = test2['items'].apply(pd.Series)\n",
    "test47 = test47.head(1)"
   ]
  },
  {
   "cell_type": "markdown",
   "id": "b6e6f430",
   "metadata": {},
   "source": [
    "# 48 kryptonite"
   ]
  },
  {
   "cell_type": "code",
   "execution_count": null,
   "id": "f1b7a0d0",
   "metadata": {},
   "outputs": [],
   "source": [
    "kryptonite = spotify.search({'track': \"kryptonite\", 'artist': '3 doors'}, search_type ='track')"
   ]
  },
  {
   "cell_type": "code",
   "execution_count": null,
   "id": "0f9ee7ce",
   "metadata": {},
   "outputs": [],
   "source": [
    "kryptonite['tracks']['items'][0]"
   ]
  },
  {
   "cell_type": "code",
   "execution_count": null,
   "id": "6c7cc1bf",
   "metadata": {},
   "outputs": [],
   "source": [
    "test = pd.DataFrame.from_dict(kryptonite,orient='columns')\n",
    "test1 = test.tracks.apply(pd.Series)\n",
    "test2 = pd.DataFrame(test1.iloc[1])\n",
    "test48 = test2['items'].apply(pd.Series)\n",
    "test48 = test48.head(1)"
   ]
  },
  {
   "cell_type": "markdown",
   "id": "ce72175b",
   "metadata": {},
   "source": [
    "# 49 If I die young"
   ]
  },
  {
   "cell_type": "code",
   "execution_count": null,
   "id": "e26cb1c7",
   "metadata": {},
   "outputs": [],
   "source": [
    "if_i_die_young = spotify.search({'track': \"If I die young\", 'artist': 'the band'}, search_type ='track')"
   ]
  },
  {
   "cell_type": "code",
   "execution_count": null,
   "id": "fd5399ea",
   "metadata": {
    "scrolled": true
   },
   "outputs": [],
   "source": [
    "if_i_die_young['tracks']['items'][0]"
   ]
  },
  {
   "cell_type": "code",
   "execution_count": null,
   "id": "aa59273f",
   "metadata": {},
   "outputs": [],
   "source": [
    "test = pd.DataFrame.from_dict(if_i_die_young,orient='columns')\n",
    "test1 = test.tracks.apply(pd.Series)\n",
    "test2 = pd.DataFrame(test1.iloc[1])\n",
    "test49 = test2['items'].apply(pd.Series)\n",
    "test49 = test49.head(1)"
   ]
  },
  {
   "cell_type": "markdown",
   "id": "05fbf00b",
   "metadata": {},
   "source": [
    "# 50 Shut Up and Dance"
   ]
  },
  {
   "cell_type": "code",
   "execution_count": null,
   "id": "474fe27d",
   "metadata": {},
   "outputs": [],
   "source": [
    "shut_up_and_dance = spotify.search({'track': \"Shut Up and Dance\", 'artist': 'WALK'}, search_type ='track')"
   ]
  },
  {
   "cell_type": "code",
   "execution_count": null,
   "id": "3b3503e8",
   "metadata": {},
   "outputs": [],
   "source": [
    "shut_up_and_dance['tracks']['items'][0]"
   ]
  },
  {
   "cell_type": "code",
   "execution_count": null,
   "id": "42d895ad",
   "metadata": {},
   "outputs": [],
   "source": [
    "test = pd.DataFrame.from_dict(shut_up_and_dance,orient='columns')\n",
    "test1 = test.tracks.apply(pd.Series)\n",
    "test2 = pd.DataFrame(test1.iloc[1])\n",
    "test50 = test2['items'].apply(pd.Series)\n",
    "test50 = test50.head(1)"
   ]
  },
  {
   "cell_type": "markdown",
   "id": "3b2c0973",
   "metadata": {},
   "source": [
    "# 51 Too close "
   ]
  },
  {
   "cell_type": "code",
   "execution_count": null,
   "id": "7a5bb0ee",
   "metadata": {},
   "outputs": [],
   "source": [
    "too_close = spotify.search({'track': \"Too close\", 'artist': 'next'}, search_type ='track')"
   ]
  },
  {
   "cell_type": "code",
   "execution_count": null,
   "id": "9feafa6c",
   "metadata": {},
   "outputs": [],
   "source": [
    "too_close['tracks']['items'][0]"
   ]
  },
  {
   "cell_type": "code",
   "execution_count": null,
   "id": "70092feb",
   "metadata": {},
   "outputs": [],
   "source": [
    "test = pd.DataFrame.from_dict(too_close,orient='columns')\n",
    "test1 = test.tracks.apply(pd.Series)\n",
    "test2 = pd.DataFrame(test1.iloc[1])\n",
    "test51 = test2['items'].apply(pd.Series)\n",
    "test51 = test51.head(1)"
   ]
  },
  {
   "cell_type": "markdown",
   "id": "925a9644",
   "metadata": {},
   "source": [
    "# 52 Drops of Jupiter"
   ]
  },
  {
   "cell_type": "code",
   "execution_count": null,
   "id": "2a3daca8",
   "metadata": {},
   "outputs": [],
   "source": [
    "drops_of_jupiter = spotify.search({'track': \"Drops of Jupiter\", 'artist': 'train'}, search_type ='track')"
   ]
  },
  {
   "cell_type": "code",
   "execution_count": null,
   "id": "4b144d8c",
   "metadata": {},
   "outputs": [],
   "source": [
    "drops_of_jupiter['tracks']['items'][0]"
   ]
  },
  {
   "cell_type": "code",
   "execution_count": null,
   "id": "b725eee6",
   "metadata": {},
   "outputs": [],
   "source": [
    "test = pd.DataFrame.from_dict(drops_of_jupiter,orient='columns')\n",
    "test1 = test.tracks.apply(pd.Series)\n",
    "test2 = pd.DataFrame(test1.iloc[1])\n",
    "test52 = test2['items'].apply(pd.Series)\n",
    "test52 = test52.head(1)"
   ]
  },
  {
   "cell_type": "markdown",
   "id": "b8b939d1",
   "metadata": {},
   "source": [
    "# 53 Don't let me down"
   ]
  },
  {
   "cell_type": "code",
   "execution_count": null,
   "id": "8e0232e2",
   "metadata": {},
   "outputs": [],
   "source": [
    "dont_let_me_down = spotify.search({'track': \"Dont let me down\", 'artist': 'The Chainsmokers'}, search_type ='track')"
   ]
  },
  {
   "cell_type": "code",
   "execution_count": null,
   "id": "aedce6b3",
   "metadata": {},
   "outputs": [],
   "source": [
    "dont_let_me_down['tracks']['items'][0]"
   ]
  },
  {
   "cell_type": "code",
   "execution_count": null,
   "id": "85e21861",
   "metadata": {},
   "outputs": [],
   "source": [
    "test = pd.DataFrame.from_dict(dont_let_me_down,orient='columns')\n",
    "test1 = test.tracks.apply(pd.Series)\n",
    "test2 = pd.DataFrame(test1.iloc[1])\n",
    "test53 = test2['items'].apply(pd.Series)\n",
    "test53 = test53.head(1)"
   ]
  },
  {
   "cell_type": "markdown",
   "id": "5820e39c",
   "metadata": {},
   "source": [
    "# 54 Sicko Mode"
   ]
  },
  {
   "cell_type": "code",
   "execution_count": null,
   "id": "a276a409",
   "metadata": {},
   "outputs": [],
   "source": [
    "sicko = spotify.search({'track': \"Sicko Mode\", 'artist': 'Travis'}, search_type ='track')"
   ]
  },
  {
   "cell_type": "code",
   "execution_count": null,
   "id": "20a8a64b",
   "metadata": {},
   "outputs": [],
   "source": [
    "sicko['tracks']['items'][0]"
   ]
  },
  {
   "cell_type": "code",
   "execution_count": null,
   "id": "47eb3d62",
   "metadata": {},
   "outputs": [],
   "source": [
    "test = pd.DataFrame.from_dict(sicko,orient='columns')\n",
    "test1 = test.tracks.apply(pd.Series)\n",
    "test2 = pd.DataFrame(test1.iloc[1])\n",
    "test54 = test2['items'].apply(pd.Series)\n",
    "test54 = test54.head(1)"
   ]
  },
  {
   "cell_type": "markdown",
   "id": "9a49b881",
   "metadata": {},
   "source": [
    "# 55 Go Crazy"
   ]
  },
  {
   "cell_type": "code",
   "execution_count": null,
   "id": "cf8153de",
   "metadata": {},
   "outputs": [],
   "source": [
    "go_crazy = spotify.search({'track': \"Go Crazy\", 'artist': 'Chris Brown'}, search_type ='track')"
   ]
  },
  {
   "cell_type": "code",
   "execution_count": null,
   "id": "f2c036e0",
   "metadata": {},
   "outputs": [],
   "source": [
    "go_crazy['tracks']['items'][0]"
   ]
  },
  {
   "cell_type": "code",
   "execution_count": null,
   "id": "a734a7ff",
   "metadata": {},
   "outputs": [],
   "source": [
    "test = pd.DataFrame.from_dict(go_crazy,orient='columns')\n",
    "test1 = test.tracks.apply(pd.Series)\n",
    "test2 = pd.DataFrame(test1.iloc[1])\n",
    "test55 = test2['items'].apply(pd.Series)\n",
    "test55 = test55.head(1)"
   ]
  },
  {
   "cell_type": "markdown",
   "id": "9a18753f",
   "metadata": {},
   "source": [
    "# 56 Don't Start Now"
   ]
  },
  {
   "cell_type": "code",
   "execution_count": null,
   "id": "8c8fdd13",
   "metadata": {},
   "outputs": [],
   "source": [
    "dont_start_now = spotify.search({'track': \"Don't Start Now\", 'artist': 'Dua Lipa'}, search_type ='track')"
   ]
  },
  {
   "cell_type": "code",
   "execution_count": null,
   "id": "1db85bd0",
   "metadata": {},
   "outputs": [],
   "source": [
    "dont_start_now['tracks']['items'][0]"
   ]
  },
  {
   "cell_type": "code",
   "execution_count": null,
   "id": "68745d8d",
   "metadata": {},
   "outputs": [],
   "source": [
    "test = pd.DataFrame.from_dict(dont_start_now,orient='columns')\n",
    "test1 = test.tracks.apply(pd.Series)\n",
    "test2 = pd.DataFrame(test1.iloc[1])\n",
    "test56 = test2['items'].apply(pd.Series)\n",
    "test56 = test56.head(1)"
   ]
  },
  {
   "cell_type": "markdown",
   "id": "9f1d26e4",
   "metadata": {},
   "source": [
    "# 57 Happier"
   ]
  },
  {
   "cell_type": "code",
   "execution_count": null,
   "id": "53ef0c58",
   "metadata": {},
   "outputs": [],
   "source": [
    "Happier = spotify.search({'track': \"Happier\", 'artist': 'Marshmello'}, search_type ='track')"
   ]
  },
  {
   "cell_type": "code",
   "execution_count": null,
   "id": "71b3c794",
   "metadata": {},
   "outputs": [],
   "source": [
    "Happier['tracks']['items'][0]"
   ]
  },
  {
   "cell_type": "code",
   "execution_count": null,
   "id": "27e770e6",
   "metadata": {},
   "outputs": [],
   "source": [
    "test = pd.DataFrame.from_dict(Happier,orient='columns')\n",
    "test1 = test.tracks.apply(pd.Series)\n",
    "test2 = pd.DataFrame(test1.iloc[1])\n",
    "test57 = test2['items'].apply(pd.Series)\n",
    "test57 = test57.head(1)"
   ]
  },
  {
   "cell_type": "markdown",
   "id": "cbe9a950",
   "metadata": {},
   "source": [
    "# 58 Without Me"
   ]
  },
  {
   "cell_type": "code",
   "execution_count": null,
   "id": "ab787d69",
   "metadata": {},
   "outputs": [],
   "source": [
    "without_me = spotify.search({'track': \"Without Me\", 'artist': 'Halsey'}, search_type ='track')"
   ]
  },
  {
   "cell_type": "code",
   "execution_count": null,
   "id": "200b8ae1",
   "metadata": {},
   "outputs": [],
   "source": [
    "without_me['tracks']['items'][0]"
   ]
  },
  {
   "cell_type": "code",
   "execution_count": null,
   "id": "c70e5c49",
   "metadata": {},
   "outputs": [],
   "source": [
    "test = pd.DataFrame.from_dict(without_me,orient='columns')\n",
    "test1 = test.tracks.apply(pd.Series)\n",
    "test2 = pd.DataFrame(test1.iloc[1])\n",
    "test58 = test2['items'].apply(pd.Series)\n",
    "test58 = test58.head(1)"
   ]
  },
  {
   "cell_type": "markdown",
   "id": "564cff4d",
   "metadata": {},
   "source": [
    "# 59 Say you won't let go"
   ]
  },
  {
   "cell_type": "code",
   "execution_count": null,
   "id": "98eb55d4",
   "metadata": {},
   "outputs": [],
   "source": [
    "say = spotify.search({'track': \"Say you won't let go\", 'artist': 'James'}, search_type ='track')"
   ]
  },
  {
   "cell_type": "code",
   "execution_count": null,
   "id": "5793356d",
   "metadata": {},
   "outputs": [],
   "source": [
    "say['tracks']['items'][0]"
   ]
  },
  {
   "cell_type": "code",
   "execution_count": null,
   "id": "15e8257f",
   "metadata": {},
   "outputs": [],
   "source": [
    "test = pd.DataFrame.from_dict(say,orient='columns')\n",
    "test1 = test.tracks.apply(pd.Series)\n",
    "test2 = pd.DataFrame(test1.iloc[1])\n",
    "test59 = test2['items'].apply(pd.Series)\n",
    "test59 = test59.head(1)"
   ]
  },
  {
   "cell_type": "markdown",
   "id": "b9c533c5",
   "metadata": {},
   "source": [
    "# 60 Closer"
   ]
  },
  {
   "cell_type": "code",
   "execution_count": null,
   "id": "2cc36683",
   "metadata": {},
   "outputs": [],
   "source": [
    "closer = spotify.search({'track': \"closer\", 'artist': 'The Chainsmokers'}, search_type ='track')"
   ]
  },
  {
   "cell_type": "code",
   "execution_count": null,
   "id": "a8394d40",
   "metadata": {},
   "outputs": [],
   "source": [
    "closer['tracks']['items'][0]"
   ]
  },
  {
   "cell_type": "code",
   "execution_count": null,
   "id": "d1870321",
   "metadata": {},
   "outputs": [],
   "source": [
    "test = pd.DataFrame.from_dict(closer,orient='columns')\n",
    "test1 = test.tracks.apply(pd.Series)\n",
    "test2 = pd.DataFrame(test1.iloc[1])\n",
    "test60 = test2['items'].apply(pd.Series)\n",
    "test60 = test60.head(1)"
   ]
  },
  {
   "cell_type": "markdown",
   "id": "6720e7c7",
   "metadata": {},
   "source": [
    "# 61 Better Now "
   ]
  },
  {
   "cell_type": "code",
   "execution_count": null,
   "id": "85bc5199",
   "metadata": {},
   "outputs": [],
   "source": [
    "better_now = spotify.search({'track': \"better now\", 'artist': 'post'}, search_type ='track')"
   ]
  },
  {
   "cell_type": "code",
   "execution_count": null,
   "id": "2143c70d",
   "metadata": {},
   "outputs": [],
   "source": [
    "better_now['tracks']['items'][0]"
   ]
  },
  {
   "cell_type": "code",
   "execution_count": null,
   "id": "4bdf8246",
   "metadata": {},
   "outputs": [],
   "source": [
    "test = pd.DataFrame.from_dict(better_now,orient='columns')\n",
    "test1 = test.tracks.apply(pd.Series)\n",
    "test2 = pd.DataFrame(test1.iloc[1])\n",
    "test61 = test2['items'].apply(pd.Series)\n",
    "test61 = test61.head(1)"
   ]
  },
  {
   "cell_type": "markdown",
   "id": "be9424c3",
   "metadata": {},
   "source": [
    "# 62 Can't Stop the Feeling"
   ]
  },
  {
   "cell_type": "code",
   "execution_count": null,
   "id": "fb9211b6",
   "metadata": {},
   "outputs": [],
   "source": [
    "cant_stop_the_feeling = spotify.search({'track': \"Cant\", 'artist': 'Justin Timberlake'}, search_type ='track')"
   ]
  },
  {
   "cell_type": "code",
   "execution_count": null,
   "id": "f8022a7a",
   "metadata": {},
   "outputs": [],
   "source": [
    "cant_stop_the_feeling['tracks']['items'][0]"
   ]
  },
  {
   "cell_type": "code",
   "execution_count": null,
   "id": "e1025646",
   "metadata": {},
   "outputs": [],
   "source": [
    "test = pd.DataFrame.from_dict(cant_stop_the_feeling,orient='columns')\n",
    "test1 = test.tracks.apply(pd.Series)\n",
    "test2 = pd.DataFrame(test1.iloc[1])\n",
    "test62 = test2['items'].apply(pd.Series)\n",
    "test62 = test62.head(1)"
   ]
  },
  {
   "cell_type": "markdown",
   "id": "82e5e33f",
   "metadata": {},
   "source": [
    "# 63 Stressed Out"
   ]
  },
  {
   "cell_type": "code",
   "execution_count": null,
   "id": "7924c38a",
   "metadata": {},
   "outputs": [],
   "source": [
    "stressed_out = spotify.search({'track': \"Stressed out\", 'artist': 'twent one'}, search_type ='track')"
   ]
  },
  {
   "cell_type": "code",
   "execution_count": null,
   "id": "6b13817e",
   "metadata": {},
   "outputs": [],
   "source": [
    "stressed_out['tracks']['items'][0]"
   ]
  },
  {
   "cell_type": "code",
   "execution_count": null,
   "id": "44ad72a9",
   "metadata": {},
   "outputs": [],
   "source": [
    "test = pd.DataFrame.from_dict(stressed_out,orient='columns')\n",
    "test1 = test.tracks.apply(pd.Series)\n",
    "test2 = pd.DataFrame(test1.iloc[1])\n",
    "test63 = test2['items'].apply(pd.Series)\n",
    "test63 = test63.head(1)"
   ]
  },
  {
   "cell_type": "markdown",
   "id": "19903c79",
   "metadata": {},
   "source": [
    "# 64 Truly Madly Deeply"
   ]
  },
  {
   "cell_type": "code",
   "execution_count": null,
   "id": "bd47af8e",
   "metadata": {},
   "outputs": [],
   "source": [
    "truly = spotify.search({'track': \"Truly Madly Deeply\", 'artist': 'Savage'}, search_type ='track')"
   ]
  },
  {
   "cell_type": "code",
   "execution_count": null,
   "id": "03d027b3",
   "metadata": {},
   "outputs": [],
   "source": [
    "truly['tracks']['items'][0]"
   ]
  },
  {
   "cell_type": "code",
   "execution_count": null,
   "id": "b973eb48",
   "metadata": {},
   "outputs": [],
   "source": [
    "test = pd.DataFrame.from_dict(truly,orient='columns')\n",
    "test1 = test.tracks.apply(pd.Series)\n",
    "test2 = pd.DataFrame(test1.iloc[1])\n",
    "test64 = test2['items'].apply(pd.Series)\n",
    "test64 = test64.head(1)"
   ]
  },
  {
   "cell_type": "markdown",
   "id": "8083bd7a",
   "metadata": {},
   "source": [
    "# 65 Girls Like You"
   ]
  },
  {
   "cell_type": "code",
   "execution_count": null,
   "id": "5ca2d4e8",
   "metadata": {},
   "outputs": [],
   "source": [
    "girls_like_you = spotify.search({'track': \"Girls Like You\", 'artist': 'Maroon'}, search_type ='track')"
   ]
  },
  {
   "cell_type": "code",
   "execution_count": null,
   "id": "3d64b477",
   "metadata": {
    "scrolled": true
   },
   "outputs": [],
   "source": [
    "girls_like_you['tracks']['items'][0]"
   ]
  },
  {
   "cell_type": "code",
   "execution_count": null,
   "id": "a9b10225",
   "metadata": {},
   "outputs": [],
   "source": [
    "test = pd.DataFrame.from_dict(girls_like_you,orient='columns')\n",
    "test1 = test.tracks.apply(pd.Series)\n",
    "test2 = pd.DataFrame(test1.iloc[1])\n",
    "test65 = test2['items'].apply(pd.Series)\n",
    "test65 = test65.head(1)"
   ]
  },
  {
   "cell_type": "markdown",
   "id": "4a78c6fc",
   "metadata": {},
   "source": [
    "# 66 Before you go"
   ]
  },
  {
   "cell_type": "code",
   "execution_count": null,
   "id": "abba4f34",
   "metadata": {},
   "outputs": [],
   "source": [
    "before_you_go = spotify.search({'track': \"Before you go\", 'artist': 'Lewis'}, search_type ='track')"
   ]
  },
  {
   "cell_type": "code",
   "execution_count": null,
   "id": "a13bf60a",
   "metadata": {},
   "outputs": [],
   "source": [
    "before_you_go['tracks']['items'][0]"
   ]
  },
  {
   "cell_type": "code",
   "execution_count": null,
   "id": "36e96ebb",
   "metadata": {},
   "outputs": [],
   "source": [
    "test = pd.DataFrame.from_dict(before_you_go,orient='columns')\n",
    "test1 = test.tracks.apply(pd.Series)\n",
    "test2 = pd.DataFrame(test1.iloc[1])\n",
    "test66 = test2['items'].apply(pd.Series)\n",
    "test66 = test66.head(1)"
   ]
  },
  {
   "cell_type": "markdown",
   "id": "995c594a",
   "metadata": {},
   "source": [
    "# 67 Stitches"
   ]
  },
  {
   "cell_type": "code",
   "execution_count": null,
   "id": "3f8e64f7",
   "metadata": {},
   "outputs": [],
   "source": [
    "stitches = spotify.search({'track': \"stitches\", 'artist': 'shawn'}, search_type ='track')"
   ]
  },
  {
   "cell_type": "code",
   "execution_count": null,
   "id": "dee88a62",
   "metadata": {},
   "outputs": [],
   "source": [
    "stitches['tracks']['items'][0]"
   ]
  },
  {
   "cell_type": "code",
   "execution_count": null,
   "id": "17acf928",
   "metadata": {},
   "outputs": [],
   "source": [
    "test = pd.DataFrame.from_dict(stitches,orient='columns')\n",
    "test1 = test.tracks.apply(pd.Series)\n",
    "test2 = pd.DataFrame(test1.iloc[1])\n",
    "test67 = test2['items'].apply(pd.Series)\n",
    "test67 = test67.head(1)"
   ]
  },
  {
   "cell_type": "markdown",
   "id": "ca1e7828",
   "metadata": {},
   "source": [
    "# 68 Trap Queen"
   ]
  },
  {
   "cell_type": "code",
   "execution_count": null,
   "id": "26bec332",
   "metadata": {},
   "outputs": [],
   "source": [
    "trap_queen = spotify.search({'track': \"trap queen\", 'artist': 'fetty'}, search_type ='track')"
   ]
  },
  {
   "cell_type": "code",
   "execution_count": null,
   "id": "1f5fdd54",
   "metadata": {},
   "outputs": [],
   "source": [
    "trap_queen['tracks']['items'][0]"
   ]
  },
  {
   "cell_type": "code",
   "execution_count": null,
   "id": "6a264a0e",
   "metadata": {},
   "outputs": [],
   "source": [
    "test = pd.DataFrame.from_dict(trap_queen,orient='columns')\n",
    "test1 = test.tracks.apply(pd.Series)\n",
    "test2 = pd.DataFrame(test1.iloc[1])\n",
    "test68 = test2['items'].apply(pd.Series)\n",
    "test68 = test68.head(1)"
   ]
  },
  {
   "cell_type": "markdown",
   "id": "bd0258a4",
   "metadata": {},
   "source": [
    "# 69 See You again"
   ]
  },
  {
   "cell_type": "code",
   "execution_count": null,
   "id": "dd78766f",
   "metadata": {},
   "outputs": [],
   "source": [
    "see_you_again = spotify.search({'track': \"See You again\", 'artist': 'Wiz'}, search_type ='track')"
   ]
  },
  {
   "cell_type": "code",
   "execution_count": null,
   "id": "b6459099",
   "metadata": {},
   "outputs": [],
   "source": [
    "see_you_again['tracks']['items'][0]"
   ]
  },
  {
   "cell_type": "code",
   "execution_count": null,
   "id": "2f962101",
   "metadata": {},
   "outputs": [],
   "source": [
    "test = pd.DataFrame.from_dict(see_you_again,orient='columns')\n",
    "test1 = test.tracks.apply(pd.Series)\n",
    "test2 = pd.DataFrame(test1.iloc[1])\n",
    "test69 = test2['items'].apply(pd.Series)\n",
    "test69 = test69.head(1)"
   ]
  },
  {
   "cell_type": "markdown",
   "id": "d11b89e3",
   "metadata": {},
   "source": [
    "# 70 How's it going to be"
   ]
  },
  {
   "cell_type": "code",
   "execution_count": null,
   "id": "222f855f",
   "metadata": {},
   "outputs": [],
   "source": [
    "hows_it = spotify.search({'track': \"How's it going to be\", 'artist': 'Third eye'}, search_type ='track')"
   ]
  },
  {
   "cell_type": "code",
   "execution_count": null,
   "id": "ada4a980",
   "metadata": {},
   "outputs": [],
   "source": [
    "hows_it['tracks']['items'][0]"
   ]
  },
  {
   "cell_type": "code",
   "execution_count": null,
   "id": "28510ed8",
   "metadata": {},
   "outputs": [],
   "source": [
    "test = pd.DataFrame.from_dict(hows_it,orient='columns')\n",
    "test1 = test.tracks.apply(pd.Series)\n",
    "test2 = pd.DataFrame(test1.iloc[1])\n",
    "test70 = test2['items'].apply(pd.Series)\n",
    "test70 = test70.head(1)"
   ]
  },
  {
   "cell_type": "markdown",
   "id": "dfc738d6",
   "metadata": {},
   "source": [
    "# 71 Cheap Thrills"
   ]
  },
  {
   "cell_type": "code",
   "execution_count": null,
   "id": "3e4a4b69",
   "metadata": {},
   "outputs": [],
   "source": [
    "cheap_thrills  = spotify.search({'track': \"Cheap Thrills\", 'artist': 'sia'}, search_type ='track')"
   ]
  },
  {
   "cell_type": "code",
   "execution_count": null,
   "id": "49264951",
   "metadata": {},
   "outputs": [],
   "source": [
    "cheap_thrills['tracks']['items'][0]"
   ]
  },
  {
   "cell_type": "code",
   "execution_count": null,
   "id": "91a1e0ff",
   "metadata": {},
   "outputs": [],
   "source": [
    "test = pd.DataFrame.from_dict(cheap_thrills,orient='columns')\n",
    "test1 = test.tracks.apply(pd.Series)\n",
    "test2 = pd.DataFrame(test1.iloc[1])\n",
    "test71 = test2['items'].apply(pd.Series)\n",
    "test71 = test71.head(1)"
   ]
  },
  {
   "cell_type": "markdown",
   "id": "1eacf4a7",
   "metadata": {},
   "source": [
    "# 72 The Bones"
   ]
  },
  {
   "cell_type": "code",
   "execution_count": null,
   "id": "52759b97",
   "metadata": {},
   "outputs": [],
   "source": [
    "the_bones = spotify.search({'track': \"The Bones\", 'artist': 'Maren'}, search_type ='track')"
   ]
  },
  {
   "cell_type": "code",
   "execution_count": null,
   "id": "ff9de59b",
   "metadata": {},
   "outputs": [],
   "source": [
    "the_bones['tracks']['items'][0]"
   ]
  },
  {
   "cell_type": "code",
   "execution_count": null,
   "id": "ac537aa4",
   "metadata": {},
   "outputs": [],
   "source": [
    "test = pd.DataFrame.from_dict(the_bones,orient='columns')\n",
    "test1 = test.tracks.apply(pd.Series)\n",
    "test2 = pd.DataFrame(test1.iloc[1])\n",
    "test72 = test2['items'].apply(pd.Series)\n",
    "test72 = test72.head(1)"
   ]
  },
  {
   "cell_type": "markdown",
   "id": "803bbec4",
   "metadata": {},
   "source": [
    "# 73 High Hopes"
   ]
  },
  {
   "cell_type": "code",
   "execution_count": null,
   "id": "a035d6f5",
   "metadata": {},
   "outputs": [],
   "source": [
    "high_hopes = spotify.search({'track': \"High Hopes\", 'artist': 'Panic!'}, search_type ='track')"
   ]
  },
  {
   "cell_type": "code",
   "execution_count": null,
   "id": "205f5651",
   "metadata": {},
   "outputs": [],
   "source": [
    "high_hopes['tracks']['items'][0]"
   ]
  },
  {
   "cell_type": "code",
   "execution_count": null,
   "id": "667f5e5a",
   "metadata": {},
   "outputs": [],
   "source": [
    "test = pd.DataFrame.from_dict(high_hopes,orient='columns')\n",
    "test1 = test.tracks.apply(pd.Series)\n",
    "test2 = pd.DataFrame(test1.iloc[1])\n",
    "test73 = test2['items'].apply(pd.Series)\n",
    "test73 = test73.head(1)"
   ]
  },
  {
   "cell_type": "markdown",
   "id": "7e4bee7e",
   "metadata": {},
   "source": [
    "# 74 Here Without you"
   ]
  },
  {
   "cell_type": "code",
   "execution_count": null,
   "id": "90566fdf",
   "metadata": {},
   "outputs": [],
   "source": [
    "here_without_you = spotify.search({'track': \"Here Without you\", 'artist': '3 Doors'}, search_type ='track')"
   ]
  },
  {
   "cell_type": "code",
   "execution_count": null,
   "id": "3067eeff",
   "metadata": {},
   "outputs": [],
   "source": [
    "here_without_you['tracks']['items'][0]"
   ]
  },
  {
   "cell_type": "code",
   "execution_count": null,
   "id": "b9ab8973",
   "metadata": {},
   "outputs": [],
   "source": [
    "test = pd.DataFrame.from_dict(here_without_you,orient='columns')\n",
    "test1 = test.tracks.apply(pd.Series)\n",
    "test2 = pd.DataFrame(test1.iloc[1])\n",
    "test74 = test2['items'].apply(pd.Series)\n",
    "test74 = test74.head(1)"
   ]
  },
  {
   "cell_type": "markdown",
   "id": "9531cfbc",
   "metadata": {},
   "source": [
    "# 75 Love Lies"
   ]
  },
  {
   "cell_type": "code",
   "execution_count": null,
   "id": "e89aefa4",
   "metadata": {},
   "outputs": [],
   "source": [
    "love_lies = spotify.search({'track': \"love lies\", 'artist': 'khalid'}, search_type ='track')"
   ]
  },
  {
   "cell_type": "code",
   "execution_count": null,
   "id": "55ae69ab",
   "metadata": {},
   "outputs": [],
   "source": [
    "love_lies['tracks']['items'][0]"
   ]
  },
  {
   "cell_type": "code",
   "execution_count": null,
   "id": "569402ae",
   "metadata": {},
   "outputs": [],
   "source": [
    "test = pd.DataFrame.from_dict(love_lies,orient='columns')\n",
    "test1 = test.tracks.apply(pd.Series)\n",
    "test2 = pd.DataFrame(test1.iloc[1])\n",
    "test75 = test2['items'].apply(pd.Series)\n",
    "test75 = test75.head(1)"
   ]
  },
  {
   "cell_type": "markdown",
   "id": "a28094ba",
   "metadata": {},
   "source": [
    "# 76 Meant to Be"
   ]
  },
  {
   "cell_type": "code",
   "execution_count": null,
   "id": "d9749cd6",
   "metadata": {},
   "outputs": [],
   "source": [
    "meant_to_be = spotify.search({'track': \"Meant to Be\", 'artist': 'bebe'}, search_type ='track')"
   ]
  },
  {
   "cell_type": "code",
   "execution_count": null,
   "id": "ecb4dfab",
   "metadata": {},
   "outputs": [],
   "source": [
    "meant_to_be['tracks']['items'][0]"
   ]
  },
  {
   "cell_type": "code",
   "execution_count": null,
   "id": "93f54834",
   "metadata": {},
   "outputs": [],
   "source": [
    "test = pd.DataFrame.from_dict(meant_to_be,orient='columns')\n",
    "test1 = test.tracks.apply(pd.Series)\n",
    "test2 = pd.DataFrame(test1.iloc[1])\n",
    "test76 = test2['items'].apply(pd.Series)\n",
    "test76 = test76.head(1)"
   ]
  },
  {
   "cell_type": "markdown",
   "id": "4313ae77",
   "metadata": {},
   "source": [
    "# 77 Despacito"
   ]
  },
  {
   "cell_type": "code",
   "execution_count": null,
   "id": "6f3105af",
   "metadata": {},
   "outputs": [],
   "source": [
    "Despacito = spotify.search({'track': \"Despacito\", 'artist': 'luis'}, search_type ='track')"
   ]
  },
  {
   "cell_type": "code",
   "execution_count": null,
   "id": "6886b914",
   "metadata": {},
   "outputs": [],
   "source": [
    "Despacito['tracks']['items'][0]"
   ]
  },
  {
   "cell_type": "code",
   "execution_count": null,
   "id": "6c95029c",
   "metadata": {},
   "outputs": [],
   "source": [
    "test = pd.DataFrame.from_dict(Despacito,orient='columns')\n",
    "test1 = test.tracks.apply(pd.Series)\n",
    "test2 = pd.DataFrame(test1.iloc[1])\n",
    "test77 = test2['items'].apply(pd.Series)\n",
    "test77 = test77.head(1)"
   ]
  },
  {
   "cell_type": "markdown",
   "id": "77284e47",
   "metadata": {},
   "source": [
    "# 78 Viva la vida"
   ]
  },
  {
   "cell_type": "code",
   "execution_count": null,
   "id": "28236e8f",
   "metadata": {},
   "outputs": [],
   "source": [
    "viva = spotify.search({'track': \"Viva la vida\", 'artist': 'coldplay'}, search_type ='track')"
   ]
  },
  {
   "cell_type": "code",
   "execution_count": null,
   "id": "71a53baa",
   "metadata": {},
   "outputs": [],
   "source": [
    "viva['tracks']['items'][0]"
   ]
  },
  {
   "cell_type": "code",
   "execution_count": null,
   "id": "362120cb",
   "metadata": {},
   "outputs": [],
   "source": [
    "test = pd.DataFrame.from_dict(viva,orient='columns')\n",
    "test1 = test.tracks.apply(pd.Series)\n",
    "test2 = pd.DataFrame(test1.iloc[1])\n",
    "test78 = test2['items'].apply(pd.Series)\n",
    "test78 = test78.head(1)"
   ]
  },
  {
   "cell_type": "markdown",
   "id": "935ffc71",
   "metadata": {},
   "source": [
    "# 79 Watch me"
   ]
  },
  {
   "cell_type": "code",
   "execution_count": null,
   "id": "26f92a62",
   "metadata": {},
   "outputs": [],
   "source": [
    "watch_me = spotify.search({'track': \"watch me\", 'artist': 'silento'}, search_type ='track')"
   ]
  },
  {
   "cell_type": "code",
   "execution_count": null,
   "id": "e0b2834d",
   "metadata": {},
   "outputs": [],
   "source": [
    "watch_me['tracks']['items'][0]"
   ]
  },
  {
   "cell_type": "code",
   "execution_count": null,
   "id": "20157c51",
   "metadata": {},
   "outputs": [],
   "source": [
    "test = pd.DataFrame.from_dict(watch_me,orient='columns')\n",
    "test1 = test.tracks.apply(pd.Series)\n",
    "test2 = pd.DataFrame(test1.iloc[1])\n",
    "test79 = test2['items'].apply(pd.Series)\n",
    "test79 = test78.head(1)"
   ]
  },
  {
   "cell_type": "markdown",
   "id": "fb09fa15",
   "metadata": {},
   "source": [
    "# 80 Whats Poppin"
   ]
  },
  {
   "cell_type": "code",
   "execution_count": null,
   "id": "ab2036e2",
   "metadata": {},
   "outputs": [],
   "source": [
    "whats_poppin = spotify.search({'track': \"Whats Poppin\", 'artist': 'Jack'}, search_type ='track')"
   ]
  },
  {
   "cell_type": "code",
   "execution_count": null,
   "id": "8e9ab4c3",
   "metadata": {},
   "outputs": [],
   "source": [
    "whats_poppin['tracks']['items'][0]"
   ]
  },
  {
   "cell_type": "code",
   "execution_count": null,
   "id": "e9ddeb6d",
   "metadata": {},
   "outputs": [],
   "source": [
    "test = pd.DataFrame.from_dict(whats_poppin,orient='columns')\n",
    "test1 = test.tracks.apply(pd.Series)\n",
    "test2 = pd.DataFrame(test1.iloc[1])\n",
    "test80 = test2['items'].apply(pd.Series)\n",
    "test80 = test80.head(1)"
   ]
  },
  {
   "cell_type": "markdown",
   "id": "a3529201",
   "metadata": {},
   "source": [
    "# 81 Thunder"
   ]
  },
  {
   "cell_type": "code",
   "execution_count": null,
   "id": "0d3979e4",
   "metadata": {},
   "outputs": [],
   "source": [
    "thunder = spotify.search({'track': \"Thunder\", 'artist': 'Imagine'}, search_type ='track')"
   ]
  },
  {
   "cell_type": "code",
   "execution_count": null,
   "id": "3af69849",
   "metadata": {},
   "outputs": [],
   "source": [
    "thunder['tracks']['items'][0]"
   ]
  },
  {
   "cell_type": "code",
   "execution_count": null,
   "id": "1d9693b8",
   "metadata": {},
   "outputs": [],
   "source": [
    "test = pd.DataFrame.from_dict(thunder,orient='columns')\n",
    "test1 = test.tracks.apply(pd.Series)\n",
    "test2 = pd.DataFrame(test1.iloc[1])\n",
    "test81 = test2['items'].apply(pd.Series)\n",
    "test81 = test81.head(1)"
   ]
  },
  {
   "cell_type": "markdown",
   "id": "232d2746",
   "metadata": {},
   "source": [
    "# 82 Believer"
   ]
  },
  {
   "cell_type": "code",
   "execution_count": null,
   "id": "c629ba72",
   "metadata": {},
   "outputs": [],
   "source": [
    "believer = spotify.search({'track': \"Believer\", 'artist': 'Imagine'}, search_type ='track')"
   ]
  },
  {
   "cell_type": "code",
   "execution_count": null,
   "id": "596f8aca",
   "metadata": {},
   "outputs": [],
   "source": [
    "believer['tracks']['items'][0]"
   ]
  },
  {
   "cell_type": "code",
   "execution_count": null,
   "id": "9914391f",
   "metadata": {},
   "outputs": [],
   "source": [
    "test = pd.DataFrame.from_dict(believer,orient='columns')\n",
    "test1 = test.tracks.apply(pd.Series)\n",
    "test2 = pd.DataFrame(test1.iloc[1])\n",
    "test82 = test2['items'].apply(pd.Series)\n",
    "test82 = test82.head(1)"
   ]
  },
  {
   "cell_type": "markdown",
   "id": "2716391a",
   "metadata": {},
   "source": [
    "# 83 That's what I like"
   ]
  },
  {
   "cell_type": "code",
   "execution_count": null,
   "id": "c2bd008f",
   "metadata": {},
   "outputs": [],
   "source": [
    "Thats_what_I_like = spotify.search({'track': \"That's what I like\", 'artist': 'Bruno'}, search_type ='track')"
   ]
  },
  {
   "cell_type": "code",
   "execution_count": null,
   "id": "f8df11a0",
   "metadata": {},
   "outputs": [],
   "source": [
    "Thats_what_I_like['tracks']['items'][0]"
   ]
  },
  {
   "cell_type": "code",
   "execution_count": null,
   "id": "254705df",
   "metadata": {},
   "outputs": [],
   "source": [
    "test = pd.DataFrame.from_dict(Thats_what_I_like,orient='columns')\n",
    "test1 = test.tracks.apply(pd.Series)\n",
    "test2 = pd.DataFrame(test1.iloc[1])\n",
    "test83 = test2['items'].apply(pd.Series)\n",
    "test83 = test83.head(1)"
   ]
  },
  {
   "cell_type": "markdown",
   "id": "12ded3e2",
   "metadata": {},
   "source": [
    "# 84 I Like It"
   ]
  },
  {
   "cell_type": "code",
   "execution_count": null,
   "id": "0abaed27",
   "metadata": {},
   "outputs": [],
   "source": [
    "i_like_it = spotify.search({'track': \"I Like It\", 'artist': 'Cardi'}, search_type ='track')"
   ]
  },
  {
   "cell_type": "code",
   "execution_count": null,
   "id": "6ca83841",
   "metadata": {},
   "outputs": [],
   "source": [
    "i_like_it['tracks']['items'][0]"
   ]
  },
  {
   "cell_type": "code",
   "execution_count": null,
   "id": "b01bdc41",
   "metadata": {},
   "outputs": [],
   "source": [
    "test = pd.DataFrame.from_dict(i_like_it,orient='columns')\n",
    "test1 = test.tracks.apply(pd.Series)\n",
    "test2 = pd.DataFrame(test1.iloc[1])\n",
    "test84 = test2['items'].apply(pd.Series)\n",
    "test84 = test84.head(1)"
   ]
  },
  {
   "cell_type": "markdown",
   "id": "c74a0154",
   "metadata": {},
   "source": [
    "# 85 What Hurts The Most"
   ]
  },
  {
   "cell_type": "code",
   "execution_count": null,
   "id": "53d51598",
   "metadata": {},
   "outputs": [],
   "source": [
    "what_hurts = spotify.search({'track': \"What Hurts The Most\", 'artist': 'Rascal'}, search_type ='track')"
   ]
  },
  {
   "cell_type": "code",
   "execution_count": null,
   "id": "fd8fec6c",
   "metadata": {},
   "outputs": [],
   "source": [
    "what_hurts['tracks']['items'][0]"
   ]
  },
  {
   "cell_type": "code",
   "execution_count": null,
   "id": "ada885bf",
   "metadata": {},
   "outputs": [],
   "source": [
    "test = pd.DataFrame.from_dict(what_hurts,orient='columns')\n",
    "test1 = test.tracks.apply(pd.Series)\n",
    "test2 = pd.DataFrame(test1.iloc[1])\n",
    "test85 = test2['items'].apply(pd.Series)\n",
    "test85 = test85.head(1)"
   ]
  },
  {
   "cell_type": "markdown",
   "id": "6cf1859a",
   "metadata": {},
   "source": [
    "# 86 You belong with me"
   ]
  },
  {
   "cell_type": "code",
   "execution_count": null,
   "id": "2000967b",
   "metadata": {},
   "outputs": [],
   "source": [
    "you_belong = spotify.search({'track': \"You belong with me\", 'artist': 'Taylor'}, search_type ='track')"
   ]
  },
  {
   "cell_type": "code",
   "execution_count": null,
   "id": "5996adb8",
   "metadata": {
    "scrolled": true
   },
   "outputs": [],
   "source": [
    "you_belong['tracks']['items'][0]"
   ]
  },
  {
   "cell_type": "code",
   "execution_count": null,
   "id": "0c9610b9",
   "metadata": {},
   "outputs": [],
   "source": [
    "test = pd.DataFrame.from_dict(you_belong,orient='columns')\n",
    "test1 = test.tracks.apply(pd.Series)\n",
    "test2 = pd.DataFrame(test1.iloc[1])\n",
    "test86 = test2['items'].apply(pd.Series)\n",
    "test86 = test86.head(1)"
   ]
  },
  {
   "cell_type": "markdown",
   "id": "bb42397e",
   "metadata": {},
   "source": [
    "# 87 Call Me Maybe"
   ]
  },
  {
   "cell_type": "code",
   "execution_count": null,
   "id": "50e69085",
   "metadata": {},
   "outputs": [],
   "source": [
    "call_me = spotify.search({'track': \"Call Me Maybe\", 'artist': 'Carly'}, search_type ='track')"
   ]
  },
  {
   "cell_type": "code",
   "execution_count": null,
   "id": "b8281bba",
   "metadata": {
    "scrolled": true
   },
   "outputs": [],
   "source": [
    "call_me['tracks']['items'][0]"
   ]
  },
  {
   "cell_type": "code",
   "execution_count": null,
   "id": "68dbda5c",
   "metadata": {},
   "outputs": [],
   "source": [
    "test = pd.DataFrame.from_dict(call_me,orient='columns')\n",
    "test1 = test.tracks.apply(pd.Series)\n",
    "test2 = pd.DataFrame(test1.iloc[1])\n",
    "test87 = test2['items'].apply(pd.Series)\n",
    "test87 = test87.head(1)"
   ]
  },
  {
   "cell_type": "markdown",
   "id": "c3eafc7e",
   "metadata": {},
   "source": [
    "# 88 Congratulations"
   ]
  },
  {
   "cell_type": "code",
   "execution_count": null,
   "id": "d3e17519",
   "metadata": {},
   "outputs": [],
   "source": [
    "congratulations = spotify.search({'track': \"Congratulations\", 'artist': 'Post'}, search_type ='track')"
   ]
  },
  {
   "cell_type": "code",
   "execution_count": null,
   "id": "fb806b1d",
   "metadata": {},
   "outputs": [],
   "source": [
    "congratulations['tracks']['items'][0]"
   ]
  },
  {
   "cell_type": "code",
   "execution_count": null,
   "id": "a8b660ad",
   "metadata": {},
   "outputs": [],
   "source": [
    "test = pd.DataFrame.from_dict(congratulations,orient='columns')\n",
    "test1 = test.tracks.apply(pd.Series)\n",
    "test2 = pd.DataFrame(test1.iloc[1])\n",
    "test88 = test2['items'].apply(pd.Series)\n",
    "test88 = test88.head(1)"
   ]
  },
  {
   "cell_type": "markdown",
   "id": "919d9425",
   "metadata": {},
   "source": [
    "# 89 Someday"
   ]
  },
  {
   "cell_type": "code",
   "execution_count": null,
   "id": "b0d27f4c",
   "metadata": {},
   "outputs": [],
   "source": [
    "someday = spotify.search({'track': \"Someday\", 'artist': 'nickelback'}, search_type ='track')"
   ]
  },
  {
   "cell_type": "code",
   "execution_count": null,
   "id": "e2aefad6",
   "metadata": {},
   "outputs": [],
   "source": [
    "someday['tracks']['items'][0]"
   ]
  },
  {
   "cell_type": "code",
   "execution_count": null,
   "id": "ca68e145",
   "metadata": {},
   "outputs": [],
   "source": [
    "test = pd.DataFrame.from_dict(someday,orient='columns')\n",
    "test1 = test.tracks.apply(pd.Series)\n",
    "test2 = pd.DataFrame(test1.iloc[1])\n",
    "test89 = test2['items'].apply(pd.Series)\n",
    "test89 = test89.head(1)"
   ]
  },
  {
   "cell_type": "markdown",
   "id": "b926045b",
   "metadata": {},
   "source": [
    "# 90 Tequila"
   ]
  },
  {
   "cell_type": "code",
   "execution_count": null,
   "id": "ee644d3b",
   "metadata": {},
   "outputs": [],
   "source": [
    "tequila = spotify.search({'track': \"Tequila\", 'artist': 'dan'}, search_type ='track')"
   ]
  },
  {
   "cell_type": "code",
   "execution_count": null,
   "id": "f338ab08",
   "metadata": {},
   "outputs": [],
   "source": [
    "tequila['tracks']['items'][0]"
   ]
  },
  {
   "cell_type": "code",
   "execution_count": null,
   "id": "89ee7c6a",
   "metadata": {},
   "outputs": [],
   "source": [
    "test = pd.DataFrame.from_dict(tequila,orient='columns')\n",
    "test1 = test.tracks.apply(pd.Series)\n",
    "test2 = pd.DataFrame(test1.iloc[1])\n",
    "test90 = test2['items'].apply(pd.Series)\n",
    "test90 = test90.head(1)"
   ]
  },
  {
   "cell_type": "markdown",
   "id": "772d8bca",
   "metadata": {},
   "source": [
    "# 91 Shake it Off"
   ]
  },
  {
   "cell_type": "code",
   "execution_count": null,
   "id": "ca1c494f",
   "metadata": {},
   "outputs": [],
   "source": [
    "shake_it = spotify.search({'track': \"Shake it Off\", 'artist': 'Taylor'}, search_type ='track')"
   ]
  },
  {
   "cell_type": "code",
   "execution_count": null,
   "id": "3de284be",
   "metadata": {
    "scrolled": true
   },
   "outputs": [],
   "source": [
    "shake_it['tracks']['items'][0]"
   ]
  },
  {
   "cell_type": "code",
   "execution_count": null,
   "id": "f1f0b490",
   "metadata": {},
   "outputs": [],
   "source": [
    "test = pd.DataFrame.from_dict(shake_it,orient='columns')\n",
    "test1 = test.tracks.apply(pd.Series)\n",
    "test2 = pd.DataFrame(test1.iloc[1])\n",
    "test91 = test2['items'].apply(pd.Series)\n",
    "test91 = test91.head(1)"
   ]
  },
  {
   "cell_type": "markdown",
   "id": "4801be03",
   "metadata": {},
   "source": [
    "# 92 Adore You"
   ]
  },
  {
   "cell_type": "code",
   "execution_count": null,
   "id": "6844a88b",
   "metadata": {},
   "outputs": [],
   "source": [
    "adore_you = spotify.search({'track': \"Adore You\", 'artist': 'Harry'}, search_type ='track')"
   ]
  },
  {
   "cell_type": "code",
   "execution_count": null,
   "id": "392ea029",
   "metadata": {},
   "outputs": [],
   "source": [
    "adore_you['tracks']['items'][0]"
   ]
  },
  {
   "cell_type": "code",
   "execution_count": null,
   "id": "0e7595be",
   "metadata": {},
   "outputs": [],
   "source": [
    "test = pd.DataFrame.from_dict(adore_you,orient='columns')\n",
    "test1 = test.tracks.apply(pd.Series)\n",
    "test2 = pd.DataFrame(test1.iloc[1])\n",
    "test92 = test2['items'].apply(pd.Series)\n",
    "test92 = test92.head(1)"
   ]
  },
  {
   "cell_type": "markdown",
   "id": "10018e82",
   "metadata": {},
   "source": [
    "# 93 Paralyzer"
   ]
  },
  {
   "cell_type": "code",
   "execution_count": null,
   "id": "2359cf4c",
   "metadata": {},
   "outputs": [],
   "source": [
    "paralyzer = spotify.search({'track': \"Paralyzer\", 'artist': 'Finger'}, search_type ='track')"
   ]
  },
  {
   "cell_type": "code",
   "execution_count": null,
   "id": "98ead07d",
   "metadata": {},
   "outputs": [],
   "source": [
    "paralyzer['tracks']['items'][0]"
   ]
  },
  {
   "cell_type": "code",
   "execution_count": null,
   "id": "48146ced",
   "metadata": {},
   "outputs": [],
   "source": [
    "test = pd.DataFrame.from_dict(paralyzer,orient='columns')\n",
    "test1 = test.tracks.apply(pd.Series)\n",
    "test2 = pd.DataFrame(test1.iloc[1])\n",
    "test93 = test2['items'].apply(pd.Series)\n",
    "test93 = test93.head(1)"
   ]
  },
  {
   "cell_type": "markdown",
   "id": "f4a2ecc0",
   "metadata": {},
   "source": [
    "# 94 Moves Like Jagger"
   ]
  },
  {
   "cell_type": "code",
   "execution_count": null,
   "id": "0b5c774b",
   "metadata": {},
   "outputs": [],
   "source": [
    "moves_like = spotify.search({'track': \"Moves Like Jagger\", 'artist': 'Maroon'}, search_type ='track')"
   ]
  },
  {
   "cell_type": "code",
   "execution_count": null,
   "id": "36e8e5c9",
   "metadata": {
    "scrolled": true
   },
   "outputs": [],
   "source": [
    "moves_like['tracks']['items'][0]"
   ]
  },
  {
   "cell_type": "code",
   "execution_count": null,
   "id": "1265e052",
   "metadata": {},
   "outputs": [],
   "source": [
    "test = pd.DataFrame.from_dict(moves_like,orient='columns')\n",
    "test1 = test.tracks.apply(pd.Series)\n",
    "test2 = pd.DataFrame(test1.iloc[1])\n",
    "test94 = test2['items'].apply(pd.Series)\n",
    "test94 = test94.head(1)"
   ]
  },
  {
   "cell_type": "markdown",
   "id": "14242876",
   "metadata": {},
   "source": [
    "# 95 Run-Around"
   ]
  },
  {
   "cell_type": "code",
   "execution_count": null,
   "id": "45ca4b2f",
   "metadata": {},
   "outputs": [],
   "source": [
    "run_around = spotify.search({'track': \"Run-Around\", 'artist': 'Blues'}, search_type ='track')"
   ]
  },
  {
   "cell_type": "code",
   "execution_count": null,
   "id": "3608514c",
   "metadata": {},
   "outputs": [],
   "source": [
    "run_around['tracks']['items'][0]"
   ]
  },
  {
   "cell_type": "code",
   "execution_count": null,
   "id": "d1aa79ac",
   "metadata": {},
   "outputs": [],
   "source": [
    "test = pd.DataFrame.from_dict(run_around,orient='columns')\n",
    "test1 = test.tracks.apply(pd.Series)\n",
    "test2 = pd.DataFrame(test1.iloc[1])\n",
    "test95 = test2['items'].apply(pd.Series)\n",
    "test95 = test95.head(1)"
   ]
  },
  {
   "cell_type": "markdown",
   "id": "d3487d8a",
   "metadata": {},
   "source": [
    "# 96 How You Remind Me"
   ]
  },
  {
   "cell_type": "code",
   "execution_count": null,
   "id": "ed6679b1",
   "metadata": {},
   "outputs": [],
   "source": [
    "how_you_remind = spotify.search({'track': \"How You Remind Me\", 'artist': 'Nickelback'}, search_type ='track')"
   ]
  },
  {
   "cell_type": "code",
   "execution_count": null,
   "id": "2f9eb28b",
   "metadata": {},
   "outputs": [],
   "source": [
    "how_you_remind['tracks']['items'][0]"
   ]
  },
  {
   "cell_type": "code",
   "execution_count": null,
   "id": "c64a6974",
   "metadata": {},
   "outputs": [],
   "source": [
    "test = pd.DataFrame.from_dict(how_you_remind,orient='columns')\n",
    "test1 = test.tracks.apply(pd.Series)\n",
    "test2 = pd.DataFrame(test1.iloc[1])\n",
    "test96 = test2['items'].apply(pd.Series)\n",
    "test96 = test96.head(1)"
   ]
  },
  {
   "cell_type": "markdown",
   "id": "b7203dcf",
   "metadata": {},
   "source": [
    "# 97 Bad Guy"
   ]
  },
  {
   "cell_type": "code",
   "execution_count": null,
   "id": "84751515",
   "metadata": {},
   "outputs": [],
   "source": [
    "bad_guy = spotify.search({'track': \"Bad Guy\", 'artist': 'Billie'}, search_type ='track')"
   ]
  },
  {
   "cell_type": "code",
   "execution_count": null,
   "id": "8d71e898",
   "metadata": {},
   "outputs": [],
   "source": [
    "bad_guy['tracks']['items'][0]"
   ]
  },
  {
   "cell_type": "code",
   "execution_count": null,
   "id": "87e84595",
   "metadata": {},
   "outputs": [],
   "source": [
    "test = pd.DataFrame.from_dict(bad_guy,orient='columns')\n",
    "test1 = test.tracks.apply(pd.Series)\n",
    "test2 = pd.DataFrame(test1.iloc[1])\n",
    "test97 = test2['items'].apply(pd.Series)\n",
    "test97 = test97.head(1)"
   ]
  },
  {
   "cell_type": "markdown",
   "id": "56fe5856",
   "metadata": {},
   "source": [
    "# 98 Love Story"
   ]
  },
  {
   "cell_type": "code",
   "execution_count": null,
   "id": "7cff527b",
   "metadata": {},
   "outputs": [],
   "source": [
    "love_story = spotify.search({'track': \"Love Story\", 'artist': 'Taylor'}, search_type ='track')"
   ]
  },
  {
   "cell_type": "code",
   "execution_count": null,
   "id": "10c96d05",
   "metadata": {
    "scrolled": true
   },
   "outputs": [],
   "source": [
    "love_story['tracks']['items'][0]"
   ]
  },
  {
   "cell_type": "code",
   "execution_count": null,
   "id": "e5073dd6",
   "metadata": {},
   "outputs": [],
   "source": [
    "test = pd.DataFrame.from_dict(love_story,orient='columns')\n",
    "test1 = test.tracks.apply(pd.Series)\n",
    "test2 = pd.DataFrame(test1.iloc[1])\n",
    "test98 = test2['items'].apply(pd.Series)\n",
    "test98 = test98.head(1)"
   ]
  },
  {
   "cell_type": "markdown",
   "id": "94d7fe37",
   "metadata": {},
   "source": [
    "# 99 Thrist Shop"
   ]
  },
  {
   "cell_type": "code",
   "execution_count": null,
   "id": "b51f7610",
   "metadata": {},
   "outputs": [],
   "source": [
    "thrift = spotify.search({'track': \"Thrift Shop\", 'artist': 'Macklemore'}, search_type ='track')"
   ]
  },
  {
   "cell_type": "code",
   "execution_count": null,
   "id": "81d6de2b",
   "metadata": {},
   "outputs": [],
   "source": [
    "thrift['tracks']['items'][0]"
   ]
  },
  {
   "cell_type": "code",
   "execution_count": null,
   "id": "26982b91",
   "metadata": {},
   "outputs": [],
   "source": [
    "test = pd.DataFrame.from_dict(thrift,orient='columns')\n",
    "test1 = test.tracks.apply(pd.Series)\n",
    "test2 = pd.DataFrame(test1.iloc[1])\n",
    "test99 = test2['items'].apply(pd.Series)\n",
    "test99 = test99.head(1)"
   ]
  },
  {
   "cell_type": "markdown",
   "id": "709ec27d",
   "metadata": {},
   "source": [
    "# 100 Just Dance"
   ]
  },
  {
   "cell_type": "code",
   "execution_count": null,
   "id": "1df4a38b",
   "metadata": {},
   "outputs": [],
   "source": [
    "just_dance = spotify.search({'track': \"Just Dance\", 'artist': 'Lady'}, search_type ='track')"
   ]
  },
  {
   "cell_type": "code",
   "execution_count": null,
   "id": "57b1217a",
   "metadata": {},
   "outputs": [],
   "source": [
    "just_dance['tracks']['items'][0]"
   ]
  },
  {
   "cell_type": "code",
   "execution_count": null,
   "id": "37e0c75d",
   "metadata": {},
   "outputs": [],
   "source": [
    "test = pd.DataFrame.from_dict(just_dance,orient='columns')\n",
    "test1 = test.tracks.apply(pd.Series)\n",
    "test2 = pd.DataFrame(test1.iloc[1])\n",
    "test100 = test2['items'].apply(pd.Series)\n",
    "test100 = test100.head(1)"
   ]
  },
  {
   "cell_type": "code",
   "execution_count": null,
   "id": "3b4fe809",
   "metadata": {},
   "outputs": [],
   "source": [
    "concat_100 = pd.concat([test_1, test_2, test_3, test_4, test5, test6, test7, test8, test9, test10, test11, test12, test13, test14, test15, test16, test17, test18, test19, test20, test21, test22, test23, test24, test25, test26, test27, test28, test29, test30, test31, test32, test33, test34, test35, test36, test37, test38, test39, test40, test41, test42, test43, test44, test45, test46, test47, test48, test49, test50, test51, test52, test53, test54, test55, test56, test57, test58, test59, test60, test61, test62, test63, test64, test65, test66, test67, test68, test69, test70, test71, test72, test73, test74, test75, test76, test77, test78, test79, test80, test81, test82, test83, test84, test85, test86, test87, test88, test89, test90, test91, test92, test93, test94, test85, test96, test97, test98, test99, test100])\n",
    "concat_100"
   ]
  },
  {
   "cell_type": "code",
   "execution_count": null,
   "id": "4e54e669",
   "metadata": {},
   "outputs": [],
   "source": [
    "concat_100.to_csv('concat_100.csv')"
   ]
  },
  {
   "cell_type": "code",
   "execution_count": null,
   "id": "0acff3fb",
   "metadata": {},
   "outputs": [],
   "source": [
    "concat_df = pd.read_csv('../data/concat_100_2.csv')"
   ]
  },
  {
   "cell_type": "code",
   "execution_count": null,
   "id": "282383b2",
   "metadata": {
    "scrolled": true
   },
   "outputs": [],
   "source": [
    "big_df = concat_df[['duration_ms', 'explicit', 'name', 'Performer', 'genre', 'popularity', 'uri', 'weeks_on_chart', 'release_year']]\n",
    "big_df"
   ]
  },
  {
   "cell_type": "code",
   "execution_count": null,
   "id": "72ba18f8",
   "metadata": {},
   "outputs": [],
   "source": [
    "exp = big_df.value_counts('explicit')\n",
    "exp_df = exp.reset_index()\n",
    "exp_df"
   ]
  },
  {
   "cell_type": "markdown",
   "id": "c49f5d18",
   "metadata": {},
   "source": [
    "# Explicit Graph"
   ]
  },
  {
   "cell_type": "code",
   "execution_count": null,
   "id": "98b903f1",
   "metadata": {},
   "outputs": [],
   "source": [
    "values = [87, 13]\n",
    "colors = ['cadetblue', 'turquoise']\n",
    "labels = ['False', 'True']\n",
    "explode = (0.2, 0)\n",
    "plt.pie(values, colors=colors, labels=labels,\n",
    "explode=explode, autopct='%1.1f%%',\n",
    "counterclock=False, shadow=True)\n",
    "plt.title('Explicit')\n",
    "plt.show()"
   ]
  },
  {
   "cell_type": "code",
   "execution_count": null,
   "id": "fd080b40",
   "metadata": {},
   "outputs": [],
   "source": [
    "explicit_graph = big_df.plot(figsize=(10,6),\n",
    "                             x= 'explicit',\n",
    "                             y= 'release_year',\n",
    "                             title = 'Explicit by Year',\n",
    "                             xlabel = 'Explicit',\n",
    "                             ylabel = 'Release Year',\n",
    "                             kind = 'bar',\n",
    "                             color = 'cadetblue',\n",
    "                             \n",
    "                             alpha = 0.8)\n",
    "for bars in explicit_graph.containers:\n",
    "    explicit_graph.bar_label(bars)\n",
    "plt.show()"
   ]
  },
  {
   "cell_type": "markdown",
   "id": "5bd48df2",
   "metadata": {},
   "source": [
    "# Genre Graph"
   ]
  },
  {
   "cell_type": "code",
   "execution_count": null,
   "id": "603bc7e8",
   "metadata": {
    "scrolled": true
   },
   "outputs": [],
   "source": [
    "genre_graph = big_df.plot(figsize=(10,6),\n",
    "                             x= 'genre',\n",
    "                             y= 'release_year',\n",
    "                             title = 'Genre by Year',\n",
    "                             xlabel = 'Genre',\n",
    "                             ylabel = 'Release Year',\n",
    "                             kind = 'scatter',\n",
    "                             color = 'cadetblue',\n",
    "                             \n",
    "                             alpha = 0.8)\n",
    "for bars in genre_graph.containers:\n",
    "    genre_graph.bar_label(bars)\n",
    "plt.show()"
   ]
  },
  {
   "cell_type": "markdown",
   "id": "ef84bada",
   "metadata": {},
   "source": [
    "# Popularity vs Weeks on Chart"
   ]
  },
  {
   "cell_type": "code",
   "execution_count": null,
   "id": "53f9c55e",
   "metadata": {},
   "outputs": [],
   "source": [
    "pop_graph = big_df.plot(figsize=(10,6),\n",
    "                             x= 'popularity',\n",
    "                             y= 'weeks_on_chart',\n",
    "                             title = 'Popularity vs Weeks on Chart',\n",
    "                             xlabel = 'Popularity',\n",
    "                             ylabel = 'Weeks on Chart',\n",
    "                             kind = 'scatter',\n",
    "                             color = 'cadetblue',\n",
    "                             \n",
    "                             alpha = 0.8)\n",
    "for bars in pop_graph.containers:\n",
    "    pop_graph.bar_label(bars)\n",
    "plt.show()"
   ]
  },
  {
   "cell_type": "code",
   "execution_count": null,
   "id": "4e6a4271",
   "metadata": {},
   "outputs": [],
   "source": [
    "year_1_graph = big_df.plot(figsize=(10,6),\n",
    "                             x= 'release_year',\n",
    "                             y= 'weeks_on_chart',\n",
    "                             title = 'Release Year. vs Weeks',\n",
    "                             xlabel = 'Release Year',\n",
    "                             ylabel = 'Weeks on Chart',\n",
    "                             kind = 'scatter',\n",
    "                             color = 'cadetblue',\n",
    "                             \n",
    "                             alpha = 0.8)\n",
    "for bars in year_1_graph.containers:\n",
    "    year_1_graph.bar_label(bars)\n",
    "plt.show()"
   ]
  },
  {
   "cell_type": "markdown",
   "id": "0fd34135",
   "metadata": {},
   "source": [
    "# Release Year vs Popularity"
   ]
  },
  {
   "cell_type": "code",
   "execution_count": null,
   "id": "69d301d0",
   "metadata": {},
   "outputs": [],
   "source": [
    "year_2_graph = big_df.plot(figsize=(10,6),\n",
    "                             x= 'release_year',\n",
    "                             y= 'popularity',\n",
    "                             title = 'Release Year. vs Popularity',\n",
    "                             xlabel = 'Release Year',\n",
    "                             ylabel = 'Popularity',\n",
    "                             kind = 'scatter',\n",
    "                             color = 'cadetblue',\n",
    "                             \n",
    "                             alpha = 0.8)\n",
    "for bars in year_2_graph.containers:\n",
    "    year_2_graph.bar_label(bars)\n",
    "plt.show()"
   ]
  },
  {
   "cell_type": "code",
   "execution_count": null,
   "id": "41e8d621",
   "metadata": {},
   "outputs": [],
   "source": [
    "artists = project_csv_df['Performer'].to_list()[-5:]\n",
    "for song, artist in zip(songs, artists):\n",
    "    print(get_info (song, artist))"
   ]
  },
  {
   "cell_type": "code",
   "execution_count": null,
   "id": "8db1592f",
   "metadata": {},
   "outputs": [],
   "source": [
    "test = pd.DataFrame.from_dict(radioactive,orient='columns')\n",
    "test"
   ]
  },
  {
   "cell_type": "code",
   "execution_count": null,
   "id": "3eee4a8d",
   "metadata": {},
   "outputs": [],
   "source": [
    "test= test.tracks.apply(pd.Series)\n",
    "test"
   ]
  },
  {
   "cell_type": "code",
   "execution_count": null,
   "id": "8d9ed853",
   "metadata": {},
   "outputs": [],
   "source": [
    "test2 = pd.DataFrame(test.iloc[1])\n",
    "test2"
   ]
  },
  {
   "cell_type": "code",
   "execution_count": null,
   "id": "009c0eab",
   "metadata": {
    "scrolled": true
   },
   "outputs": [],
   "source": [
    "test3 = test2['items'].apply(pd.Series)\n",
    "test3"
   ]
  },
  {
   "cell_type": "code",
   "execution_count": null,
   "id": "aa556448",
   "metadata": {},
   "outputs": [],
   "source": [
    "radio_df = test3.head(1)"
   ]
  },
  {
   "cell_type": "markdown",
   "id": "36171c31",
   "metadata": {},
   "source": [
    "#  2 sail"
   ]
  },
  {
   "cell_type": "code",
   "execution_count": null,
   "id": "40e99ef5",
   "metadata": {},
   "outputs": [],
   "source": [
    "sail = spotify.search({'track': 'Sail', 'artist': 'AWOL'}, search_type ='track')\n",
    "sail"
   ]
  },
  {
   "cell_type": "code",
   "execution_count": null,
   "id": "c25ca498",
   "metadata": {},
   "outputs": [],
   "source": [
    "test = pd.DataFrame.from_dict(sail,orient='columns')\n",
    "test"
   ]
  },
  {
   "cell_type": "code",
   "execution_count": null,
   "id": "70cdc1b0",
   "metadata": {},
   "outputs": [],
   "source": [
    "test= test.tracks.apply(pd.Series)\n",
    "test"
   ]
  },
  {
   "cell_type": "code",
   "execution_count": null,
   "id": "33c777b3",
   "metadata": {},
   "outputs": [],
   "source": [
    "test2 = pd.DataFrame(test.iloc[1])\n",
    "test2"
   ]
  },
  {
   "cell_type": "code",
   "execution_count": null,
   "id": "acc1fba0",
   "metadata": {},
   "outputs": [],
   "source": [
    "test3 = test2['items'].apply(pd.Series)\n",
    "test3"
   ]
  },
  {
   "cell_type": "code",
   "execution_count": null,
   "id": "9ec26391",
   "metadata": {},
   "outputs": [],
   "source": [
    "sail_df = test3.head(1)"
   ]
  },
  {
   "cell_type": "markdown",
   "id": "4a7902cf",
   "metadata": {},
   "source": [
    "# 3  I'm Yours"
   ]
  },
  {
   "cell_type": "code",
   "execution_count": null,
   "id": "8b693a4f",
   "metadata": {},
   "outputs": [],
   "source": [
    "Im_Yours = spotify.search({'track': 'Im Yours', 'artist': 'Jason'}, search_type ='track')\n",
    "Im_Yours"
   ]
  },
  {
   "cell_type": "code",
   "execution_count": null,
   "id": "076736c9",
   "metadata": {},
   "outputs": [],
   "source": [
    "test = pd.DataFrame.from_dict(Im_Yours,orient='columns')\n",
    "test"
   ]
  },
  {
   "cell_type": "code",
   "execution_count": null,
   "id": "c49f5a4a",
   "metadata": {},
   "outputs": [],
   "source": [
    "test= test.tracks.apply(pd.Series)\n",
    "test"
   ]
  },
  {
   "cell_type": "code",
   "execution_count": null,
   "id": "4ba6c67f",
   "metadata": {},
   "outputs": [],
   "source": [
    "test2 = pd.DataFrame(test.iloc[1])\n",
    "test2"
   ]
  },
  {
   "cell_type": "code",
   "execution_count": null,
   "id": "42a013d6",
   "metadata": {},
   "outputs": [],
   "source": [
    "test3 = test2['items'].apply(pd.Series)\n",
    "test3"
   ]
  },
  {
   "cell_type": "code",
   "execution_count": null,
   "id": "74f4a7be",
   "metadata": {},
   "outputs": [],
   "source": [
    "yours_df = test3.head(1)"
   ]
  },
  {
   "cell_type": "markdown",
   "id": "e284daf0",
   "metadata": {},
   "source": [
    "# 4 Blinding Lights"
   ]
  },
  {
   "cell_type": "code",
   "execution_count": null,
   "id": "b8d57cc5",
   "metadata": {},
   "outputs": [],
   "source": [
    "Blinding_Lights = spotify.search({'track': 'Blinding Lights', 'artist': 'The'}, search_type ='track')\n",
    "Blinding_Lights"
   ]
  },
  {
   "cell_type": "code",
   "execution_count": null,
   "id": "335850d3",
   "metadata": {},
   "outputs": [],
   "source": [
    "test = pd.DataFrame.from_dict(Blinding_Lights,orient='columns')\n",
    "test"
   ]
  },
  {
   "cell_type": "code",
   "execution_count": null,
   "id": "69ff262d",
   "metadata": {},
   "outputs": [],
   "source": [
    "test= test.tracks.apply(pd.Series)\n",
    "test"
   ]
  },
  {
   "cell_type": "code",
   "execution_count": null,
   "id": "6edae6df",
   "metadata": {},
   "outputs": [],
   "source": [
    "test2 = pd.DataFrame(test.iloc[1])\n",
    "test2"
   ]
  },
  {
   "cell_type": "code",
   "execution_count": null,
   "id": "f5a21e84",
   "metadata": {},
   "outputs": [],
   "source": [
    "test3 = test2['items'].apply(pd.Series)\n",
    "test3"
   ]
  },
  {
   "cell_type": "code",
   "execution_count": null,
   "id": "8f3b54d3",
   "metadata": {},
   "outputs": [],
   "source": [
    "blinding_df = test3.head(1)"
   ]
  },
  {
   "cell_type": "markdown",
   "id": "186b0d98",
   "metadata": {},
   "source": [
    "# 5 How Do I Live"
   ]
  },
  {
   "cell_type": "code",
   "execution_count": null,
   "id": "f87ea15d",
   "metadata": {},
   "outputs": [],
   "source": [
    "How_Do_I = spotify.search({'track': 'How Do I Live', 'artist': 'LeAnn'}, search_type ='track')\n",
    "How_Do_I"
   ]
  },
  {
   "cell_type": "code",
   "execution_count": null,
   "id": "e48bb79a",
   "metadata": {},
   "outputs": [],
   "source": [
    "test = pd.DataFrame.from_dict(How_Do_I,orient='columns')\n",
    "test"
   ]
  },
  {
   "cell_type": "code",
   "execution_count": null,
   "id": "6cf779d0",
   "metadata": {},
   "outputs": [],
   "source": [
    "test= test.tracks.apply(pd.Series)\n",
    "test"
   ]
  },
  {
   "cell_type": "code",
   "execution_count": null,
   "id": "729f8f7e",
   "metadata": {},
   "outputs": [],
   "source": [
    "test2 = pd.DataFrame(test.iloc[1])\n",
    "test2"
   ]
  },
  {
   "cell_type": "code",
   "execution_count": null,
   "id": "b1d64768",
   "metadata": {},
   "outputs": [],
   "source": [
    "test3 = test2['items'].apply(pd.Series)\n",
    "test3"
   ]
  },
  {
   "cell_type": "code",
   "execution_count": null,
   "id": "2a869a5d",
   "metadata": {},
   "outputs": [],
   "source": [
    "how_df = test3.head(1)"
   ]
  },
  {
   "cell_type": "code",
   "execution_count": null,
   "id": "a9efa303",
   "metadata": {},
   "outputs": [],
   "source": [
    "#concat df"
   ]
  },
  {
   "cell_type": "code",
   "execution_count": null,
   "id": "16ff1455",
   "metadata": {},
   "outputs": [],
   "source": [
    "concat = pd.concat([radio_df, sail_df, yours_df, blinding_df, how_df], ignore_index=True)"
   ]
  },
  {
   "cell_type": "code",
   "execution_count": null,
   "id": "aa984ce6",
   "metadata": {},
   "outputs": [],
   "source": [
    "concat_graph = concat.plot(figsize=(10,6),\n",
    "                             x= 'name',\n",
    "                             y= 'popularity',\n",
    "                             title = 'Top Weeks on Chart Popularity',\n",
    "                             xlabel = 'Song',\n",
    "                             ylabel = 'Popularity',\n",
    "                             kind = 'bar',\n",
    "                             color = 'cadetblue',\n",
    "                             edgecolor = 'black',\n",
    "                             alpha = 0.8)\n",
    "for bars in concat_graph.containers:\n",
    "    concat_graph.bar_label(bars)\n",
    "plt.show()"
   ]
  },
  {
   "cell_type": "code",
   "execution_count": null,
   "id": "db567b91",
   "metadata": {
    "scrolled": true
   },
   "outputs": [],
   "source": [
    "merge = pd.concat([concat, weeks_df_5],keys=['concat_1', 'position_df_5'],\n",
    "                 names=['name', 'Song'])\n",
    "merge"
   ]
  },
  {
   "cell_type": "code",
   "execution_count": null,
   "id": "60f0712a",
   "metadata": {},
   "outputs": [],
   "source": []
  },
  {
   "cell_type": "code",
   "execution_count": null,
   "id": "6a757385",
   "metadata": {},
   "outputs": [],
   "source": [
    "merge.to_csv('top_weeks.csv')"
   ]
  },
  {
   "cell_type": "markdown",
   "id": "0c8ad12d",
   "metadata": {},
   "source": [
    "# Top Weeks @ #1"
   ]
  },
  {
   "cell_type": "markdown",
   "id": "140a120c",
   "metadata": {},
   "source": [
    "# 1 Old Town"
   ]
  },
  {
   "cell_type": "code",
   "execution_count": null,
   "id": "b5a5bbc6",
   "metadata": {},
   "outputs": [],
   "source": [
    "Old_Town = spotify.search({'track': 'Old Town Road', 'artist': 'Lil'}, search_type ='track')\n",
    "Old_Town"
   ]
  },
  {
   "cell_type": "code",
   "execution_count": null,
   "id": "db1e4c21",
   "metadata": {},
   "outputs": [],
   "source": [
    "test = pd.DataFrame.from_dict(Old_Town,orient='columns')\n",
    "test"
   ]
  },
  {
   "cell_type": "code",
   "execution_count": null,
   "id": "989a5cb2",
   "metadata": {},
   "outputs": [],
   "source": [
    "test= test.tracks.apply(pd.Series)\n",
    "test"
   ]
  },
  {
   "cell_type": "code",
   "execution_count": null,
   "id": "2a1621b4",
   "metadata": {},
   "outputs": [],
   "source": [
    "test2 = pd.DataFrame(test.iloc[1])\n",
    "test2"
   ]
  },
  {
   "cell_type": "code",
   "execution_count": null,
   "id": "6d8a8fc8",
   "metadata": {},
   "outputs": [],
   "source": [
    "test3 = test2['items'].apply(pd.Series)\n",
    "test3"
   ]
  },
  {
   "cell_type": "code",
   "execution_count": null,
   "id": "e1059efc",
   "metadata": {},
   "outputs": [],
   "source": [
    "old_df = test3.head(1)"
   ]
  },
  {
   "cell_type": "markdown",
   "id": "149dbce3",
   "metadata": {},
   "source": [
    "# 2 One Sweet Day"
   ]
  },
  {
   "cell_type": "code",
   "execution_count": null,
   "id": "6eb89104",
   "metadata": {
    "scrolled": true
   },
   "outputs": [],
   "source": [
    "One_Sweet = spotify.search({'track': 'One Sweet Day', 'artist': 'Mariah'}, search_type ='track')\n",
    "One_Sweet"
   ]
  },
  {
   "cell_type": "code",
   "execution_count": null,
   "id": "bb01d15d",
   "metadata": {},
   "outputs": [],
   "source": [
    "test = pd.DataFrame.from_dict(One_Sweet,orient='columns')\n",
    "test"
   ]
  },
  {
   "cell_type": "code",
   "execution_count": null,
   "id": "3cfaca1f",
   "metadata": {},
   "outputs": [],
   "source": [
    "test= test.tracks.apply(pd.Series)\n",
    "test"
   ]
  },
  {
   "cell_type": "code",
   "execution_count": null,
   "id": "6a9f56b8",
   "metadata": {},
   "outputs": [],
   "source": [
    "test2 = pd.DataFrame(test.iloc[1])\n",
    "test2"
   ]
  },
  {
   "cell_type": "code",
   "execution_count": null,
   "id": "d94e32a1",
   "metadata": {},
   "outputs": [],
   "source": [
    "test3 = test2['items'].apply(pd.Series)\n",
    "test3"
   ]
  },
  {
   "cell_type": "code",
   "execution_count": null,
   "id": "1fb5f79a",
   "metadata": {},
   "outputs": [],
   "source": [
    "one_df = test3.head(1)"
   ]
  },
  {
   "cell_type": "markdown",
   "id": "20d8a7cf",
   "metadata": {},
   "source": [
    "# 3 Despacito"
   ]
  },
  {
   "cell_type": "code",
   "execution_count": null,
   "id": "70c9597d",
   "metadata": {},
   "outputs": [],
   "source": [
    "Despacito = spotify.search({'track': 'Despacito', 'artist': 'Luis'}, search_type ='track')\n",
    "Despacito"
   ]
  },
  {
   "cell_type": "code",
   "execution_count": null,
   "id": "04f6b41b",
   "metadata": {},
   "outputs": [],
   "source": [
    "test = pd.DataFrame.from_dict(Despacito,orient='columns')\n",
    "test"
   ]
  },
  {
   "cell_type": "code",
   "execution_count": null,
   "id": "d8369fd7",
   "metadata": {},
   "outputs": [],
   "source": [
    "test= test.tracks.apply(pd.Series)\n",
    "test"
   ]
  },
  {
   "cell_type": "code",
   "execution_count": null,
   "id": "a313d763",
   "metadata": {},
   "outputs": [],
   "source": [
    "test2 = pd.DataFrame(test.iloc[1])\n",
    "test2"
   ]
  },
  {
   "cell_type": "code",
   "execution_count": null,
   "id": "8f21a34b",
   "metadata": {},
   "outputs": [],
   "source": [
    "test3 = test2['items'].apply(pd.Series)\n",
    "test3"
   ]
  },
  {
   "cell_type": "code",
   "execution_count": null,
   "id": "147c2e85",
   "metadata": {},
   "outputs": [],
   "source": [
    "desp_df = test3.head(1)"
   ]
  },
  {
   "cell_type": "markdown",
   "id": "badbb546",
   "metadata": {},
   "source": [
    "# 4 Candle in the Wind 1997"
   ]
  },
  {
   "cell_type": "code",
   "execution_count": null,
   "id": "e826598f",
   "metadata": {},
   "outputs": [],
   "source": [
    "Candle = spotify.search({'track': 'Candle In The Wind 1997', 'artist': 'Elton'}, search_type ='track')\n",
    "Candle"
   ]
  },
  {
   "cell_type": "code",
   "execution_count": null,
   "id": "742c47aa",
   "metadata": {},
   "outputs": [],
   "source": [
    "test = pd.DataFrame.from_dict(Candle,orient='columns')\n",
    "test"
   ]
  },
  {
   "cell_type": "code",
   "execution_count": null,
   "id": "e63685cc",
   "metadata": {},
   "outputs": [],
   "source": [
    "test= test.tracks.apply(pd.Series)\n",
    "test"
   ]
  },
  {
   "cell_type": "code",
   "execution_count": null,
   "id": "9c0d385e",
   "metadata": {},
   "outputs": [],
   "source": [
    "test2 = pd.DataFrame(test.iloc[1])\n",
    "test2"
   ]
  },
  {
   "cell_type": "code",
   "execution_count": null,
   "id": "e5e5feaa",
   "metadata": {},
   "outputs": [],
   "source": [
    "test3 = test2['items'].apply(pd.Series)\n",
    "test3"
   ]
  },
  {
   "cell_type": "code",
   "execution_count": null,
   "id": "130afbae",
   "metadata": {},
   "outputs": [],
   "source": [
    "candle_df = test3.head(1)"
   ]
  },
  {
   "cell_type": "markdown",
   "id": "f171e851",
   "metadata": {},
   "source": [
    "# 5 Macarena"
   ]
  },
  {
   "cell_type": "code",
   "execution_count": null,
   "id": "5b81913d",
   "metadata": {},
   "outputs": [],
   "source": [
    "Macarena_1 = spotify.search({'track': 'Macarena', 'artist': 'Los Del Rio'}, search_type ='track')\n",
    "Macarena_1"
   ]
  },
  {
   "cell_type": "code",
   "execution_count": null,
   "id": "632f1ed5",
   "metadata": {},
   "outputs": [],
   "source": [
    "test = pd.DataFrame.from_dict(Macarena_1,orient='columns')\n",
    "test"
   ]
  },
  {
   "cell_type": "code",
   "execution_count": null,
   "id": "80a3b9a5",
   "metadata": {},
   "outputs": [],
   "source": [
    "test= test.tracks.apply(pd.Series)\n",
    "test"
   ]
  },
  {
   "cell_type": "code",
   "execution_count": null,
   "id": "019cc23d",
   "metadata": {},
   "outputs": [],
   "source": [
    "test2 = pd.DataFrame(test.iloc[1])\n",
    "test2"
   ]
  },
  {
   "cell_type": "code",
   "execution_count": null,
   "id": "96f68abd",
   "metadata": {},
   "outputs": [],
   "source": [
    "test3 = test2['items'].apply(pd.Series)\n",
    "test3"
   ]
  },
  {
   "cell_type": "code",
   "execution_count": null,
   "id": "041dd2c8",
   "metadata": {},
   "outputs": [],
   "source": [
    "mac_df = test3.head(1)"
   ]
  },
  {
   "cell_type": "code",
   "execution_count": null,
   "id": "91a7522f",
   "metadata": {},
   "outputs": [],
   "source": [
    "# concat 2"
   ]
  },
  {
   "cell_type": "code",
   "execution_count": null,
   "id": "4de3ab87",
   "metadata": {},
   "outputs": [],
   "source": [
    "concat_1 = pd.concat([old_df, one_df, desp_df, candle_df, mac_df], ignore_index=True)\n",
    "concat_1"
   ]
  },
  {
   "cell_type": "code",
   "execution_count": null,
   "id": "c343e321",
   "metadata": {},
   "outputs": [],
   "source": [
    "concat_1graph = concat_1.plot(figsize=(10,6),\n",
    "                             x= 'name',\n",
    "                             y= 'popularity',\n",
    "                             title = 'Top Weeks #1 Chart Popularity',\n",
    "                             xlabel = 'Song',\n",
    "                             ylabel = 'Popularity',\n",
    "                             kind = 'bar',\n",
    "                             color = 'cadetblue',\n",
    "                             edgecolor = 'black',\n",
    "                             alpha = 0.8)\n",
    "for bars in concat_1graph.containers:\n",
    "    concat_1graph.bar_label(bars)\n",
    "plt.show()"
   ]
  },
  {
   "cell_type": "code",
   "execution_count": null,
   "id": "569ac3ca",
   "metadata": {},
   "outputs": [],
   "source": [
    "merge_1 = pd.concat([concat_1, position_df_5],keys=['concat_1', 'position_df_5'],\n",
    "                 names=['name', 'Song'])\n",
    "merge_1"
   ]
  },
  {
   "cell_type": "code",
   "execution_count": null,
   "id": "36180fcd",
   "metadata": {},
   "outputs": [],
   "source": [
    "merge_1.to_csv('1_top_Weeks.csv')"
   ]
  },
  {
   "cell_type": "code",
   "execution_count": null,
   "id": "5af2b01a",
   "metadata": {},
   "outputs": [],
   "source": [
    "merge_2 = pd.concat([merge, merge_1])\n",
    "merge_2"
   ]
  },
  {
   "cell_type": "code",
   "execution_count": null,
   "id": "3b19b258",
   "metadata": {},
   "outputs": [],
   "source": [
    "merge_2.to_csv('top_1_Weeks.csv')"
   ]
  },
  {
   "cell_type": "code",
   "execution_count": null,
   "id": "b74b4d15",
   "metadata": {},
   "outputs": [],
   "source": [
    "weeks_graph"
   ]
  },
  {
   "cell_type": "markdown",
   "id": "ee855bdc",
   "metadata": {},
   "source": [
    "# Top Streams"
   ]
  },
  {
   "cell_type": "markdown",
   "id": "a89534c1",
   "metadata": {},
   "source": [
    "# 1  Shape of You"
   ]
  },
  {
   "cell_type": "code",
   "execution_count": null,
   "id": "4a753851",
   "metadata": {},
   "outputs": [],
   "source": [
    "shape = spotify.search({'track': 'Shape of You', 'artist': 'Ed'}, search_type ='track')\n",
    "shape"
   ]
  },
  {
   "cell_type": "code",
   "execution_count": null,
   "id": "027f828f",
   "metadata": {},
   "outputs": [],
   "source": [
    "test = pd.DataFrame.from_dict(shape,orient='columns')\n",
    "test"
   ]
  },
  {
   "cell_type": "code",
   "execution_count": null,
   "id": "3ec59756",
   "metadata": {},
   "outputs": [],
   "source": [
    "test= test.tracks.apply(pd.Series)\n",
    "test"
   ]
  },
  {
   "cell_type": "code",
   "execution_count": null,
   "id": "c3638203",
   "metadata": {},
   "outputs": [],
   "source": [
    "test2 = pd.DataFrame(test.iloc[1])\n",
    "test2"
   ]
  },
  {
   "cell_type": "code",
   "execution_count": null,
   "id": "63a57008",
   "metadata": {},
   "outputs": [],
   "source": [
    "test3 = test2['items'].apply(pd.Series)\n",
    "test3"
   ]
  },
  {
   "cell_type": "code",
   "execution_count": null,
   "id": "d9e04e7e",
   "metadata": {},
   "outputs": [],
   "source": [
    "shape_df = test3.head(1)"
   ]
  },
  {
   "cell_type": "markdown",
   "id": "a8edc98b",
   "metadata": {},
   "source": [
    "# 2 Blinding Lights"
   ]
  },
  {
   "cell_type": "code",
   "execution_count": null,
   "id": "5aa23e48",
   "metadata": {},
   "outputs": [],
   "source": [
    "Blinding_Lights = spotify.search({'track': 'Blinding Lights', 'artist': 'The'}, search_type ='track')\n",
    "Blinding_Lights"
   ]
  },
  {
   "cell_type": "code",
   "execution_count": null,
   "id": "cf28406d",
   "metadata": {},
   "outputs": [],
   "source": [
    "test = pd.DataFrame.from_dict(Blinding_Lights,orient='columns')\n",
    "test"
   ]
  },
  {
   "cell_type": "code",
   "execution_count": null,
   "id": "88e80fea",
   "metadata": {},
   "outputs": [],
   "source": [
    "test= test.tracks.apply(pd.Series)\n",
    "test"
   ]
  },
  {
   "cell_type": "code",
   "execution_count": null,
   "id": "f8a29892",
   "metadata": {},
   "outputs": [],
   "source": [
    "test2 = pd.DataFrame(test.iloc[1])\n",
    "test2"
   ]
  },
  {
   "cell_type": "code",
   "execution_count": null,
   "id": "39f180ae",
   "metadata": {},
   "outputs": [],
   "source": [
    "test3 = test2['items'].apply(pd.Series)\n",
    "test3"
   ]
  },
  {
   "cell_type": "code",
   "execution_count": null,
   "id": "c383afae",
   "metadata": {},
   "outputs": [],
   "source": [
    "blinding_df = test3.head(1)"
   ]
  },
  {
   "cell_type": "markdown",
   "id": "801f6e88",
   "metadata": {},
   "source": [
    "# 3 Dance Monkey"
   ]
  },
  {
   "cell_type": "code",
   "execution_count": null,
   "id": "cd909a09",
   "metadata": {},
   "outputs": [],
   "source": [
    "dance = spotify.search({'track': 'Dance Monkey', 'artist': 'Tones'}, search_type ='track')\n",
    "dance"
   ]
  },
  {
   "cell_type": "code",
   "execution_count": null,
   "id": "ae0b1242",
   "metadata": {},
   "outputs": [],
   "source": [
    "test = pd.DataFrame.from_dict(dance,orient='columns')\n",
    "test"
   ]
  },
  {
   "cell_type": "code",
   "execution_count": null,
   "id": "76b30a1c",
   "metadata": {},
   "outputs": [],
   "source": [
    "test= test.tracks.apply(pd.Series)\n",
    "test"
   ]
  },
  {
   "cell_type": "code",
   "execution_count": null,
   "id": "2820e2c8",
   "metadata": {},
   "outputs": [],
   "source": [
    "test2 = pd.DataFrame(test.iloc[1])\n",
    "test2"
   ]
  },
  {
   "cell_type": "code",
   "execution_count": null,
   "id": "43af59db",
   "metadata": {},
   "outputs": [],
   "source": [
    "test3 = test2['items'].apply(pd.Series)\n",
    "test3"
   ]
  },
  {
   "cell_type": "code",
   "execution_count": null,
   "id": "690d8658",
   "metadata": {},
   "outputs": [],
   "source": [
    "dance_df = test3.head(1)"
   ]
  },
  {
   "cell_type": "markdown",
   "id": "1a4330a0",
   "metadata": {},
   "source": [
    "# 4 rockstar"
   ]
  },
  {
   "cell_type": "code",
   "execution_count": null,
   "id": "8714f745",
   "metadata": {},
   "outputs": [],
   "source": [
    "rockstar = spotify.search({'track': 'rockstar', 'artist': 'Post'}, search_type ='track')\n",
    "rockstar"
   ]
  },
  {
   "cell_type": "code",
   "execution_count": null,
   "id": "3cef6fc7",
   "metadata": {},
   "outputs": [],
   "source": [
    "test = pd.DataFrame.from_dict(rockstar,orient='columns')\n",
    "test"
   ]
  },
  {
   "cell_type": "code",
   "execution_count": null,
   "id": "15d65c52",
   "metadata": {},
   "outputs": [],
   "source": [
    "test= test.tracks.apply(pd.Series)\n",
    "test"
   ]
  },
  {
   "cell_type": "code",
   "execution_count": null,
   "id": "080285d7",
   "metadata": {},
   "outputs": [],
   "source": [
    "test2 = pd.DataFrame(test.iloc[1])\n",
    "test2"
   ]
  },
  {
   "cell_type": "code",
   "execution_count": null,
   "id": "36907f1f",
   "metadata": {},
   "outputs": [],
   "source": [
    "test3 = test2['items'].apply(pd.Series)\n",
    "test3"
   ]
  },
  {
   "cell_type": "code",
   "execution_count": null,
   "id": "b2d14540",
   "metadata": {},
   "outputs": [],
   "source": [
    "rock_df = test3.head(1)"
   ]
  },
  {
   "cell_type": "markdown",
   "id": "02c2f991",
   "metadata": {},
   "source": [
    "# 5 Someone You Loved"
   ]
  },
  {
   "cell_type": "code",
   "execution_count": null,
   "id": "1e84f143",
   "metadata": {},
   "outputs": [],
   "source": [
    "someone = spotify.search({'track': 'Someone You Loved', 'artist': 'Lewis'}, search_type ='track')\n",
    "someone"
   ]
  },
  {
   "cell_type": "code",
   "execution_count": null,
   "id": "f2596d18",
   "metadata": {},
   "outputs": [],
   "source": [
    "test = pd.DataFrame.from_dict(someone,orient='columns')\n",
    "test"
   ]
  },
  {
   "cell_type": "code",
   "execution_count": null,
   "id": "022a3ad2",
   "metadata": {},
   "outputs": [],
   "source": [
    "test= test.tracks.apply(pd.Series)\n",
    "test"
   ]
  },
  {
   "cell_type": "code",
   "execution_count": null,
   "id": "e5dcb5ac",
   "metadata": {},
   "outputs": [],
   "source": [
    "test2 = pd.DataFrame(test.iloc[1])\n",
    "test2"
   ]
  },
  {
   "cell_type": "code",
   "execution_count": null,
   "id": "bca939aa",
   "metadata": {},
   "outputs": [],
   "source": [
    "test3 = test2['items'].apply(pd.Series)\n",
    "test3"
   ]
  },
  {
   "cell_type": "code",
   "execution_count": null,
   "id": "3174a9d4",
   "metadata": {},
   "outputs": [],
   "source": [
    "someone_df = test3.head(1)"
   ]
  },
  {
   "cell_type": "markdown",
   "id": "836322ac",
   "metadata": {},
   "source": [
    "# Top Weeks"
   ]
  },
  {
   "cell_type": "code",
   "execution_count": null,
   "id": "bde052ec",
   "metadata": {
    "scrolled": true
   },
   "outputs": [],
   "source": [
    "Title =  ['Radioactive', 'Sail', \"I'm Yours\", 'Blinding Lights', 'How Do I Live']\n",
    "Popularity = [ 72, 74, 79, 90, 68]\n",
    "\n",
    "\n",
    "df = pd.DataFrame({'Popularity' : Popularity }, index = Title)\n",
    "\n",
    "ax = df.plot(kind='bar', figsize=(10,8), rot=0, title = 'Popularity Top Weeks on Chart', ylabel= 'Popularity')\n",
    "\n",
    "ax.tick_params(\n",
    "    axis=\"x\", labelsize=12,\n",
    "    labelcolor=\"black\")\n",
    "ax.tick_params(\n",
    "    axis=\"y\", labelsize=12,\n",
    "    labelcolor=\"black\")\n",
    "\n",
    "sns.set_theme(style='whitegrid', palette=('Paired'), font='sans-serif', font_scale=1, color_codes=True, rc=None)\n",
    "\n",
    "plt.show()"
   ]
  },
  {
   "cell_type": "markdown",
   "id": "08685cec",
   "metadata": {},
   "source": [
    "# Top Weeks BPM"
   ]
  },
  {
   "cell_type": "code",
   "execution_count": null,
   "id": "4a4da22e",
   "metadata": {},
   "outputs": [],
   "source": [
    "Top_weeks_BPM = ['Radioactive','Sail', \"I'm Yours\", 'Blinding Lights','How Do I Live']\n",
    "top_BPM_df = pd.DataFrame(Top_weeks_BPM)\n",
    "Top_weeks_BPM_2= [136,119,151,171,128]\n",
    "top_BPM_df_2= pd.DataFrame(Top_weeks_BPM_2)\n",
    "concat_BPM_1 = pd.concat([top_BPM_df, top_BPM_df_2], ignore_index=False)\n",
    "concat_BPM_1"
   ]
  },
  {
   "cell_type": "code",
   "execution_count": null,
   "id": "003e040d",
   "metadata": {},
   "outputs": [],
   "source": []
  },
  {
   "cell_type": "markdown",
   "id": "eddb525e",
   "metadata": {},
   "source": [
    "# 1 Weeks"
   ]
  },
  {
   "cell_type": "code",
   "execution_count": null,
   "id": "e1a4ea98",
   "metadata": {},
   "outputs": [],
   "source": [
    "Title =  ['Old Town Road', 'One Sweet Day', 'Despacito', 'Candle in the Wind', 'Macarena']\n",
    "Popularity = [78, 68, 80, 57, 60]\n",
    "\n",
    "\n",
    "df = pd.DataFrame({'Popularity' : Popularity }, index = Title)\n",
    "\n",
    "ax = df.plot(kind='bar', figsize=(10,8), rot=0, title = 'Popularity Top Weeks at #1', ylabel= 'Popularity')\n",
    "\n",
    "ax.tick_params(\n",
    "    axis=\"x\", labelsize=12,\n",
    "    labelcolor=\"black\")\n",
    "ax.tick_params(\n",
    "    axis=\"y\", labelsize=12,\n",
    "    labelcolor=\"black\")\n",
    "\n",
    "sns.set_theme(style='whitegrid', palette=('Paired'), font='sans-serif', font_scale=1, color_codes=True, rc=None)\n",
    "\n",
    "plt.show()"
   ]
  },
  {
   "cell_type": "markdown",
   "id": "6c96bde2",
   "metadata": {},
   "source": [
    "# Combined Chart Weeks"
   ]
  },
  {
   "cell_type": "code",
   "execution_count": null,
   "id": "2af42d91",
   "metadata": {},
   "outputs": [],
   "source": [
    "group_labels =  ['Radioactive', 'Sail', \"I'm Yours\", 'Blinding Lights', 'How Do I Live']\n",
    "Popularity = [ 72, 74, 79, 90, 68]\n",
    "\n",
    "Weeks_on_Chart = [87, 79, 76, 76, 69]\n",
    "\n",
    "\n",
    "df = pd.DataFrame({'Popularity': Popularity, 'Weeks on Chart': Weeks_on_Chart}, index = group_labels)\n",
    "\n",
    "ax = df.plot(kind='bar', figsize=(10,8), rot=0, title = 'Average Headway, Dwell Time, Positive Adherence', ylabel= 'Mins & Adherence')\n",
    "\n",
    "ax.tick_params(\n",
    "    axis=\"x\", labelsize=12,\n",
    "    labelcolor=\"black\")\n",
    "ax.tick_params(\n",
    "    axis=\"y\", labelsize=12,\n",
    "    labelcolor=\"black\")\n",
    "\n",
    "sns.set_theme(style='whitegrid', palette=('Paired'), font='sans-serif', font_scale=1, color_codes=True, rc=None)\n",
    "\n",
    "plt.show()"
   ]
  },
  {
   "cell_type": "markdown",
   "id": "34bc2360",
   "metadata": {},
   "source": [
    "# Combined Chart #1"
   ]
  },
  {
   "cell_type": "code",
   "execution_count": null,
   "id": "8d9c6006",
   "metadata": {},
   "outputs": [],
   "source": [
    "group_labels =  ['Old Town Road', 'One Sweet Day', 'Despacito', 'Candle in the Wind', 'Macarena' ]\n",
    "\n",
    "Popularity_at_1= [78, 68, 80, 57, 60]\n",
    "\n",
    "Weeks_at_1 = [19, 16, 16, 14, 14]\n",
    "\n",
    "df = pd.DataFrame({'Popularity at 1': Popularity_at_1, 'Weeks at 1': Weeks_at_1}, index = group_labels)\n",
    "\n",
    "ax = df.plot(kind='bar', figsize=(10,8), rot=0, title = 'Popularity and Weeks at 1', ylabel= 'Score')\n",
    "\n",
    "ax.tick_params(\n",
    "    axis=\"x\", labelsize=12,\n",
    "    labelcolor=\"black\")\n",
    "ax.tick_params(\n",
    "    axis=\"y\", labelsize=12,\n",
    "    labelcolor=\"black\")\n",
    "\n",
    "sns.set_theme(style='whitegrid', palette=('Paired'), font='sans-serif', font_scale=1, color_codes=True, rc=None)\n",
    "\n",
    "plt.show()"
   ]
  },
  {
   "cell_type": "markdown",
   "id": "21860056",
   "metadata": {},
   "source": [
    "# Combined Chart"
   ]
  },
  {
   "cell_type": "code",
   "execution_count": null,
   "id": "47c74e5a",
   "metadata": {},
   "outputs": [],
   "source": [
    "group_labels =  ['Radioactive', 'Sail', \"I'm Yours\", 'Blinding Lights', 'How Do I Live', 'Old Town Road', 'One Sweet Day', 'Despacito', 'Candle in the Wind', 'Macarena' ]\n",
    "\n",
    "Popularity = [ 72, 74, 79, 90, 68, 78, 68, 80, 57, 60]\n",
    "\n",
    "Weeks_on_Chart = [87, 79, 76, 76, 69, 19, 16, 16, 14, 14]\n",
    "\n",
    "\n",
    "df = pd.DataFrame({'Popularity': Popularity, 'Weeks on Chart': Weeks_on_Chart}, index = group_labels)\n",
    "\n",
    "ax = df.plot(kind='bar', figsize=(18,8), rot=0, title = 'Popularity Weeks and #1', ylabel= 'Mins & Adherence')\n",
    "\n",
    "ax.tick_params(\n",
    "    axis=\"x\", labelsize=12,\n",
    "    labelcolor=\"black\")\n",
    "ax.tick_params(\n",
    "    axis=\"y\", labelsize=12,\n",
    "    labelcolor=\"black\")\n",
    "\n",
    "sns.set_theme(style='whitegrid', palette=('Paired'), font='sans-serif', font_scale=1, color_codes=True, rc=None)\n",
    "\n",
    "plt.show()\n"
   ]
  },
  {
   "cell_type": "markdown",
   "id": "51298315",
   "metadata": {},
   "source": [
    "# Combined Chart Just Weeks"
   ]
  },
  {
   "cell_type": "code",
   "execution_count": null,
   "id": "438834b7",
   "metadata": {},
   "outputs": [],
   "source": [
    "Title =  ['Radioactive', 'Sail', \"I'm Yours\", 'Blinding Lights', 'How Do I Live', 'Old Town Road', 'One Sweet Day', 'Despacito', 'Candle in the Wind', 'Macarena']\n",
    "Popularity = [ 72, 74, 79, 90, 68, 78, 68, 80, 57, 60]\n",
    "\n",
    "\n",
    "df = pd.DataFrame({'Popularity' : Popularity }, index = Title)\n",
    "\n",
    "ax = df.plot(kind='bar', figsize=(18,8), rot=0, title = 'Popularity and Weeks Combined', ylabel= 'Popularity')\n",
    "\n",
    "ax.tick_params(\n",
    "    axis=\"x\", labelsize=12,\n",
    "    labelcolor=\"black\")\n",
    "ax.tick_params(\n",
    "    axis=\"y\", labelsize=12,\n",
    "    labelcolor=\"black\")\n",
    "\n",
    "sns.set_theme(style='whitegrid', palette=('Paired'), font='sans-serif', font_scale=1, color_codes=True, rc=None)\n",
    "\n",
    "plt.show()"
   ]
  },
  {
   "cell_type": "code",
   "execution_count": null,
   "id": "439a13df",
   "metadata": {},
   "outputs": [],
   "source": []
  }
 ],
 "metadata": {
  "kernelspec": {
   "display_name": "Python 3 (ipykernel)",
   "language": "python",
   "name": "python3"
  },
  "language_info": {
   "codemirror_mode": {
    "name": "ipython",
    "version": 3
   },
   "file_extension": ".py",
   "mimetype": "text/x-python",
   "name": "python",
   "nbconvert_exporter": "python",
   "pygments_lexer": "ipython3",
   "version": "3.9.12"
  }
 },
 "nbformat": 4,
 "nbformat_minor": 5
}
