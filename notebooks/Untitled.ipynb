{
 "cells": [
  {
   "cell_type": "code",
   "execution_count": 1,
   "id": "dde2cf34",
   "metadata": {},
   "outputs": [],
   "source": [
    "# import packages"
   ]
  },
  {
   "cell_type": "code",
   "execution_count": 2,
   "id": "716a284e",
   "metadata": {},
   "outputs": [],
   "source": [
    "from pandasql import sqldf\n",
    "import pandas as pd\n",
    "import numpy as np\n",
    "import matplotlib.pyplot as plt\n",
    "import seaborn as sns\n",
    "from bs4 import BeautifulSoup\n",
    "import io\n",
    "import requests"
   ]
  },
  {
   "cell_type": "code",
   "execution_count": 3,
   "id": "0261a454",
   "metadata": {},
   "outputs": [],
   "source": [
    "#matplotlib inline"
   ]
  },
  {
   "cell_type": "code",
   "execution_count": 4,
   "id": "d1a97949",
   "metadata": {},
   "outputs": [],
   "source": [
    "%matplotlib inline"
   ]
  },
  {
   "cell_type": "code",
   "execution_count": 5,
   "id": "9590eb15",
   "metadata": {},
   "outputs": [],
   "source": [
    "#read xls"
   ]
  },
  {
   "cell_type": "code",
   "execution_count": 6,
   "id": "cf4830d8",
   "metadata": {},
   "outputs": [],
   "source": [
    "project_data = pd.read_excel('../data/Hot 100 Audio Features.xlsx')"
   ]
  },
  {
   "cell_type": "code",
   "execution_count": 7,
   "id": "3c4ba165",
   "metadata": {},
   "outputs": [
    {
     "name": "stdout",
     "output_type": "stream",
     "text": [
      "                                                  SongID  \\\n",
      "0         -twistin'-White Silver SandsBill Black's Combo   \n",
      "1      ¿Dònde Està Santa Claus? (Where Is Santa Claus...   \n",
      "2                 ......And Roses And RosesAndy Williams   \n",
      "3               ...And Then There Were DrumsSandy Nelson   \n",
      "4                    ...Baby One More TimeBritney Spears   \n",
      "...                                                  ...   \n",
      "29498  Zoo YorkLil Tjay Featuring Fivio Foreign & Pop...   \n",
      "29499                                         ZoomFuture   \n",
      "29500                 ZoomLil' Boosie Featuring Yung Joc   \n",
      "29501     Zorba The GreekHerb Alpert & The Tijuana Brass   \n",
      "29502                                       Zunga ZengK7   \n",
      "\n",
      "                                          Performer  \\\n",
      "0                                Bill Black's Combo   \n",
      "1                                        Augie Rios   \n",
      "2                                     Andy Williams   \n",
      "3                                      Sandy Nelson   \n",
      "4                                    Britney Spears   \n",
      "...                                             ...   \n",
      "29498  Lil Tjay Featuring Fivio Foreign & Pop Smoke   \n",
      "29499                                        Future   \n",
      "29500                Lil' Boosie Featuring Yung Joc   \n",
      "29501               Herb Alpert & The Tijuana Brass   \n",
      "29502                                            K7   \n",
      "\n",
      "                                                   Song  \\\n",
      "0                          -twistin'-White Silver Sands   \n",
      "1      ¿Dònde Està Santa Claus? (Where Is Santa Claus?)   \n",
      "2                             ......And Roses And Roses   \n",
      "3                          ...And Then There Were Drums   \n",
      "4                                 ...Baby One More Time   \n",
      "...                                                 ...   \n",
      "29498                                          Zoo York   \n",
      "29499                                              Zoom   \n",
      "29500                                              Zoom   \n",
      "29501                                   Zorba The Greek   \n",
      "29502                                        Zunga Zeng   \n",
      "\n",
      "                                           spotify_genre  \\\n",
      "0                                                     []   \n",
      "1                                            ['novelty']   \n",
      "2      ['adult standards', 'brill building pop', 'eas...   \n",
      "3       ['rock-and-roll', 'space age pop', 'surf music']   \n",
      "4                  ['dance pop', 'pop', 'post-teen pop']   \n",
      "...                                                  ...   \n",
      "29498                                                NaN   \n",
      "29499  ['atl hip hop', 'hip hop', 'pop rap', 'rap', '...   \n",
      "29500          ['baton rouge rap', 'deep southern trap']   \n",
      "29501    ['adult standards', 'easy listening', 'lounge']   \n",
      "29502                                      ['freestyle']   \n",
      "\n",
      "             spotify_track_id  \\\n",
      "0                         NaN   \n",
      "1                         NaN   \n",
      "2      3tvqPPpXyIgKrm4PR9HCf0   \n",
      "3      1fHHq3qHU8wpRKHzhojZ4a   \n",
      "4      3MjUtNVVq3C8Fn0MP3zhXa   \n",
      "...                       ...   \n",
      "29498                     NaN   \n",
      "29499  2IG6Te7JyvrtqhFeOF7le4   \n",
      "29500                     NaN   \n",
      "29501  3WLEVNohakzZmMpN5W7mHK   \n",
      "29502  0XevPPcCBPovknaBw3lFvh   \n",
      "\n",
      "                               spotify_track_preview_url  \\\n",
      "0                                                    NaN   \n",
      "1                                                    NaN   \n",
      "2      https://p.scdn.co/mp3-preview/cef4883cfd1e0e53...   \n",
      "3                                                    NaN   \n",
      "4      https://p.scdn.co/mp3-preview/da2134a161f1cb34...   \n",
      "...                                                  ...   \n",
      "29498                                                NaN   \n",
      "29499  https://p.scdn.co/mp3-preview/cb8fde6edc08e70a...   \n",
      "29500                                                NaN   \n",
      "29501  https://p.scdn.co/mp3-preview/1841a4034ba42fc0...   \n",
      "29502  https://p.scdn.co/mp3-preview/8d5174aeb7d6b740...   \n",
      "\n",
      "       spotify_track_duration_ms  spotify_track_explicit  \\\n",
      "0                            NaN                     NaN   \n",
      "1                            NaN                     NaN   \n",
      "2                       166106.0                     0.0   \n",
      "3                       172066.0                     0.0   \n",
      "4                       211066.0                     0.0   \n",
      "...                          ...                     ...   \n",
      "29498                        NaN                     NaN   \n",
      "29499                   278429.0                     1.0   \n",
      "29500                        NaN                     NaN   \n",
      "29501                   264853.0                     0.0   \n",
      "29502                   273000.0                     0.0   \n",
      "\n",
      "                                  spotify_track_album  danceability  ...  \\\n",
      "0                                                 NaN           NaN  ...   \n",
      "1                                                 NaN           NaN  ...   \n",
      "2                         The Essential Andy Williams         0.154  ...   \n",
      "3                               Compelling Percussion         0.588  ...   \n",
      "4      ...Baby One More Time (Digital Deluxe Version)         0.759  ...   \n",
      "...                                               ...           ...  ...   \n",
      "29498                                             NaN           NaN  ...   \n",
      "29499                                          FUTURE         0.852  ...   \n",
      "29500                                             NaN           NaN  ...   \n",
      "29501                              !!!Going Places!!!         0.531  ...   \n",
      "29502                              Swing Batta Swing!         0.846  ...   \n",
      "\n",
      "       loudness  mode  speechiness  acousticness  instrumentalness  liveness  \\\n",
      "0           NaN   NaN          NaN           NaN               NaN       NaN   \n",
      "1           NaN   NaN          NaN           NaN               NaN       NaN   \n",
      "2       -14.063   1.0       0.0315       0.91100          0.000267    0.1120   \n",
      "3       -17.278   0.0       0.0361       0.00256          0.745000    0.1450   \n",
      "4        -5.745   0.0       0.0307       0.20200          0.000131    0.4430   \n",
      "...         ...   ...          ...           ...               ...       ...   \n",
      "29498       NaN   NaN          NaN           NaN               NaN       NaN   \n",
      "29499    -7.673   1.0       0.4260       0.01450          0.000000    0.2630   \n",
      "29500       NaN   NaN          NaN           NaN               NaN       NaN   \n",
      "29501   -12.702   1.0       0.3230       0.15400          0.279000    0.0584   \n",
      "29502    -9.642   1.0       0.1400       0.04780          0.000363    0.0392   \n",
      "\n",
      "       valence    tempo  time_signature  spotify_track_popularity  \n",
      "0          NaN      NaN             NaN                       NaN  \n",
      "1          NaN      NaN             NaN                       NaN  \n",
      "2        0.150   83.969             4.0                      38.0  \n",
      "3        0.801  121.962             4.0                      11.0  \n",
      "4        0.907   92.960             4.0                      77.0  \n",
      "...        ...      ...             ...                       ...  \n",
      "29498      NaN      NaN             NaN                       NaN  \n",
      "29499    0.627  150.945             4.0                      51.0  \n",
      "29500      NaN      NaN             NaN                       NaN  \n",
      "29501    0.192   82.107             4.0                      35.0  \n",
      "29502    0.619  103.743             4.0                      28.0  \n",
      "\n",
      "[29503 rows x 22 columns]\n"
     ]
    }
   ],
   "source": [
    "print(project_data)"
   ]
  },
  {
   "cell_type": "code",
   "execution_count": 8,
   "id": "342d01e2",
   "metadata": {},
   "outputs": [],
   "source": [
    "#project_data.info"
   ]
  },
  {
   "cell_type": "code",
   "execution_count": 9,
   "id": "d59c1cd9",
   "metadata": {
    "scrolled": true
   },
   "outputs": [
    {
     "name": "stdout",
     "output_type": "stream",
     "text": [
      "<class 'pandas.core.frame.DataFrame'>\n",
      "RangeIndex: 29503 entries, 0 to 29502\n",
      "Data columns (total 22 columns):\n",
      " #   Column                     Non-Null Count  Dtype  \n",
      "---  ------                     --------------  -----  \n",
      " 0   SongID                     29503 non-null  object \n",
      " 1   Performer                  29503 non-null  object \n",
      " 2   Song                       29503 non-null  object \n",
      " 3   spotify_genre              27903 non-null  object \n",
      " 4   spotify_track_id           24397 non-null  object \n",
      " 5   spotify_track_preview_url  14491 non-null  object \n",
      " 6   spotify_track_duration_ms  24397 non-null  float64\n",
      " 7   spotify_track_explicit     24397 non-null  float64\n",
      " 8   spotify_track_album        24391 non-null  object \n",
      " 9   danceability               24334 non-null  float64\n",
      " 10  energy                     24334 non-null  float64\n",
      " 11  key                        24334 non-null  float64\n",
      " 12  loudness                   24334 non-null  float64\n",
      " 13  mode                       24334 non-null  float64\n",
      " 14  speechiness                24334 non-null  float64\n",
      " 15  acousticness               24334 non-null  float64\n",
      " 16  instrumentalness           24334 non-null  float64\n",
      " 17  liveness                   24334 non-null  float64\n",
      " 18  valence                    24334 non-null  float64\n",
      " 19  tempo                      24334 non-null  float64\n",
      " 20  time_signature             24334 non-null  float64\n",
      " 21  spotify_track_popularity   24397 non-null  float64\n",
      "dtypes: float64(15), object(7)\n",
      "memory usage: 5.0+ MB\n"
     ]
    }
   ],
   "source": [
    "project_data.info()"
   ]
  },
  {
   "cell_type": "code",
   "execution_count": 10,
   "id": "f21c9a76",
   "metadata": {},
   "outputs": [],
   "source": [
    "#project_data_df"
   ]
  },
  {
   "cell_type": "code",
   "execution_count": 11,
   "id": "1758e292",
   "metadata": {},
   "outputs": [
    {
     "data": {
      "text/html": [
       "<div>\n",
       "<style scoped>\n",
       "    .dataframe tbody tr th:only-of-type {\n",
       "        vertical-align: middle;\n",
       "    }\n",
       "\n",
       "    .dataframe tbody tr th {\n",
       "        vertical-align: top;\n",
       "    }\n",
       "\n",
       "    .dataframe thead th {\n",
       "        text-align: right;\n",
       "    }\n",
       "</style>\n",
       "<table border=\"1\" class=\"dataframe\">\n",
       "  <thead>\n",
       "    <tr style=\"text-align: right;\">\n",
       "      <th></th>\n",
       "      <th>Song</th>\n",
       "      <th>Performer</th>\n",
       "    </tr>\n",
       "  </thead>\n",
       "  <tbody>\n",
       "    <tr>\n",
       "      <th>0</th>\n",
       "      <td>-twistin'-White Silver Sands</td>\n",
       "      <td>Bill Black's Combo</td>\n",
       "    </tr>\n",
       "    <tr>\n",
       "      <th>1</th>\n",
       "      <td>¿Dònde Està Santa Claus? (Where Is Santa Claus?)</td>\n",
       "      <td>Augie Rios</td>\n",
       "    </tr>\n",
       "    <tr>\n",
       "      <th>2</th>\n",
       "      <td>......And Roses And Roses</td>\n",
       "      <td>Andy Williams</td>\n",
       "    </tr>\n",
       "    <tr>\n",
       "      <th>3</th>\n",
       "      <td>...And Then There Were Drums</td>\n",
       "      <td>Sandy Nelson</td>\n",
       "    </tr>\n",
       "    <tr>\n",
       "      <th>4</th>\n",
       "      <td>...Baby One More Time</td>\n",
       "      <td>Britney Spears</td>\n",
       "    </tr>\n",
       "    <tr>\n",
       "      <th>...</th>\n",
       "      <td>...</td>\n",
       "      <td>...</td>\n",
       "    </tr>\n",
       "    <tr>\n",
       "      <th>29498</th>\n",
       "      <td>Zoo York</td>\n",
       "      <td>Lil Tjay Featuring Fivio Foreign &amp; Pop Smoke</td>\n",
       "    </tr>\n",
       "    <tr>\n",
       "      <th>29499</th>\n",
       "      <td>Zoom</td>\n",
       "      <td>Future</td>\n",
       "    </tr>\n",
       "    <tr>\n",
       "      <th>29500</th>\n",
       "      <td>Zoom</td>\n",
       "      <td>Lil' Boosie Featuring Yung Joc</td>\n",
       "    </tr>\n",
       "    <tr>\n",
       "      <th>29501</th>\n",
       "      <td>Zorba The Greek</td>\n",
       "      <td>Herb Alpert &amp; The Tijuana Brass</td>\n",
       "    </tr>\n",
       "    <tr>\n",
       "      <th>29502</th>\n",
       "      <td>Zunga Zeng</td>\n",
       "      <td>K7</td>\n",
       "    </tr>\n",
       "  </tbody>\n",
       "</table>\n",
       "<p>29503 rows × 2 columns</p>\n",
       "</div>"
      ],
      "text/plain": [
       "                                                   Song  \\\n",
       "0                          -twistin'-White Silver Sands   \n",
       "1      ¿Dònde Està Santa Claus? (Where Is Santa Claus?)   \n",
       "2                             ......And Roses And Roses   \n",
       "3                          ...And Then There Were Drums   \n",
       "4                                 ...Baby One More Time   \n",
       "...                                                 ...   \n",
       "29498                                          Zoo York   \n",
       "29499                                              Zoom   \n",
       "29500                                              Zoom   \n",
       "29501                                   Zorba The Greek   \n",
       "29502                                        Zunga Zeng   \n",
       "\n",
       "                                          Performer  \n",
       "0                                Bill Black's Combo  \n",
       "1                                        Augie Rios  \n",
       "2                                     Andy Williams  \n",
       "3                                      Sandy Nelson  \n",
       "4                                    Britney Spears  \n",
       "...                                             ...  \n",
       "29498  Lil Tjay Featuring Fivio Foreign & Pop Smoke  \n",
       "29499                                        Future  \n",
       "29500                Lil' Boosie Featuring Yung Joc  \n",
       "29501               Herb Alpert & The Tijuana Brass  \n",
       "29502                                            K7  \n",
       "\n",
       "[29503 rows x 2 columns]"
      ]
     },
     "execution_count": 11,
     "metadata": {},
     "output_type": "execute_result"
    }
   ],
   "source": [
    "project_data_df = project_data[['Song', 'Performer']]\n",
    "project_data_df"
   ]
  },
  {
   "cell_type": "code",
   "execution_count": 12,
   "id": "a2b8134d",
   "metadata": {},
   "outputs": [
    {
     "ename": "FileNotFoundError",
     "evalue": "[Errno 2] No such file or directory: '../data/Hot Stuff.csv'",
     "output_type": "error",
     "traceback": [
      "\u001b[0;31m---------------------------------------------------------------------------\u001b[0m",
      "\u001b[0;31mFileNotFoundError\u001b[0m                         Traceback (most recent call last)",
      "Input \u001b[0;32mIn [12]\u001b[0m, in \u001b[0;36m<cell line: 1>\u001b[0;34m()\u001b[0m\n\u001b[0;32m----> 1\u001b[0m project_csv \u001b[38;5;241m=\u001b[39m \u001b[43mpd\u001b[49m\u001b[38;5;241;43m.\u001b[39;49m\u001b[43mread_csv\u001b[49m\u001b[43m(\u001b[49m\u001b[38;5;124;43m'\u001b[39;49m\u001b[38;5;124;43m../data/Hot Stuff.csv\u001b[39;49m\u001b[38;5;124;43m'\u001b[39;49m\u001b[43m)\u001b[49m\n\u001b[1;32m      2\u001b[0m \u001b[38;5;28mprint\u001b[39m(project_csv)\n",
      "File \u001b[0;32m~/opt/anaconda3/lib/python3.9/site-packages/pandas/util/_decorators.py:311\u001b[0m, in \u001b[0;36mdeprecate_nonkeyword_arguments.<locals>.decorate.<locals>.wrapper\u001b[0;34m(*args, **kwargs)\u001b[0m\n\u001b[1;32m    305\u001b[0m \u001b[38;5;28;01mif\u001b[39;00m \u001b[38;5;28mlen\u001b[39m(args) \u001b[38;5;241m>\u001b[39m num_allow_args:\n\u001b[1;32m    306\u001b[0m     warnings\u001b[38;5;241m.\u001b[39mwarn(\n\u001b[1;32m    307\u001b[0m         msg\u001b[38;5;241m.\u001b[39mformat(arguments\u001b[38;5;241m=\u001b[39marguments),\n\u001b[1;32m    308\u001b[0m         \u001b[38;5;167;01mFutureWarning\u001b[39;00m,\n\u001b[1;32m    309\u001b[0m         stacklevel\u001b[38;5;241m=\u001b[39mstacklevel,\n\u001b[1;32m    310\u001b[0m     )\n\u001b[0;32m--> 311\u001b[0m \u001b[38;5;28;01mreturn\u001b[39;00m \u001b[43mfunc\u001b[49m\u001b[43m(\u001b[49m\u001b[38;5;241;43m*\u001b[39;49m\u001b[43margs\u001b[49m\u001b[43m,\u001b[49m\u001b[43m \u001b[49m\u001b[38;5;241;43m*\u001b[39;49m\u001b[38;5;241;43m*\u001b[39;49m\u001b[43mkwargs\u001b[49m\u001b[43m)\u001b[49m\n",
      "File \u001b[0;32m~/opt/anaconda3/lib/python3.9/site-packages/pandas/io/parsers/readers.py:680\u001b[0m, in \u001b[0;36mread_csv\u001b[0;34m(filepath_or_buffer, sep, delimiter, header, names, index_col, usecols, squeeze, prefix, mangle_dupe_cols, dtype, engine, converters, true_values, false_values, skipinitialspace, skiprows, skipfooter, nrows, na_values, keep_default_na, na_filter, verbose, skip_blank_lines, parse_dates, infer_datetime_format, keep_date_col, date_parser, dayfirst, cache_dates, iterator, chunksize, compression, thousands, decimal, lineterminator, quotechar, quoting, doublequote, escapechar, comment, encoding, encoding_errors, dialect, error_bad_lines, warn_bad_lines, on_bad_lines, delim_whitespace, low_memory, memory_map, float_precision, storage_options)\u001b[0m\n\u001b[1;32m    665\u001b[0m kwds_defaults \u001b[38;5;241m=\u001b[39m _refine_defaults_read(\n\u001b[1;32m    666\u001b[0m     dialect,\n\u001b[1;32m    667\u001b[0m     delimiter,\n\u001b[0;32m   (...)\u001b[0m\n\u001b[1;32m    676\u001b[0m     defaults\u001b[38;5;241m=\u001b[39m{\u001b[38;5;124m\"\u001b[39m\u001b[38;5;124mdelimiter\u001b[39m\u001b[38;5;124m\"\u001b[39m: \u001b[38;5;124m\"\u001b[39m\u001b[38;5;124m,\u001b[39m\u001b[38;5;124m\"\u001b[39m},\n\u001b[1;32m    677\u001b[0m )\n\u001b[1;32m    678\u001b[0m kwds\u001b[38;5;241m.\u001b[39mupdate(kwds_defaults)\n\u001b[0;32m--> 680\u001b[0m \u001b[38;5;28;01mreturn\u001b[39;00m \u001b[43m_read\u001b[49m\u001b[43m(\u001b[49m\u001b[43mfilepath_or_buffer\u001b[49m\u001b[43m,\u001b[49m\u001b[43m \u001b[49m\u001b[43mkwds\u001b[49m\u001b[43m)\u001b[49m\n",
      "File \u001b[0;32m~/opt/anaconda3/lib/python3.9/site-packages/pandas/io/parsers/readers.py:575\u001b[0m, in \u001b[0;36m_read\u001b[0;34m(filepath_or_buffer, kwds)\u001b[0m\n\u001b[1;32m    572\u001b[0m _validate_names(kwds\u001b[38;5;241m.\u001b[39mget(\u001b[38;5;124m\"\u001b[39m\u001b[38;5;124mnames\u001b[39m\u001b[38;5;124m\"\u001b[39m, \u001b[38;5;28;01mNone\u001b[39;00m))\n\u001b[1;32m    574\u001b[0m \u001b[38;5;66;03m# Create the parser.\u001b[39;00m\n\u001b[0;32m--> 575\u001b[0m parser \u001b[38;5;241m=\u001b[39m \u001b[43mTextFileReader\u001b[49m\u001b[43m(\u001b[49m\u001b[43mfilepath_or_buffer\u001b[49m\u001b[43m,\u001b[49m\u001b[43m \u001b[49m\u001b[38;5;241;43m*\u001b[39;49m\u001b[38;5;241;43m*\u001b[39;49m\u001b[43mkwds\u001b[49m\u001b[43m)\u001b[49m\n\u001b[1;32m    577\u001b[0m \u001b[38;5;28;01mif\u001b[39;00m chunksize \u001b[38;5;129;01mor\u001b[39;00m iterator:\n\u001b[1;32m    578\u001b[0m     \u001b[38;5;28;01mreturn\u001b[39;00m parser\n",
      "File \u001b[0;32m~/opt/anaconda3/lib/python3.9/site-packages/pandas/io/parsers/readers.py:933\u001b[0m, in \u001b[0;36mTextFileReader.__init__\u001b[0;34m(self, f, engine, **kwds)\u001b[0m\n\u001b[1;32m    930\u001b[0m     \u001b[38;5;28mself\u001b[39m\u001b[38;5;241m.\u001b[39moptions[\u001b[38;5;124m\"\u001b[39m\u001b[38;5;124mhas_index_names\u001b[39m\u001b[38;5;124m\"\u001b[39m] \u001b[38;5;241m=\u001b[39m kwds[\u001b[38;5;124m\"\u001b[39m\u001b[38;5;124mhas_index_names\u001b[39m\u001b[38;5;124m\"\u001b[39m]\n\u001b[1;32m    932\u001b[0m \u001b[38;5;28mself\u001b[39m\u001b[38;5;241m.\u001b[39mhandles: IOHandles \u001b[38;5;241m|\u001b[39m \u001b[38;5;28;01mNone\u001b[39;00m \u001b[38;5;241m=\u001b[39m \u001b[38;5;28;01mNone\u001b[39;00m\n\u001b[0;32m--> 933\u001b[0m \u001b[38;5;28mself\u001b[39m\u001b[38;5;241m.\u001b[39m_engine \u001b[38;5;241m=\u001b[39m \u001b[38;5;28;43mself\u001b[39;49m\u001b[38;5;241;43m.\u001b[39;49m\u001b[43m_make_engine\u001b[49m\u001b[43m(\u001b[49m\u001b[43mf\u001b[49m\u001b[43m,\u001b[49m\u001b[43m \u001b[49m\u001b[38;5;28;43mself\u001b[39;49m\u001b[38;5;241;43m.\u001b[39;49m\u001b[43mengine\u001b[49m\u001b[43m)\u001b[49m\n",
      "File \u001b[0;32m~/opt/anaconda3/lib/python3.9/site-packages/pandas/io/parsers/readers.py:1217\u001b[0m, in \u001b[0;36mTextFileReader._make_engine\u001b[0;34m(self, f, engine)\u001b[0m\n\u001b[1;32m   1213\u001b[0m     mode \u001b[38;5;241m=\u001b[39m \u001b[38;5;124m\"\u001b[39m\u001b[38;5;124mrb\u001b[39m\u001b[38;5;124m\"\u001b[39m\n\u001b[1;32m   1214\u001b[0m \u001b[38;5;66;03m# error: No overload variant of \"get_handle\" matches argument types\u001b[39;00m\n\u001b[1;32m   1215\u001b[0m \u001b[38;5;66;03m# \"Union[str, PathLike[str], ReadCsvBuffer[bytes], ReadCsvBuffer[str]]\"\u001b[39;00m\n\u001b[1;32m   1216\u001b[0m \u001b[38;5;66;03m# , \"str\", \"bool\", \"Any\", \"Any\", \"Any\", \"Any\", \"Any\"\u001b[39;00m\n\u001b[0;32m-> 1217\u001b[0m \u001b[38;5;28mself\u001b[39m\u001b[38;5;241m.\u001b[39mhandles \u001b[38;5;241m=\u001b[39m \u001b[43mget_handle\u001b[49m\u001b[43m(\u001b[49m\u001b[43m  \u001b[49m\u001b[38;5;66;43;03m# type: ignore[call-overload]\u001b[39;49;00m\n\u001b[1;32m   1218\u001b[0m \u001b[43m    \u001b[49m\u001b[43mf\u001b[49m\u001b[43m,\u001b[49m\n\u001b[1;32m   1219\u001b[0m \u001b[43m    \u001b[49m\u001b[43mmode\u001b[49m\u001b[43m,\u001b[49m\n\u001b[1;32m   1220\u001b[0m \u001b[43m    \u001b[49m\u001b[43mencoding\u001b[49m\u001b[38;5;241;43m=\u001b[39;49m\u001b[38;5;28;43mself\u001b[39;49m\u001b[38;5;241;43m.\u001b[39;49m\u001b[43moptions\u001b[49m\u001b[38;5;241;43m.\u001b[39;49m\u001b[43mget\u001b[49m\u001b[43m(\u001b[49m\u001b[38;5;124;43m\"\u001b[39;49m\u001b[38;5;124;43mencoding\u001b[39;49m\u001b[38;5;124;43m\"\u001b[39;49m\u001b[43m,\u001b[49m\u001b[43m \u001b[49m\u001b[38;5;28;43;01mNone\u001b[39;49;00m\u001b[43m)\u001b[49m\u001b[43m,\u001b[49m\n\u001b[1;32m   1221\u001b[0m \u001b[43m    \u001b[49m\u001b[43mcompression\u001b[49m\u001b[38;5;241;43m=\u001b[39;49m\u001b[38;5;28;43mself\u001b[39;49m\u001b[38;5;241;43m.\u001b[39;49m\u001b[43moptions\u001b[49m\u001b[38;5;241;43m.\u001b[39;49m\u001b[43mget\u001b[49m\u001b[43m(\u001b[49m\u001b[38;5;124;43m\"\u001b[39;49m\u001b[38;5;124;43mcompression\u001b[39;49m\u001b[38;5;124;43m\"\u001b[39;49m\u001b[43m,\u001b[49m\u001b[43m \u001b[49m\u001b[38;5;28;43;01mNone\u001b[39;49;00m\u001b[43m)\u001b[49m\u001b[43m,\u001b[49m\n\u001b[1;32m   1222\u001b[0m \u001b[43m    \u001b[49m\u001b[43mmemory_map\u001b[49m\u001b[38;5;241;43m=\u001b[39;49m\u001b[38;5;28;43mself\u001b[39;49m\u001b[38;5;241;43m.\u001b[39;49m\u001b[43moptions\u001b[49m\u001b[38;5;241;43m.\u001b[39;49m\u001b[43mget\u001b[49m\u001b[43m(\u001b[49m\u001b[38;5;124;43m\"\u001b[39;49m\u001b[38;5;124;43mmemory_map\u001b[39;49m\u001b[38;5;124;43m\"\u001b[39;49m\u001b[43m,\u001b[49m\u001b[43m \u001b[49m\u001b[38;5;28;43;01mFalse\u001b[39;49;00m\u001b[43m)\u001b[49m\u001b[43m,\u001b[49m\n\u001b[1;32m   1223\u001b[0m \u001b[43m    \u001b[49m\u001b[43mis_text\u001b[49m\u001b[38;5;241;43m=\u001b[39;49m\u001b[43mis_text\u001b[49m\u001b[43m,\u001b[49m\n\u001b[1;32m   1224\u001b[0m \u001b[43m    \u001b[49m\u001b[43merrors\u001b[49m\u001b[38;5;241;43m=\u001b[39;49m\u001b[38;5;28;43mself\u001b[39;49m\u001b[38;5;241;43m.\u001b[39;49m\u001b[43moptions\u001b[49m\u001b[38;5;241;43m.\u001b[39;49m\u001b[43mget\u001b[49m\u001b[43m(\u001b[49m\u001b[38;5;124;43m\"\u001b[39;49m\u001b[38;5;124;43mencoding_errors\u001b[39;49m\u001b[38;5;124;43m\"\u001b[39;49m\u001b[43m,\u001b[49m\u001b[43m \u001b[49m\u001b[38;5;124;43m\"\u001b[39;49m\u001b[38;5;124;43mstrict\u001b[39;49m\u001b[38;5;124;43m\"\u001b[39;49m\u001b[43m)\u001b[49m\u001b[43m,\u001b[49m\n\u001b[1;32m   1225\u001b[0m \u001b[43m    \u001b[49m\u001b[43mstorage_options\u001b[49m\u001b[38;5;241;43m=\u001b[39;49m\u001b[38;5;28;43mself\u001b[39;49m\u001b[38;5;241;43m.\u001b[39;49m\u001b[43moptions\u001b[49m\u001b[38;5;241;43m.\u001b[39;49m\u001b[43mget\u001b[49m\u001b[43m(\u001b[49m\u001b[38;5;124;43m\"\u001b[39;49m\u001b[38;5;124;43mstorage_options\u001b[39;49m\u001b[38;5;124;43m\"\u001b[39;49m\u001b[43m,\u001b[49m\u001b[43m \u001b[49m\u001b[38;5;28;43;01mNone\u001b[39;49;00m\u001b[43m)\u001b[49m\u001b[43m,\u001b[49m\n\u001b[1;32m   1226\u001b[0m \u001b[43m\u001b[49m\u001b[43m)\u001b[49m\n\u001b[1;32m   1227\u001b[0m \u001b[38;5;28;01massert\u001b[39;00m \u001b[38;5;28mself\u001b[39m\u001b[38;5;241m.\u001b[39mhandles \u001b[38;5;129;01mis\u001b[39;00m \u001b[38;5;129;01mnot\u001b[39;00m \u001b[38;5;28;01mNone\u001b[39;00m\n\u001b[1;32m   1228\u001b[0m f \u001b[38;5;241m=\u001b[39m \u001b[38;5;28mself\u001b[39m\u001b[38;5;241m.\u001b[39mhandles\u001b[38;5;241m.\u001b[39mhandle\n",
      "File \u001b[0;32m~/opt/anaconda3/lib/python3.9/site-packages/pandas/io/common.py:789\u001b[0m, in \u001b[0;36mget_handle\u001b[0;34m(path_or_buf, mode, encoding, compression, memory_map, is_text, errors, storage_options)\u001b[0m\n\u001b[1;32m    784\u001b[0m \u001b[38;5;28;01melif\u001b[39;00m \u001b[38;5;28misinstance\u001b[39m(handle, \u001b[38;5;28mstr\u001b[39m):\n\u001b[1;32m    785\u001b[0m     \u001b[38;5;66;03m# Check whether the filename is to be opened in binary mode.\u001b[39;00m\n\u001b[1;32m    786\u001b[0m     \u001b[38;5;66;03m# Binary mode does not support 'encoding' and 'newline'.\u001b[39;00m\n\u001b[1;32m    787\u001b[0m     \u001b[38;5;28;01mif\u001b[39;00m ioargs\u001b[38;5;241m.\u001b[39mencoding \u001b[38;5;129;01mand\u001b[39;00m \u001b[38;5;124m\"\u001b[39m\u001b[38;5;124mb\u001b[39m\u001b[38;5;124m\"\u001b[39m \u001b[38;5;129;01mnot\u001b[39;00m \u001b[38;5;129;01min\u001b[39;00m ioargs\u001b[38;5;241m.\u001b[39mmode:\n\u001b[1;32m    788\u001b[0m         \u001b[38;5;66;03m# Encoding\u001b[39;00m\n\u001b[0;32m--> 789\u001b[0m         handle \u001b[38;5;241m=\u001b[39m \u001b[38;5;28;43mopen\u001b[39;49m\u001b[43m(\u001b[49m\n\u001b[1;32m    790\u001b[0m \u001b[43m            \u001b[49m\u001b[43mhandle\u001b[49m\u001b[43m,\u001b[49m\n\u001b[1;32m    791\u001b[0m \u001b[43m            \u001b[49m\u001b[43mioargs\u001b[49m\u001b[38;5;241;43m.\u001b[39;49m\u001b[43mmode\u001b[49m\u001b[43m,\u001b[49m\n\u001b[1;32m    792\u001b[0m \u001b[43m            \u001b[49m\u001b[43mencoding\u001b[49m\u001b[38;5;241;43m=\u001b[39;49m\u001b[43mioargs\u001b[49m\u001b[38;5;241;43m.\u001b[39;49m\u001b[43mencoding\u001b[49m\u001b[43m,\u001b[49m\n\u001b[1;32m    793\u001b[0m \u001b[43m            \u001b[49m\u001b[43merrors\u001b[49m\u001b[38;5;241;43m=\u001b[39;49m\u001b[43merrors\u001b[49m\u001b[43m,\u001b[49m\n\u001b[1;32m    794\u001b[0m \u001b[43m            \u001b[49m\u001b[43mnewline\u001b[49m\u001b[38;5;241;43m=\u001b[39;49m\u001b[38;5;124;43m\"\u001b[39;49m\u001b[38;5;124;43m\"\u001b[39;49m\u001b[43m,\u001b[49m\n\u001b[1;32m    795\u001b[0m \u001b[43m        \u001b[49m\u001b[43m)\u001b[49m\n\u001b[1;32m    796\u001b[0m     \u001b[38;5;28;01melse\u001b[39;00m:\n\u001b[1;32m    797\u001b[0m         \u001b[38;5;66;03m# Binary mode\u001b[39;00m\n\u001b[1;32m    798\u001b[0m         handle \u001b[38;5;241m=\u001b[39m \u001b[38;5;28mopen\u001b[39m(handle, ioargs\u001b[38;5;241m.\u001b[39mmode)\n",
      "\u001b[0;31mFileNotFoundError\u001b[0m: [Errno 2] No such file or directory: '../data/Hot Stuff.csv'"
     ]
    }
   ],
   "source": [
    "project_csv = pd.read_csv('../data/Hot Stuff.csv')\n",
    "print(project_csv)"
   ]
  },
  {
   "cell_type": "code",
   "execution_count": null,
   "id": "6daa4c92",
   "metadata": {},
   "outputs": [],
   "source": [
    "#project_csv_df"
   ]
  },
  {
   "cell_type": "code",
   "execution_count": null,
   "id": "f1b99d9d",
   "metadata": {},
   "outputs": [],
   "source": [
    "project_csv_df = project_csv[['Song', 'Performer', 'Weeks on Chart']]\n",
    "project_csv_df"
   ]
  },
  {
   "cell_type": "code",
   "execution_count": null,
   "id": "e1fe90ae",
   "metadata": {},
   "outputs": [],
   "source": [
    "#max"
   ]
  },
  {
   "cell_type": "code",
   "execution_count": null,
   "id": "ad9485a2",
   "metadata": {},
   "outputs": [],
   "source": []
  },
  {
   "cell_type": "code",
   "execution_count": null,
   "id": "d65e847d",
   "metadata": {},
   "outputs": [],
   "source": [
    "#.loc"
   ]
  },
  {
   "cell_type": "code",
   "execution_count": null,
   "id": "3cf3a8c7",
   "metadata": {},
   "outputs": [],
   "source": [
    "project_csv.loc[:, ['Weeks on Chart', 'Song', 'Performer']].drop_duplicates().tail(5)"
   ]
  },
  {
   "cell_type": "code",
   "execution_count": null,
   "id": "ee0e1752",
   "metadata": {},
   "outputs": [],
   "source": [
    "#project_csv.info"
   ]
  },
  {
   "cell_type": "code",
   "execution_count": null,
   "id": "7760403c",
   "metadata": {},
   "outputs": [],
   "source": [
    "project_csv.info()"
   ]
  },
  {
   "cell_type": "code",
   "execution_count": null,
   "id": "dd35fec4",
   "metadata": {},
   "outputs": [],
   "source": [
    "#project_csv.types()"
   ]
  },
  {
   "cell_type": "code",
   "execution_count": null,
   "id": "abf0a8df",
   "metadata": {
    "scrolled": true
   },
   "outputs": [],
   "source": [
    "project_csv.dtypes"
   ]
  },
  {
   "cell_type": "code",
   "execution_count": null,
   "id": "0fbb88d1",
   "metadata": {},
   "outputs": [],
   "source": [
    "#postion"
   ]
  },
  {
   "cell_type": "code",
   "execution_count": null,
   "id": "3fbcf3af",
   "metadata": {
    "scrolled": true
   },
   "outputs": [],
   "source": [
    "Position= 'SELECT DISTINCT(Song) as Song, Performer, WeekID as Week, Week_Position, Weeks_on_Chart FROM project_csv WHERE Week_Position = 1 ORDER BY Week_Position ASC'\n",
    "sqldf(Position, globals())\n",
    "position_df = sqldf(Position, globals())\n",
    "position_df"
   ]
  },
  {
   "cell_type": "code",
   "execution_count": null,
   "id": "3ca18d12",
   "metadata": {},
   "outputs": [],
   "source": [
    "#position_df rename"
   ]
  },
  {
   "cell_type": "code",
   "execution_count": null,
   "id": "327385c1",
   "metadata": {},
   "outputs": [],
   "source": [
    "position_df.rename(columns = {'Week_Position' : 'Week Position', 'Weeks_on_Chart' : 'Weeks on Chart'}, inplace=True)\n",
    "position_df"
   ]
  },
  {
   "cell_type": "code",
   "execution_count": null,
   "id": "4857f333",
   "metadata": {},
   "outputs": [],
   "source": []
  },
  {
   "cell_type": "code",
   "execution_count": null,
   "id": "bcd8a11b",
   "metadata": {},
   "outputs": [],
   "source": [
    "#weeks on chart"
   ]
  },
  {
   "cell_type": "code",
   "execution_count": null,
   "id": "5ce6aefe",
   "metadata": {},
   "outputs": [],
   "source": [
    "Weeks_on_chart= 'SELECT DISTINCT(Song),Performer, WeekID as Week, Week_Position, Weeks_on_Chart FROM project_csv WHERE Week IS NOT NULL ORDER BY Weeks_on_Chart DESC'\n",
    "sqldf(Weeks_on_chart, globals())\n",
    "weeks_df = sqldf(Weeks_on_chart, globals())\n",
    "weeks_df"
   ]
  },
  {
   "cell_type": "code",
   "execution_count": null,
   "id": "c6b080bb",
   "metadata": {},
   "outputs": [],
   "source": []
  },
  {
   "cell_type": "code",
   "execution_count": null,
   "id": "92b2a7fb",
   "metadata": {},
   "outputs": [],
   "source": [
    "weeks_df.rename(columns = {'Week_Position' : 'Week Position', 'Weeks_on_Chart' : 'Weeks on Chart'}, inplace=True)\n",
    "weeks_df"
   ]
  },
  {
   "cell_type": "code",
   "execution_count": null,
   "id": "6030509b",
   "metadata": {},
   "outputs": [],
   "source": [
    "weeks_df.drop_duplicates()\n",
    "weeks"
   ]
  },
  {
   "cell_type": "code",
   "execution_count": null,
   "id": "630a1e21",
   "metadata": {},
   "outputs": [],
   "source": []
  },
  {
   "cell_type": "code",
   "execution_count": null,
   "id": "10704f4a",
   "metadata": {},
   "outputs": [],
   "source": []
  }
 ],
 "metadata": {
  "kernelspec": {
   "display_name": "Python 3 (ipykernel)",
   "language": "python",
   "name": "python3"
  },
  "language_info": {
   "codemirror_mode": {
    "name": "ipython",
    "version": 3
   },
   "file_extension": ".py",
   "mimetype": "text/x-python",
   "name": "python",
   "nbconvert_exporter": "python",
   "pygments_lexer": "ipython3",
   "version": "3.9.12"
  }
 },
 "nbformat": 4,
 "nbformat_minor": 5
}
