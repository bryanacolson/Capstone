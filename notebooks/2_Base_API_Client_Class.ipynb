{
 "cells": [
  {
   "cell_type": "code",
   "execution_count": 140,
   "id": "b4f5f4f9",
   "metadata": {},
   "outputs": [],
   "source": [
    "# import packages"
   ]
  },
  {
   "cell_type": "code",
   "execution_count": 141,
   "id": "592628f4",
   "metadata": {},
   "outputs": [],
   "source": [
    "from pandasql import sqldf\n",
    "import pandas as pd\n",
    "import numpy as np\n",
    "import matplotlib.pyplot as plt\n",
    "import seaborn as sns\n",
    "from bs4 import BeautifulSoup\n",
    "import io\n",
    "import requests"
   ]
  },
  {
   "cell_type": "code",
   "execution_count": 142,
   "id": "6dd706bb",
   "metadata": {},
   "outputs": [],
   "source": [
    "#matplotlib inline"
   ]
  },
  {
   "cell_type": "code",
   "execution_count": 143,
   "id": "60b4e950",
   "metadata": {},
   "outputs": [],
   "source": [
    "%matplotlib inline"
   ]
  },
  {
   "cell_type": "code",
   "execution_count": 144,
   "id": "aae435a6",
   "metadata": {},
   "outputs": [],
   "source": [
    "#project csv"
   ]
  },
  {
   "cell_type": "code",
   "execution_count": 145,
   "id": "11a676b9",
   "metadata": {},
   "outputs": [
    {
     "name": "stdout",
     "output_type": "stream",
     "text": [
      "                                                      url      WeekID  \\\n",
      "0       http://www.billboard.com/charts/hot-100/1965-0...   7/17/1965   \n",
      "1       http://www.billboard.com/charts/hot-100/1965-0...   7/24/1965   \n",
      "2       http://www.billboard.com/charts/hot-100/1965-0...   7/31/1965   \n",
      "3       http://www.billboard.com/charts/hot-100/1965-0...    8/7/1965   \n",
      "4       http://www.billboard.com/charts/hot-100/1965-0...   8/14/1965   \n",
      "...                                                   ...         ...   \n",
      "327890  https://www.billboard.com/charts/hot-100/2018-...  10/20/2018   \n",
      "327891  http://www.billboard.com/charts/hot-100/1977-0...   5/21/1977   \n",
      "327892  http://www.billboard.com/charts/hot-100/1981-0...   5/23/1981   \n",
      "327893  http://www.billboard.com/charts/hot-100/1973-0...   9/29/1973   \n",
      "327894  https://www.billboard.com/charts/hot-100/2020-...  11/28/2020   \n",
      "\n",
      "        Week Position                      Song                  Performer  \\\n",
      "0                  34    Don't Just Stand There                 Patty Duke   \n",
      "1                  22    Don't Just Stand There                 Patty Duke   \n",
      "2                  14    Don't Just Stand There                 Patty Duke   \n",
      "3                  10    Don't Just Stand There                 Patty Duke   \n",
      "4                   8    Don't Just Stand There                 Patty Duke   \n",
      "...               ...                       ...                        ...   \n",
      "327890             22            God Is A Woman              Ariana Grande   \n",
      "327891             22   I Wanna Get Next To You                 Rose Royce   \n",
      "327892             22          I Can't Stand It  Eric Clapton And His Band   \n",
      "327893             22  Here I Am Come & Take Me                   Al Green   \n",
      "327894             22                     Hawai        Maluma & The Weeknd   \n",
      "\n",
      "                                           SongID  Instance  \\\n",
      "0                Don't Just Stand TherePatty Duke         1   \n",
      "1                Don't Just Stand TherePatty Duke         1   \n",
      "2                Don't Just Stand TherePatty Duke         1   \n",
      "3                Don't Just Stand TherePatty Duke         1   \n",
      "4                Don't Just Stand TherePatty Duke         1   \n",
      "...                                           ...       ...   \n",
      "327890                God Is A WomanAriana Grande         1   \n",
      "327891          I Wanna Get Next To YouRose Royce         1   \n",
      "327892  I Can't Stand ItEric Clapton And His Band         1   \n",
      "327893           Here I Am Come & Take MeAl Green         1   \n",
      "327894                   HawaiMaluma & The Weeknd         1   \n",
      "\n",
      "        Previous Week Position  Peak Position  Weeks on Chart  \n",
      "0                         45.0             34               4  \n",
      "1                         34.0             22               5  \n",
      "2                         22.0             14               6  \n",
      "3                         14.0             10               7  \n",
      "4                         10.0              8               8  \n",
      "...                        ...            ...             ...  \n",
      "327890                    21.0              8              13  \n",
      "327891                    10.0             10              13  \n",
      "327892                    12.0             10              13  \n",
      "327893                    16.0             10              13  \n",
      "327894                    12.0             12              13  \n",
      "\n",
      "[327895 rows x 10 columns]\n"
     ]
    }
   ],
   "source": [
    "project_csv = pd.read_csv('../data/Hot-Stuff.csv')\n",
    "print(project_csv)"
   ]
  },
  {
   "cell_type": "code",
   "execution_count": 146,
   "id": "e651bd40",
   "metadata": {},
   "outputs": [],
   "source": [
    "#Auth"
   ]
  },
  {
   "cell_type": "code",
   "execution_count": 147,
   "id": "e52f8e9b",
   "metadata": {},
   "outputs": [
    {
     "name": "stdout",
     "output_type": "stream",
     "text": [
      "Requirement already satisfied: requests in /Users/bryancolson/opt/anaconda3/lib/python3.9/site-packages (2.27.1)\r\n",
      "Requirement already satisfied: urllib3<1.27,>=1.21.1 in /Users/bryancolson/opt/anaconda3/lib/python3.9/site-packages (from requests) (1.26.9)\r\n",
      "Requirement already satisfied: charset-normalizer~=2.0.0 in /Users/bryancolson/opt/anaconda3/lib/python3.9/site-packages (from requests) (2.0.4)\r\n",
      "Requirement already satisfied: idna<4,>=2.5 in /Users/bryancolson/opt/anaconda3/lib/python3.9/site-packages (from requests) (3.3)\r\n",
      "Requirement already satisfied: certifi>=2017.4.17 in /Users/bryancolson/opt/anaconda3/lib/python3.9/site-packages (from requests) (2022.5.18.1)\r\n"
     ]
    }
   ],
   "source": [
    "!pip install requests"
   ]
  },
  {
   "cell_type": "code",
   "execution_count": 148,
   "id": "b90f8094",
   "metadata": {},
   "outputs": [],
   "source": [
    "import base64\n",
    "import datetime"
   ]
  },
  {
   "cell_type": "code",
   "execution_count": 149,
   "id": "a9765743",
   "metadata": {},
   "outputs": [],
   "source": [
    "client_id = '6e24789ec7874259a220f747fcd7e93e'\n",
    "client_secret = '9bd8ff1ad2f34ef6a87f00124be070b2'"
   ]
  },
  {
   "cell_type": "code",
   "execution_count": 150,
   "id": "7350df12",
   "metadata": {},
   "outputs": [],
   "source": [
    "class SpotifyAPI(object):\n",
    "    access_token = None\n",
    "    access_token_expires = datetime.datetime.now()\n",
    "    access_token_did_expire = True\n",
    "    client_id = None\n",
    "    client_secret = None\n",
    "    token_url = 'https://accounts.spotify.com/api/token'\n",
    "    \n",
    "    def __init__(self, client_id, client_secret, *args, **kwargs):\n",
    "        super().__init__(*args, **kwargs)\n",
    "        self.client_id = client_id\n",
    "        self.client_secret = client_secret\n",
    "    \n",
    "    def get_clients_credentials(self):\n",
    "        \"\"\"\n",
    "        Returns a base64 encoded string\n",
    "        \"\"\"\n",
    "        client_id = self.client_id\n",
    "        client_secret = self.client_secret\n",
    "        if client_secret == None or client_id == None:\n",
    "            raise Exception('You must set client_id and client_secret')\n",
    "        client_creds = f'{client_id}:{client_secret}'\n",
    "        client_creds_b64 = base64.b64encode(client_creds.encode())\n",
    "        return client_creds_b64.decode()\n",
    "    \n",
    "    def get_token_headers(self):\n",
    "        client_creds_b64 = self.get_clients_credentials()\n",
    "        return {\n",
    "            'Authorization': f'Basic {client_creds_b64}'   \n",
    "        }\n",
    "    def get_token_data(self):\n",
    "        return {\n",
    "            'grant_type':'client_credentials'\n",
    "        }\n",
    "    def perform_auth(self):\n",
    "        token_url = self.token_url\n",
    "        token_data = self.get_token_data()\n",
    "        token_headers = self.get_token_headers()\n",
    "        r = requests.post(token_url, data=token_data, headers= token_headers)\n",
    "        print(r.json())\n",
    "        if  r.status_code in range(200, 299):\n",
    "            return False\n",
    "            data= r.json()\n",
    "            now = datetime.datetime.now()\n",
    "            access_token = data['access_token']\n",
    "            expires_in =   data['expires_in'] #seconds \n",
    "            expires = now + datetime.timedelta(seconds=expires_in)\n",
    "            self.access_token = access_token\n",
    "            self.access_token_expires = expires\n",
    "            self.access_token_did_expire = expires < now \n",
    "            return True"
   ]
  },
  {
   "cell_type": "code",
   "execution_count": 151,
   "id": "33963884",
   "metadata": {},
   "outputs": [],
   "source": [
    "spotify = SpotifyAPI(client_id, client_secret)"
   ]
  },
  {
   "cell_type": "code",
   "execution_count": 152,
   "id": "fcd63dfd",
   "metadata": {},
   "outputs": [
    {
     "name": "stdout",
     "output_type": "stream",
     "text": [
      "{'access_token': 'BQCUHiW-1Sn4RoDByY4bX8Mg-YmayzkflOAKx8OXN4QOaCBGiyO93mno7pm7izUxWR_kBXdHjp-2Sfs0gnw22hlJj2CnkXJh5C8P0q1XDocFae8-iqk', 'token_type': 'Bearer', 'expires_in': 3600}\n"
     ]
    },
    {
     "data": {
      "text/plain": [
       "False"
      ]
     },
     "execution_count": 152,
     "metadata": {},
     "output_type": "execute_result"
    }
   ],
   "source": [
    "spotify.perform_auth()"
   ]
  },
  {
   "cell_type": "code",
   "execution_count": 154,
   "id": "9a0795bf",
   "metadata": {},
   "outputs": [],
   "source": [
    "spotify.access_token"
   ]
  },
  {
   "cell_type": "code",
   "execution_count": null,
   "id": "23876a95",
   "metadata": {},
   "outputs": [],
   "source": []
  }
 ],
 "metadata": {
  "kernelspec": {
   "display_name": "Python 3 (ipykernel)",
   "language": "python",
   "name": "python3"
  },
  "language_info": {
   "codemirror_mode": {
    "name": "ipython",
    "version": 3
   },
   "file_extension": ".py",
   "mimetype": "text/x-python",
   "name": "python",
   "nbconvert_exporter": "python",
   "pygments_lexer": "ipython3",
   "version": "3.9.12"
  }
 },
 "nbformat": 4,
 "nbformat_minor": 5
}
